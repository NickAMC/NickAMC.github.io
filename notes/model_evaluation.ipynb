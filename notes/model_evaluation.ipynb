{
 "cells": [
  {
   "cell_type": "raw",
   "metadata": {},
   "source": [
    "---\n",
    "title: \"BootStrapping and K-Fold Cross Validation\"\n",
    "author: \"Nick Climaco\"\n",
    "date: today\n",
    "date-format: long\n",
    "format:\n",
    "  html:\n",
    "    toc: true\n",
    "    toc-depth: 3\n",
    "    toc-float:\n",
    "      toc-position: right\n",
    "    code-fold : false\n",
    "    code-line-numbers: true\n",
    "    html-math-method: katex\n",
    "jupyter: python3\n",
    "---"
   ]
  },
  {
   "cell_type": "code",
   "execution_count": 2,
   "metadata": {},
   "outputs": [],
   "source": [
    "import pandas as pd\n",
    "import numpy as np\n",
    "import matplotlib.pyplot as plt\n",
    "\n",
    "pd.set_option('display.max_columns', 10)\n",
    "plt.rcParams['figure.figsize'] = (10, 6)"
   ]
  },
  {
   "cell_type": "markdown",
   "metadata": {},
   "source": [
    "# Bootstrapping\n",
    "\n",
    "The central idea of bootstrapping is that you can treat your original sample of data as a proxy for the true underlying population. By repeatedly resampling from this observed sample, you simulate the process of drawing multiple samples from the unknown population.\n",
    "\n",
    "Why It Works (Intuitively)\n",
    "\n",
    "Law of Large Numbers: If your original sample is reasonably representative of the population, the more times you resample from it, the closer the distribution of your bootstrap statistics (means, medians, etc.) will approximate the true sampling distribution of that statistic.\n",
    "Empirical Distribution Function: Bootstrapping essentially creates an empirical approximation of the true population's distribution. This is useful when the theoretical distribution is unknown or difficult to work with mathematically.\n",
    "Statistical Rigor\n",
    "\n",
    "While the intuitive explanation is helpful, there's more rigorous statistical justification behind why bootstrapping provides valid results in many cases:\n",
    "\n",
    "Consistency: The bootstrap distribution of a statistic often converges to the true sampling distribution of that statistic as the sample size and the number of bootstrap samples increase. This property is called consistency.\n",
    "Central Limit Theorem: As mentioned earlier, the Central Limit Theorem is in play. The sampling distribution of means, even if drawn from a non-normal population via bootstrapping, often approaches normality. This unlocks the use of familiar statistical tools and confidence interval calculations.\n",
    "Assumptions and Limitations\n",
    "\n",
    "Representativeness: Your original sample should be reasonably representative of the underlying population. Bootstrapping can't fix fundamental biases in your data.\n",
    "Independence: Traditional bootstrapping often assumes independent observations. Special adaptations exist for time series data where observations are dependent over time.\n",
    "Computation: For complex statistics or large datasets, bootstrapping can become computationally intensive.\n",
    "Applications in Depth\n",
    "\n",
    "Confidence Intervals: The 2.5th and 97.5th percentiles of the bootstrap distribution of a statistic are commonly used to construct a 95% confidence interval for that statistic.\n",
    "Hypothesis Testing: Instead of traditional parametric tests that rely on theoretical assumptions, you can use the bootstrap distribution to estimate a p-value for a hypothesis test."
   ]
  },
  {
   "cell_type": "code",
   "execution_count": 3,
   "metadata": {},
   "outputs": [],
   "source": [
    "from sklearn.datasets import load_iris\n",
    "\n",
    "iris = load_iris()"
   ]
  },
  {
   "cell_type": "code",
   "execution_count": null,
   "metadata": {},
   "outputs": [],
   "source": []
  },
  {
   "cell_type": "markdown",
   "metadata": {},
   "source": []
  }
 ],
 "metadata": {
  "kernelspec": {
   "display_name": "ds_env",
   "language": "python",
   "name": "python3"
  },
  "language_info": {
   "codemirror_mode": {
    "name": "ipython",
    "version": 3
   },
   "file_extension": ".py",
   "mimetype": "text/x-python",
   "name": "python",
   "nbconvert_exporter": "python",
   "pygments_lexer": "ipython3",
   "version": "3.12.1"
  }
 },
 "nbformat": 4,
 "nbformat_minor": 2
}
