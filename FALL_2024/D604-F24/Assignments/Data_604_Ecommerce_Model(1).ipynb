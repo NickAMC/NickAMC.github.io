{
  "nbformat": 4,
  "nbformat_minor": 0,
  "metadata": {
    "colab": {
      "provenance": []
    },
    "kernelspec": {
      "name": "python3",
      "display_name": "Python 3"
    },
    "language_info": {
      "name": "python"
    }
  },
  "cells": [
    {
      "cell_type": "markdown",
      "source": [
        "# Data 604: E-Commerce Supply Chain Model\n",
        "\n",
        "## Objective:\n",
        " ### Develop a model that illustrates the process where a product is dispatched from a warehouse and sent to the customer, after purchasing the product through an e-commerce website.\n"
      ],
      "metadata": {
        "id": "LPcmw_yiIXSk"
      }
    },
    {
      "cell_type": "markdown",
      "source": [
        "In this project, we will create a model for a e-commerce fulfillment process. It begins with an order being created, processed at a warehouse, then picked up and delivered by a carrier. Adjusting the number of warehouses, number of workers per warehouse, and the number of carriers available will impact the average processing and shipping times of the orders."
      ],
      "metadata": {
        "id": "thWZpuemJEBj"
      }
    },
    {
      "cell_type": "code",
      "source": [
        "!pip install simpy"
      ],
      "metadata": {
        "colab": {
          "base_uri": "https://localhost:8080/"
        },
        "id": "JeKfauW1uwfI",
        "outputId": "9105bfc7-654b-4db2-9c54-ccee82b33b4c"
      },
      "execution_count": null,
      "outputs": [
        {
          "output_type": "stream",
          "name": "stdout",
          "text": [
            "Collecting simpy\n",
            "  Downloading simpy-4.1.1-py3-none-any.whl.metadata (6.1 kB)\n",
            "Downloading simpy-4.1.1-py3-none-any.whl (27 kB)\n",
            "Installing collected packages: simpy\n",
            "Successfully installed simpy-4.1.1\n"
          ]
        }
      ]
    },
    {
      "cell_type": "markdown",
      "source": [
        "First, we import the libraries we will need."
      ],
      "metadata": {
        "id": "9Q_UccDyKX0v"
      }
    },
    {
      "cell_type": "code",
      "source": [
        "import simpy\n",
        "import random"
      ],
      "metadata": {
        "id": "KZeeZu9aIWPC"
      },
      "execution_count": null,
      "outputs": []
    },
    {
      "cell_type": "markdown",
      "source": [
        "Here, we initialize the simulation environemnt and create a class object ECommerceSimulation. Notice how we create a simply.Resource instances for warehouses and carries because each warehouse has mutliple workers, while each carrier is a single delivery resourse. Also, we want to keep track of the process and shipping times  as well as the number of orders being handled.\n",
        "\n",
        "The next function we create is the process_order where this simulates an order being processed and packed at a warehouse, then ready to be delivered by a carrier. Using, yield.self.env.timeout(processing_time) to simulate processing delays.\n",
        "\n",
        "dispatch_order function is called after the orders are processed and then sent to a carrier which will deliver the package to the customers. This function also keeps track of the number of order status that are out-of-delivery, number of order handled by each carrier.\n",
        "\n",
        "The last function is this class object is handle_order where it uses the other two functions to complete an order process. When receiving an order it would send it to a warehouse for processing and then to a carrier to delivery."
      ],
      "metadata": {
        "id": "cNhgHYE3KgYr"
      }
    },
    {
      "cell_type": "code",
      "execution_count": null,
      "metadata": {
        "id": "owtN0yO8ur9v"
      },
      "outputs": [],
      "source": [
        "class ECommerceModel:\n",
        "    def __init__(self, env, num_warehouses, workers_per_warehouse, num_carriers):\n",
        "        self.env = env\n",
        "        self.warehouses = [simpy.Resource(env, capacity=workers_per_warehouse) for _ in range(num_warehouses)]\n",
        "        self.carriers = [simpy.Resource(env, capacity=1) for _ in range(num_carriers)]\n",
        "        self.warehouse_times = {i: [] for i in range(num_warehouses)}\n",
        "        self.carrier_times = {i: [] for i in range(num_carriers)}\n",
        "        self.warehouse_order_counts = {i: 0 for i in range(num_warehouses)}\n",
        "        self.carrier_order_counts = {i: 0 for i in range(num_carriers)}\n",
        "        self.orders_in_progress = 0\n",
        "        self.orders_out_for_delivery = 0\n",
        "\n",
        "    def process_order(self, warehouse_id, order_id):\n",
        "        with self.warehouses[warehouse_id].request() as request:\n",
        "            yield request\n",
        "            self.orders_in_progress += 1\n",
        "            self.warehouse_order_counts[warehouse_id] += 1\n",
        "            start_time = self.env.now\n",
        "            processing_time = random.expovariate(1 / 3)\n",
        "            yield self.env.timeout(processing_time)\n",
        "            end_time = self.env.now\n",
        "            self.warehouse_times[warehouse_id].append(end_time - start_time)\n",
        "            self.orders_in_progress -= 1\n",
        "\n",
        "    def dispatch_order(self, order_id):\n",
        "        carrier_id = random.randint(0, len(self.carriers) - 1)\n",
        "        with self.carriers[carrier_id].request() as request:\n",
        "            yield request\n",
        "            self.orders_out_for_delivery += 1\n",
        "            self.carrier_order_counts[carrier_id] += 1\n",
        "            start_time = self.env.now\n",
        "            delivery_time = random.expovariate(1 / 2)\n",
        "            yield self.env.timeout(delivery_time)\n",
        "            end_time = self.env.now\n",
        "            self.carrier_times[carrier_id].append(end_time - start_time)\n",
        "            self.orders_out_for_delivery -= 1\n",
        "\n",
        "    def handle_order(self, order_id):\n",
        "        warehouse_id = random.randint(0, len(self.warehouses) - 1)\n",
        "        yield self.env.process(self.process_order(warehouse_id, order_id))\n",
        "        yield self.env.process(self.dispatch_order(order_id))\n",
        "\n"
      ]
    },
    {
      "cell_type": "markdown",
      "source": [
        "Now, we need a way to generate orders, then the order get passed into the handle_order function for processing. Using a exponential distribution to generate syntethic data when order are created unpredictably over time."
      ],
      "metadata": {
        "id": "Cz39CWKfW4gI"
      }
    },
    {
      "cell_type": "code",
      "source": [
        "def generate_orders(env, simulation, order_interval):\n",
        "    order_id = 1\n",
        "    while True:\n",
        "        yield env.timeout(random.expovariate(1.0 / order_interval))\n",
        "        env.process(simulation.handle_order(order_id))\n",
        "        order_id += 1"
      ],
      "metadata": {
        "id": "lhEizhS6W21z"
      },
      "execution_count": null,
      "outputs": []
    },
    {
      "cell_type": "markdown",
      "source": [
        "Next is to create our simulation envirnment with simpy using simpy.Environment(). We use env.process() to keep generating new ordes for as long as the simulation is running similar to how we use 'source' is Simio. For now, we have set the simulation to duration for 1 week or 7 days. env.run() takes a time units parameter where a time unit is one hour.\n",
        "\n",
        "After running the simulation, we then print our results such as average shipping time, average processing time, and how many order were handled."
      ],
      "metadata": {
        "id": "abhSd2QWO2qZ"
      }
    },
    {
      "cell_type": "code",
      "source": [
        "def run_sim(num_warehouses, workers_per_warehouse, num_carriers, order_interval):\n",
        "\n",
        "    env = simpy.Environment()\n",
        "    simulation = ECommerceModel(env, num_warehouses, workers_per_warehouse, num_carriers)\n",
        "    env.process(generate_orders(env, simulation, order_interval))\n",
        "    simulation_duration = 24 * 7\n",
        "    env.run(until=simulation_duration)\n",
        "\n",
        "    print(\"\\n--- Simulation Results ---\")\n",
        "\n",
        "    def print_summary(title, stats):\n",
        "        print(f\"\\n{title}\")\n",
        "        for entity_id, times in stats['times'].items():\n",
        "            avg_time = sum(times) / len(times) if times else 0\n",
        "            total_orders = stats['counts'][entity_id]\n",
        "            print(f\"Entity {entity_id}: Average Time = {avg_time:.2f}, Total Orders = {total_orders}\")\n",
        "\n",
        "    overall_processing_time = sum([sum(times) for times in simulation.warehouse_times.values()])\n",
        "    total_processed_orders = sum(simulation.warehouse_order_counts.values())\n",
        "    avg_overall_processing_time = overall_processing_time / total_processed_orders if total_processed_orders > 0 else 0\n",
        "    print(f\"Overall average processing time: {avg_overall_processing_time:.2f} hours\")\n",
        "\n",
        "    overall_shipping_time = sum([sum(times) for times in simulation.carrier_times.values()])\n",
        "    total_shipped_orders = sum(simulation.carrier_order_counts.values())\n",
        "    avg_overall_shipping_time = overall_shipping_time / total_shipped_orders if total_shipped_orders > 0 else 0\n",
        "    print(f\"Overall average shipping time: {avg_overall_shipping_time:.2f} days\")\n",
        "\n",
        "\n",
        "    overall_orders_count = total_processed_orders\n",
        "    print(f\"Overall total orders handled: {overall_orders_count}\")\n",
        "\n",
        "    print(f\"Orders still being processed: {simulation.orders_in_progress}\")\n",
        "    print(f\"Orders out for delivery: {simulation.orders_out_for_delivery}\")\n",
        "\n",
        "    print_summary(\"Warehouse Summary\", {\n",
        "        'times': simulation.warehouse_times,\n",
        "        'counts': simulation.warehouse_order_counts\n",
        "    })\n",
        "\n",
        "    print_summary(\"Carrier Summary\", {\n",
        "        'times': simulation.carrier_times,\n",
        "        'counts': simulation.carrier_order_counts\n",
        "    })\n"
      ],
      "metadata": {
        "id": "QQ_pWa98Kq0w"
      },
      "execution_count": null,
      "outputs": []
    },
    {
      "cell_type": "markdown",
      "source": [
        "Finally, to run the model with the inputs we want to test. Suppose, we have a ecommerce business that has 4 carriers, 3 warehouses, and at each warehouse there exists 5 workers. Note, carriers are the delivery organizations such as USPS, FedEx, or UPS. Some companies like amazon have their own delivery system."
      ],
      "metadata": {
        "id": "PWvgEwwMutEP"
      }
    },
    {
      "cell_type": "code",
      "source": [
        "run_sim(num_warehouses=3, workers_per_warehouse=5, num_carriers=4, order_interval=0.2)\n"
      ],
      "metadata": {
        "colab": {
          "base_uri": "https://localhost:8080/"
        },
        "id": "VCyvp_Xkyk-w",
        "outputId": "383709a5-cef6-48ff-f927-bb52e2884687"
      },
      "execution_count": null,
      "outputs": [
        {
          "output_type": "stream",
          "name": "stdout",
          "text": [
            "\n",
            "--- Simulation Results ---\n",
            "Overall average processing time: 3.07 hours\n",
            "Overall average shipping time: 1.94 days\n",
            "Overall total orders handled: 771\n",
            "Orders still being processed: 15\n",
            "Orders out for delivery: 4\n",
            "\n",
            "Warehouse Summary\n",
            "Entity 0: Average Time = 3.24, Total Orders = 240\n",
            "Entity 1: Average Time = 3.06, Total Orders = 270\n",
            "Entity 2: Average Time = 3.10, Total Orders = 261\n",
            "\n",
            "Carrier Summary\n",
            "Entity 0: Average Time = 2.13, Total Orders = 77\n",
            "Entity 1: Average Time = 1.72, Total Orders = 93\n",
            "Entity 2: Average Time = 2.14, Total Orders = 78\n",
            "Entity 3: Average Time = 1.91, Total Orders = 86\n"
          ]
        }
      ]
    },
    {
      "cell_type": "markdown",
      "source": [
        "With these parameters, where there are 4 carriers, 3 warehouses and each warehouse has 5 workers, we observe that the overall processing time from order creation to package packed for delivery is 3.07 hours and the overall shipping time is 1.94 days. Below, is the breakdown of how each of warehouses and carriers performed."
      ],
      "metadata": {
        "id": "v4F23c83Q1ST"
      }
    },
    {
      "cell_type": "markdown",
      "source": [
        "Now, what if we double the workforce and set the number of workers to 10. We get,"
      ],
      "metadata": {
        "id": "1wQ0xbN7RWUU"
      }
    },
    {
      "cell_type": "code",
      "source": [
        "run_sim(num_warehouses=3, workers_per_warehouse=10, num_carriers=4, order_interval=0.2)"
      ],
      "metadata": {
        "colab": {
          "base_uri": "https://localhost:8080/"
        },
        "id": "zK4q8vsl7dI9",
        "outputId": "2cc2c50f-6bab-4d03-abd2-7193c40e8186"
      },
      "execution_count": null,
      "outputs": [
        {
          "output_type": "stream",
          "name": "stdout",
          "text": [
            "\n",
            "--- Simulation Results ---\n",
            "Overall average processing time: 2.94 hours\n",
            "Overall average shipping time: 1.86 days\n",
            "Overall total orders handled: 847\n",
            "Orders still being processed: 13\n",
            "Orders out for delivery: 4\n",
            "\n",
            "Warehouse Summary\n",
            "Entity 0: Average Time = 3.11, Total Orders = 256\n",
            "Entity 1: Average Time = 3.05, Total Orders = 292\n",
            "Entity 2: Average Time = 2.81, Total Orders = 299\n",
            "\n",
            "Carrier Summary\n",
            "Entity 0: Average Time = 2.11, Total Orders = 79\n",
            "Entity 1: Average Time = 1.99, Total Orders = 83\n",
            "Entity 2: Average Time = 1.66, Total Orders = 100\n",
            "Entity 3: Average Time = 1.82, Total Orders = 91\n"
          ]
        }
      ]
    },
    {
      "cell_type": "markdown",
      "source": [
        "With double the workers, we were able to reduce overall average time and increase the number of orders to 847 orders completed in a span of 7 days."
      ],
      "metadata": {
        "id": "UwoHMsdeRiWN"
      }
    },
    {
      "cell_type": "markdown",
      "source": [
        "In this project, we developed and demonstrated the application of a E-commerce product fulfillment process where orders are created from customers purchased then fulfilled in a warehouse and then shipped to customer's address using a carrier. We can manipulate the inputs to observe how the number of orders handled and average times changed. From this, we can find the best parameters for a given rate of orders with order_interval property.\n",
        "\n"
      ],
      "metadata": {
        "id": "wU1SjoKER1P3"
      }
    },
    {
      "cell_type": "markdown",
      "source": [
        "References:\n",
        "\n",
        "https://realpython.com/simpy-simulating-with-python/\n",
        "\n",
        "https://www.crbgroup.com/insights/consulting/warehouse-optimization"
      ],
      "metadata": {
        "id": "YzI6j38BTIG9"
      }
    }
  ]
}