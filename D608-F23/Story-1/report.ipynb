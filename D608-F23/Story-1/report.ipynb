{
 "cells": [
  {
   "cell_type": "markdown",
   "metadata": {},
   "source": [
    "# Story 1: Infrastructure Investment & Jobs Act Funding Allocation\n",
    "\n",
    "DATA 608\n",
    "\n",
    "By: Nick Climaco"
   ]
  },
  {
   "cell_type": "markdown",
   "metadata": {},
   "source": [
    "[IIJA Funding LINK](https://www.congress.gov/bill/117th-congress/house-bill/3684/text)\n",
    "\n",
    "Summary: \n",
    "\n",
    "> The Infrastructure Investment and Jobs Act (IIJA), also known as the Bipartisan Infrastructure Law, is a 1.2 trillion infrastructure spending bill that was signed into law by President Biden on November 15, 2021. The law authorizes 550 billion in new spending for a wide range of infrastructure projects, including roads, bridges, public transit, rail, airports, ports, water infrastructure, broadband internet, electric vehicle charging infrastructure, and cybersecurity. The IIJA funding is expected to create millions of jobs and boost the economy. It is the largest infrastructure investment in the United States since the Eisenhower administration."
   ]
  },
  {
   "cell_type": "markdown",
   "metadata": {},
   "source": [
    "## Questions\n",
    "\n",
    "* Is the allocation equitable based on the population of each of the States and Territories, or is bias apparent?\n",
    "\n",
    "* Does the allocation favor the political interests of the Biden administration?"
   ]
  },
  {
   "cell_type": "markdown",
   "metadata": {},
   "source": [
    "![Alt text](images/image-10.png)"
   ]
  },
  {
   "cell_type": "markdown",
   "metadata": {},
   "source": [
    "![Alt text](images/image-2.png)"
   ]
  },
  {
   "cell_type": "markdown",
   "metadata": {},
   "source": [
    "In the scatterplot showcasing the relationship of Population and Total Allocation from the IIJA, a noticable correlation between these variables becomes clear. The data does not show any clear and obvious allocation bias with the political interests of the Biden administration, suggesting that the funding decisions are not primarly influenced by political favors.\n",
    "\n",
    "However, it is worth noting some red oberservations do not conform to the general linear trend. These red states appear to receive more funding relative to blue states with similar population sizes. To detemine whether this deviation carries statistical significance, further analysis is required, shedding more light on the factors influencing these outliers."
   ]
  },
  {
   "cell_type": "markdown",
   "metadata": {
    "slideshow": {
     "slide_type": "slide"
    }
   },
   "source": [
    "![Alt text](images/image-3.png)"
   ]
  },
  {
   "cell_type": "markdown",
   "metadata": {},
   "source": [
    "The boxplot analysis reveals that the most populous states such as California and Texas receive the most funding indicating a correlation between population size and funding allocation. This suggests that the IIJUA funding is primarly based by the need to support the infrastructure demands of densely populated areas rather than political bias. Moreover, the presence of major outliers in both blue and red boxplot indicates that allocation funding is not constrained by political affiliation. In addition, the wider interquartile range(IQR) of the blue states suggests a greater variance in funding needs, meaning that the diverse infrastructure needs are considered on a case by case basis."
   ]
  },
  {
   "cell_type": "markdown",
   "metadata": {},
   "source": [
    "![Alt text](images/image-9.png)"
   ]
  },
  {
   "cell_type": "markdown",
   "metadata": {},
   "source": [
    "In the barplot showcasing the IIJA funding for all 50 states and US territories, a few patterns become clear. First, it becomes evident that US territories generally receive less funding compared to US states, reflecting their differing status and roles in overall development priorities.\n",
    "Second, another indication that there exists a correlation between population size and total funding allocation, aligning with the thought that infrastructure investements are closely tied with the need to support large population areas and other economic activities. Conversely, an observation that invites attention is where a few blue US states are receiving less funding than Puerto Rice, which is not a US state. This interesting observation warrants further investigation and analysis to better understand and gain a clear picture of the factors at play. Exploring why Puerto Rico, as a terrritory, may receive more IIJA funding than certain US states. Does this mean Puerto Rico is on its way to statehood? Without further anaylsis and investigation, these infrastructure disparities remains unclear and uncertain of its implications."
   ]
  },
  {
   "cell_type": "markdown",
   "metadata": {},
   "source": [
    "# Conclusion\n",
    "\n",
    "In conclusion, the visualization off the IIJA funding allocation reveals several key insights. First, their is a clear correlation between population size and funding, with more densely populous states generally receiving more funding. This gives importance to the needs of supporting densely populated cities and regions. Second, the observation that certain blue states receive less funding than Puerto Rico, a non US state, is interesting and invites a deeper analysis on the disparities in allocation. Overall, the data suggests that the IIJA funding decisions are primarily population based rather than being heavily influenced by political bias. "
   ]
  },
  {
   "cell_type": "markdown",
   "metadata": {},
   "source": [
    "# Resources\n",
    "\n",
    "* [Puerto Rice Population LINK](https://www.census.gov/quickfacts/fact/table/PR/PST045222)\n",
    "\n",
    "* [2020 Presidential Voters Population](https://www.cookpolitical.com/2020-national-popular-vote-tracker)\n",
    "\n",
    "* [US States Population 2023](https://worldpopulationreview.com/states)"
   ]
  }
 ],
 "metadata": {
  "kernelspec": {
   "display_name": "Python 3",
   "language": "python",
   "name": "python3"
  },
  "language_info": {
   "codemirror_mode": {
    "name": "ipython",
    "version": 3
   },
   "file_extension": ".py",
   "mimetype": "text/x-python",
   "name": "python",
   "nbconvert_exporter": "python",
   "pygments_lexer": "ipython3",
   "version": "3.11.2"
  }
 },
 "nbformat": 4,
 "nbformat_minor": 2
}
