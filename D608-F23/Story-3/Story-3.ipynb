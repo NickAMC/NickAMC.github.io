{
 "cells": [
  {
   "cell_type": "markdown",
   "metadata": {},
   "source": [
    "# Story -3 : \n",
    "\n",
    "## Do stricter gun laws reduce firearm gun deaths?\n",
    "\n",
    "The CDC publishes firearm mortality for each State per 100,000 persons https://www.cdc.gov/nchs/pressroom/sosmap/firearm_mortality/firearm.htm. Each State' firearm control laws can be categorized as very strict to very lax. \n",
    "\n",
    "The purpose of this Story is to answer the question, \" Do stricter firearm control laws help reduce firearm mortality?\"\n",
    "\n",
    "For this assignment you will need to:\n",
    "\n",
    "* Access the firearm mortality data from the CDC using an available API (https://open.cdc.gov/apis.html)\n",
    "\n",
    "* Create a 5 point Likert scale categorizing gun control laws from most lax to strictest and assign each state to the most appropriate Likert bin.\n",
    "\n",
    "* Determine wether stricter gun control laws result in reduced gun violence deaths\n",
    "\n",
    "Present your story using  heat maps\n",
    "Notes:\n",
    "\n",
    "You may not use the same desktop application that you have used for a previous story.\n",
    "\n",
    "If you use color in your visuals you must use an accessible color palette. \n",
    "\n",
    "This assignment is due at the end of the week six of the semester"
   ]
  },
  {
   "cell_type": "code",
   "execution_count": 17,
   "metadata": {},
   "outputs": [],
   "source": [
    "# Request data from API\n",
    "import requests \n",
    "import pandas as pd\n",
    "\n",
    "response = requests.get(\"https://data.cdc.gov/resource/489q-934x.csv\")\n",
    "\n",
    "if response.status_code == 200:\n",
    "    csv_data = response.text\n",
    "\n",
    "    with open(\"cdc_data.csv\", \"w\") as csv_file:\n",
    "        csv_file.write(csv_data)\n",
    "else:\n",
    "    print(f\"Failed to retrieve the data. Status code: {response.status_code}\")"
   ]
  },
  {
   "cell_type": "code",
   "execution_count": 18,
   "metadata": {},
   "outputs": [],
   "source": [
    "from io import StringIO\n",
    "\n",
    "csv_file = StringIO(csv_data)\n",
    "\n",
    "df = pd.read_csv(csv_file)"
   ]
  },
  {
   "cell_type": "code",
   "execution_count": 20,
   "metadata": {},
   "outputs": [
    {
     "data": {
      "text/plain": [
       "['All causes',\n",
       " 'Alzheimer disease',\n",
       " 'COVID-19',\n",
       " 'Cancer',\n",
       " 'Chronic liver disease and cirrhosis',\n",
       " 'Chronic lower respiratory diseases',\n",
       " 'Diabetes',\n",
       " 'Drug overdose',\n",
       " 'Falls, ages 65 and over',\n",
       " 'Firearm-related injury',\n",
       " 'Heart disease',\n",
       " 'HIV disease',\n",
       " 'Homicide',\n",
       " 'Hypertension',\n",
       " 'Influenza and pneumonia',\n",
       " 'Kidney disease',\n",
       " 'Parkinson disease',\n",
       " 'Pneumonitis due to solids and liquids',\n",
       " 'Septicemia',\n",
       " 'Stroke',\n",
       " 'Suicide',\n",
       " 'Unintentional injuries']"
      ]
     },
     "execution_count": 20,
     "metadata": {},
     "output_type": "execute_result"
    }
   ],
   "source": [
    "# looking for firearm related deaths\n",
    "df[\"cause_of_death\"].unique().tolist()"
   ]
  },
  {
   "cell_type": "code",
   "execution_count": 22,
   "metadata": {},
   "outputs": [],
   "source": [
    "# filter fire-arm related deaths\n",
    "\n",
    "firearm_df = df.filter(df[\"cause_of_death\"] == \"Firearm-related injury\")"
   ]
  }
 ],
 "metadata": {
  "kernelspec": {
   "display_name": "Python 3",
   "language": "python",
   "name": "python3"
  },
  "language_info": {
   "name": "python",
   "version": "3.11.2"
  }
 },
 "nbformat": 4,
 "nbformat_minor": 2
}
