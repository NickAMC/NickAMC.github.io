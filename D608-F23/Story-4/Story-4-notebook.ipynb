{
 "cells": [
  {
   "cell_type": "code",
   "execution_count": 2,
   "metadata": {},
   "outputs": [],
   "source": [
    "import pandas as pd \n",
    "import numpy as np\n",
    "import re\n",
    "import csv\n",
    "import json\n",
    "from time import sleep\n",
    "from bs4 import BeautifulSoup\n",
    "import requests"
   ]
  },
  {
   "cell_type": "code",
   "execution_count": null,
   "metadata": {},
   "outputs": [],
   "source": [
    "# https://www.youtube.com/watch?v=nZtzNTiBejM Webscraping in Python VOD"
   ]
  },
  {
   "cell_type": "code",
   "execution_count": 6,
   "metadata": {},
   "outputs": [],
   "source": [
    "def extract_salary_info(job_title, state) :\n",
    "    template = \"https://www.salary.com/research/salary/listing/{}-salary/{}\"\n",
    "    \n",
    "    url = template.format(job_title, state)\n",
    "    \n",
    "    try:\n",
    "        response = requests.get(url)\n",
    "        if response.status_code != 200:\n",
    "            return None\n",
    "    except requests.exceptions.ConnectionError:\n",
    "        return None\n",
    "    \n",
    "    soup = BeautifulSoup(response.text, \"html.parser\")\n",
    "    pattern = re.compile(r'Occupation')\n",
    "    script = soup.find(\"script\", {\"type\" : \"application/ld+json\"}, text = pattern)\n",
    "    \n",
    "    json_raw = script.contents[0]\n",
    "    json_data = json.loads(json_raw)\n",
    "    \n",
    "    job_title = json_data[\"name\"]\n",
    "    location = json_data[\"occupationLocation\"][0][\"name\"]\n",
    "\n",
    "    pct_10 = json_data[\"estimatedSalary\"][0][\"percentile10\"]\n",
    "    pct_25= json_data[\"estimatedSalary\"][0][\"percentile25\"]\n",
    "    pct_median = json_data[\"estimatedSalary\"][0][\"median\"]\n",
    "    pct_75 = json_data[\"estimatedSalary\"][0][\"percentile75\"]\n",
    "    pct_90= json_data[\"estimatedSalary\"][0][\"percentile90\"]\n",
    "\n",
    "    salary_data = (job_title, location, pct_10, pct_25,pct_median,pct_75,pct_90)\n",
    "    \n",
    "    return salary_data\n",
    "    "
   ]
  },
  {
   "cell_type": "code",
   "execution_count": 39,
   "metadata": {},
   "outputs": [],
   "source": [
    "state_abbr = ['AL', 'AK', 'AZ', 'AR', 'CA', 'CO', 'CT', 'DE', 'FL', 'GA', 'HI', 'ID', 'IL', 'IN', 'IA', 'KS', 'KY', 'LA', 'ME', 'MD', 'MA', 'MI', 'MN', 'MS', 'MO', 'MT', 'NE', 'NV', 'NH', 'NJ', 'NM', 'NY', 'NC', 'ND', 'OH', 'OK', 'OR', 'PA', 'RI', 'SC', 'SD', 'TN', 'TX', 'UT', 'VT', 'VA', 'WA', 'WV', 'WI', 'WY']\n",
    "\n",
    "state_abbr = pd.DataFrame(state_abbr)\n",
    "state_abbr.to_csv(\"us_states.csv\", index = False)"
   ]
  },
  {
   "cell_type": "code",
   "execution_count": 41,
   "metadata": {},
   "outputs": [],
   "source": [
    "def main(job_title):\n",
    "\n",
    "    with open('us_states.csv', newline=\"\") as f:\n",
    "        reader = csv.reader(f)\n",
    "        states = [state for row in reader for state in row]\n",
    "        \n",
    "    salary_data = []\n",
    "\n",
    "    for state in states:\n",
    "        result = extract_salary_info(job_title, state)\n",
    "        if result:\n",
    "            salary_data.append(result)\n",
    "            sleep(0.5)\n",
    "            \n",
    "    with open(\"salary-results.csv\", \"w\", newline=\"\", encoding=\"utf-8\") as f:\n",
    "        writer = csv.writer(f)\n",
    "        writer.writerow([\"Title\",\"Location\",\"pct_10\",\"pct_25\", \"pct_median\", \"pct_75\",\"pct_90\"])\n",
    "        writer.writerow(salary_data)\n",
    "        \n",
    "    return salary_data\n",
    "        "
   ]
  },
  {
   "cell_type": "code",
   "execution_count": 42,
   "metadata": {},
   "outputs": [],
   "source": [
    "data_jobs = [\"data-scientist\", \"data-analyst\", \"data-engineer\", 'data-architect','machine-learning-research-scientist',\n",
    "             'machine-learning-engineer', 'analyst-business-intelligence', 'quantitative-analyst']"
   ]
  },
  {
   "cell_type": "code",
   "execution_count": 43,
   "metadata": {},
   "outputs": [
    {
     "name": "stderr",
     "output_type": "stream",
     "text": [
      "C:\\Users\\Nick Climaco\\AppData\\Local\\Temp\\ipykernel_28248\\3217170142.py:15: DeprecationWarning: The 'text' argument to find()-type methods is deprecated. Use 'string' instead.\n",
      "  script = soup.find(\"script\", {\"type\" : \"application/ld+json\"}, text = pattern)\n",
      "C:\\Users\\Nick Climaco\\AppData\\Local\\Temp\\ipykernel_28248\\3217170142.py:15: DeprecationWarning: The 'text' argument to find()-type methods is deprecated. Use 'string' instead.\n",
      "  script = soup.find(\"script\", {\"type\" : \"application/ld+json\"}, text = pattern)\n"
     ]
    }
   ],
   "source": [
    "all_dfs = []\n",
    "for job in data_jobs:\n",
    "    df = pd.DataFrame(main(job))\n",
    "    all_dfs.append(df)\n",
    "    \n",
    "all_salaries = pd.concat(all_dfs)\n",
    "# runtime 36m 34.4s"
   ]
  },
  {
   "cell_type": "code",
   "execution_count": 45,
   "metadata": {},
   "outputs": [
    {
     "data": {
      "text/plain": [
       "50"
      ]
     },
     "execution_count": 45,
     "metadata": {},
     "output_type": "execute_result"
    }
   ],
   "source": [
    "\n",
    "all_salaries[1].nunique()"
   ]
  },
  {
   "cell_type": "code",
   "execution_count": 46,
   "metadata": {},
   "outputs": [],
   "source": [
    "data_jobs_salary_df = all_salaries.copy()\n",
    "data_jobs_salary_df.columns = [\"Title\", \"Location\", \"Pct_10\",\"Pct_25\",\"Median\",\"Pct_75\",\"PCt_90\"]"
   ]
  },
  {
   "cell_type": "code",
   "execution_count": 48,
   "metadata": {},
   "outputs": [],
   "source": [
    "data_jobs_salary_df[['Title', 'Location']] = data_jobs_salary_df[['Title', 'Location']].astype(str)\n",
    "data_jobs_salary_df[['Pct_10', 'Pct_25', 'Median', 'Pct_75', 'PCt_90']] = data_jobs_salary_df[['Pct_10', 'Pct_25', 'Median', 'Pct_75', 'PCt_90']].astype(int)"
   ]
  },
  {
   "cell_type": "code",
   "execution_count": 49,
   "metadata": {},
   "outputs": [
    {
     "name": "stdout",
     "output_type": "stream",
     "text": [
      "++++++++++++++++++++++++++++++++++++++++++++++++++++++++++++++++++++++++++++++++\n",
      "DIMENSIONS : (350, 7)\n",
      "++++++++++++++++++++++++++++++++++++++++++++++++++++++++++++++++++++++++++++++++\n",
      "COULMNS: \n",
      "\n",
      "['Title' 'Location' 'Pct_10' 'Pct_25' 'Median' 'Pct_75' 'PCt_90']\n",
      "++++++++++++++++++++++++++++++++++++++++++++++++++++++++++++++++++++++++++++++++\n",
      "DATA INFO: \n",
      "\n",
      "Title       object\n",
      "Location    object\n",
      "Pct_10       int32\n",
      "Pct_25       int32\n",
      "Median       int32\n",
      "Pct_75       int32\n",
      "PCt_90       int32\n",
      "dtype: object\n",
      "++++++++++++++++++++++++++++++++++++++++++++++++++++++++++++++++++++++++++++++++\n",
      "MISSING VALUES: \n",
      "\n",
      "Title       0\n",
      "Location    0\n",
      "Pct_10      0\n",
      "Pct_25      0\n",
      "Median      0\n",
      "Pct_75      0\n",
      "PCt_90      0\n",
      "dtype: int64\n",
      "++++++++++++++++++++++++++++++++++++++++++++++++++++++++++++++++++++++++++++++++\n",
      "NUMBER OF UNIQUE VALUES: \n",
      "\n",
      "Title         7\n",
      "Location     50\n",
      "Pct_10      350\n",
      "Pct_25      350\n",
      "Median      349\n",
      "Pct_75      349\n",
      "PCt_90      349\n",
      "dtype: int64\n"
     ]
    }
   ],
   "source": [
    "def show_summary(df) :\n",
    "    \n",
    "    print(80 * \"+\")\n",
    "    print(f\"DIMENSIONS : ({df.shape[0]}, {df.shape[1]})\")\n",
    "    \n",
    "    print(80 * \"+\")\n",
    "    print(\"COULMNS: \\n\")\n",
    "    print(df.columns.values)\n",
    "    \n",
    "    print(80 * \"+\")\n",
    "    print(\"DATA INFO: \\n\")\n",
    "    print(df.dtypes)\n",
    "    \n",
    "    print(80 * \"+\")\n",
    "    print(\"MISSING VALUES: \\n\")\n",
    "    print(df.isnull().sum())\n",
    "    \n",
    "    print(80 * \"+\")\n",
    "    print(\"NUMBER OF UNIQUE VALUES: \\n\")\n",
    "    print(df.nunique())\n",
    "    \n",
    "show_summary(data_jobs_salary_df)"
   ]
  },
  {
   "cell_type": "code",
   "execution_count": 52,
   "metadata": {},
   "outputs": [],
   "source": [
    "data_jobs_salary_df.to_csv(\"data_jobs_salaries.csv\", index = True)"
   ]
  }
 ],
 "metadata": {
  "kernelspec": {
   "display_name": "Python 3",
   "language": "python",
   "name": "python3"
  },
  "language_info": {
   "codemirror_mode": {
    "name": "ipython",
    "version": 3
   },
   "file_extension": ".py",
   "mimetype": "text/x-python",
   "name": "python",
   "nbconvert_exporter": "python",
   "pygments_lexer": "ipython3",
   "version": "3.12.1"
  }
 },
 "nbformat": 4,
 "nbformat_minor": 2
}
