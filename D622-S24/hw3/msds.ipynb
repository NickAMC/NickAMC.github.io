{
 "cells": [
  {
   "cell_type": "raw",
   "metadata": {
    "vscode": {
     "languageId": "raw"
    }
   },
   "source": [
    "---\n",
    "title: \"Tree-Based Models\"         \n",
    "author: \"Nick Climaco\"\n",
    "date: today\n",
    "date-format: long\n",
    "format:\n",
    "  html:\n",
    "    toc: true\n",
    "    toc-depth: 3\n",
    "    toc-float:\n",
    "      toc-position: right\n",
    "    code-fold : false\n",
    "    code-line-numbers: true\n",
    "    mathjax: true\n",
    "jupyter: python3\n",
    "---"
   ]
  },
  {
   "cell_type": "markdown",
   "metadata": {},
   "source": [
    "Perform an analysis of the dataset(s) used in Homework #2 using the SVM algorithm. Compare the results with the results from previous homework.\n",
    "\n",
    "Homework #3\n",
    "Read the following articles:\n",
    "https://www.hindawi.com/journals/complexity/2021/5550344/\n",
    "https://www.ncbi.nlm.nih.gov/pmc/articles/PMC8137961/\n",
    "Search for academic content (at least 3 articles) that compare the use of decision trees vs SVMs in your current area of expertise.\n",
    "Perform an analysis of the dataset used in Homework #2 using the SVM algorithm.\n",
    "Compare the results with the results from previous homework.\n",
    "Answer questions, such as:\n",
    "Which algorithm is recommended to get more accurate results?\n",
    "Is it better for classification or regression scenarios?\n",
    "Do you agree with the recommendations?\n",
    "Why?\n",
    "Format\n",
    "Essay (minimum 500 word document)\n",
    "Write a short essay explaining your selection of algorithms and how they relate to the data and what you are trying to do\n",
    "Analysis using R or Python (submit code + errors + analysis as notebook or copy/paste to document)\n",
    "Include analysis R (or Python) code.\n"
   ]
  },
  {
   "cell_type": "code",
   "execution_count": 1,
   "metadata": {},
   "outputs": [],
   "source": [
    "import pandas as pd \n",
    "import numpy as np \n",
    "import matplotlib.pyplot as plt \n",
    "import seaborn as sns\n"
   ]
  },
  {
   "cell_type": "code",
   "execution_count": 5,
   "metadata": {},
   "outputs": [],
   "source": [
    "#| echo : false\n",
    "\n",
    "# load preprocessed data from hw2\n",
    "\n",
    "data = pd.read_csv('c:/Users/nickc/DataScience/NickAMC.github.io/D622-S24/hw2/airline_df_pp.csv').drop('index', axis =1)"
   ]
  },
  {
   "cell_type": "code",
   "execution_count": 6,
   "metadata": {},
   "outputs": [
    {
     "data": {
      "text/plain": [
       "Index(['Seat Comfort', 'Cabin Staff Service', 'Ground Service',\n",
       "       'Food & Beverages', 'Inflight Entertainment', 'Value For Money',\n",
       "       'Review Sentiment', 'Seat_Types_Business Class',\n",
       "       'Seat_Types_Economy Class', 'Seat_Types_First Class',\n",
       "       'Seat_Types_Premium Economy', 'Type_of_Travellers_Business',\n",
       "       'Type_of_Travellers_Couple Leisure',\n",
       "       'Type_of_Travellers_Family Leisure', 'Type_of_Travellers_Solo Leisure',\n",
       "       'Recommended'],\n",
       "      dtype='object')"
      ]
     },
     "execution_count": 6,
     "metadata": {},
     "output_type": "execute_result"
    }
   ],
   "source": [
    "data.columns"
   ]
  },
  {
   "cell_type": "code",
   "execution_count": 12,
   "metadata": {},
   "outputs": [],
   "source": [
    "X = data.drop('Recommended', axis = 1)\n",
    "y = data['Recommended']"
   ]
  },
  {
   "cell_type": "code",
   "execution_count": 11,
   "metadata": {},
   "outputs": [
    {
     "data": {
      "text/plain": [
       "array(['no', 'no', 'no', ..., 'yes', 'yes', 'no'], dtype=object)"
      ]
     },
     "execution_count": 11,
     "metadata": {},
     "output_type": "execute_result"
    }
   ],
   "source": []
  },
  {
   "cell_type": "markdown",
   "metadata": {},
   "source": [
    "---"
   ]
  },
  {
   "cell_type": "markdown",
   "metadata": {},
   "source": [
    "Answer questions, such as:\n",
    "\n",
    "* Which algorithm is recommended to get more accurate results?\n",
    "\n",
    "* Is it better for classification or regression scenarios?\n",
    "\n",
    "\n",
    "* Do you agree with the recommendations?\n",
    "\n",
    "Why?"
   ]
  }
 ],
 "metadata": {
  "kernelspec": {
   "display_name": ".venv",
   "language": "python",
   "name": "python3"
  },
  "language_info": {
   "codemirror_mode": {
    "name": "ipython",
    "version": 3
   },
   "file_extension": ".py",
   "mimetype": "text/x-python",
   "name": "python",
   "nbconvert_exporter": "python",
   "pygments_lexer": "ipython3",
   "version": "3.11.8"
  }
 },
 "nbformat": 4,
 "nbformat_minor": 2
}
