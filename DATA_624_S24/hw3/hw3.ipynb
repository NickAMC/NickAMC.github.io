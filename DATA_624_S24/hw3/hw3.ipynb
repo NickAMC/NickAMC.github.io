{
 "cells": [
  {
   "cell_type": "raw",
   "metadata": {},
   "source": [
    "---\n",
    "title: \"Homework 3\"\n",
    "author: \"Nick Climaco\"\n",
    "date: today\n",
    "date-format: long\n",
    "format:\n",
    "  pdf:\n",
    "    toc: true\n",
    "    documentclass: article\n",
    "    fontsize: 11pt\n",
    "    geometry: margin=1in\n",
    "    highlight: tango\n",
    "    number-sections: true \n",
    "jupyter: python3\n",
    "---"
   ]
  },
  {
   "cell_type": "markdown",
   "metadata": {},
   "source": [
    "# Chapter 5: The Forecaster's Toolbox "
   ]
  },
  {
   "cell_type": "code",
   "execution_count": 2,
   "metadata": {},
   "outputs": [],
   "source": [
    "#| echo: false\n",
    "import pandas as pd \n",
    "import numpy as np\n",
    "import matplotlib.pyplot as plt \n",
    "import seaborn as sns"
   ]
  },
  {
   "cell_type": "markdown",
   "metadata": {},
   "source": [
    "## Exercise 1\n",
    "\n",
    "Produce forecasts for the following series using whichever of NAIVE(y), SNAIVE(y) or RW(y ~ drift()) is more appropriate in each case:\n",
    "\n",
    "Australian Population (global_economy)\n",
    "Bricks (aus_production)\n",
    "NSW Lambs (aus_livestock)\n",
    "Household wealth (hh_budget).\n",
    "Australian takeaway food turnover (aus_retail)."
   ]
  },
  {
   "cell_type": "code",
   "execution_count": null,
   "metadata": {},
   "outputs": [],
   "source": [
    "\n"
   ]
  },
  {
   "cell_type": "markdown",
   "metadata": {},
   "source": [
    "\n",
    "## Exercise 2\n",
    "\n",
    "Use the Facebook stock price (data set gafa_stock) to do the following:\n",
    "\n",
    "Produce a time plot of the series.\n",
    "Produce forecasts using the drift method and plot them.\n",
    "Show that the forecasts are identical to extending the line drawn between the first and last observations.\n",
    "Try using some of the other benchmark functions to forecast the same data set. Which do you think is best? Why?"
   ]
  },
  {
   "cell_type": "code",
   "execution_count": null,
   "metadata": {},
   "outputs": [],
   "source": []
  },
  {
   "cell_type": "markdown",
   "metadata": {},
   "source": [
    "## Exercise 3\n",
    "\n",
    " Apply a seasonal naïve method to the quarterly Australian beer production data from 1992. Check if the residuals look like white noise, and plot the forecasts. The following code will help.\n",
    "\n",
    "```{r}\n",
    "# Extract data of interest\n",
    "recent_production <- aus_production |>\n",
    "  filter(year(Quarter) >= 1992)\n",
    "\n",
    "# Define and estimate a model\n",
    "fit <- recent_production |> model(SNAIVE(Beer))\n",
    "#Look at the residuals\n",
    "\n",
    "fit |> gg_tsresiduals()\n",
    "\n",
    "# Look a some forecasts\n",
    "fit |> forecast() |> autoplot(recent_production)\n",
    "```\n",
    "\n",
    "#### What do you conclude?"
   ]
  },
  {
   "cell_type": "code",
   "execution_count": null,
   "metadata": {},
   "outputs": [],
   "source": []
  },
  {
   "cell_type": "markdown",
   "metadata": {},
   "source": [
    "#### 4) Repeat the previous exercise using the Australian Exports series from `global_economy` and the Bricks series from `aus_production`. Use whichever of NAIVE() or SNAIVE() is more appropriate in each case."
   ]
  },
  {
   "cell_type": "markdown",
   "metadata": {},
   "source": [
    "## Exercise 4\n",
    "\n",
    "Repeat the previous exercise using the Australian Exports series from global_economy and the Bricks series from aus_production. Use whichever of NAIVE() or SNAIVE() is more appropriate in each case"
   ]
  },
  {
   "cell_type": "markdown",
   "metadata": {},
   "source": [
    "## Exercise 7\n",
    "\n",
    " For your retail time series (from Exercise 7 in Section 2.10):\n",
    "\n",
    "a. Create a training dataset consisting of observations before 2011 using\n",
    "\n",
    "```{r}\n",
    "myseries_train <- myseries |>\n",
    "  filter(year(Month) < 2011)\n",
    "```\n",
    "\n",
    "b. Check that your data have been split appropriately by producing the following plot.\n",
    "```\n",
    "autoplot(myseries, Turnover) +\n",
    "  autolayer(myseries_train, Turnover, colour = \"red\")\n",
    "```\n",
    "c. Fit a seasonal naïve model using SNAIVE() applied to your training data (myseries_train).\n",
    "```\n",
    "fit <- myseries_train |>\n",
    "  model(SNAIVE())\n",
    "```\n",
    "d. Check the residuals.\n",
    "```\n",
    "fit |> gg_tsresiduals()\n",
    "```\n",
    "Do the residuals appear to be uncorrelated and normally distributed?\n",
    "\n",
    "e.Produce forecasts for the test data\n",
    "\n",
    "```\n",
    "fc <- fit |>\n",
    "  forecast(new_data = anti_join(myseries, myseries_train))\n",
    "fc |> autoplot(myseries)\n",
    "```\n",
    "f. Compare the accuracy of your forecasts against the actual values.\n",
    "\n",
    "```\n",
    "fit |> accuracy()\n",
    "fc |> accuracy(myseries)\n",
    "```\n",
    "\n",
    "g.How sensitive are the accuracy measures to the amount of training data used?"
   ]
  },
  {
   "cell_type": "code",
   "execution_count": null,
   "metadata": {},
   "outputs": [],
   "source": []
  }
 ],
 "metadata": {
  "kernelspec": {
   "display_name": "ds_env",
   "language": "python",
   "name": "python3"
  },
  "language_info": {
   "codemirror_mode": {
    "name": "ipython",
    "version": 3
   },
   "file_extension": ".py",
   "mimetype": "text/x-python",
   "name": "python",
   "nbconvert_exporter": "python",
   "pygments_lexer": "ipython3",
   "version": "3.12.1"
  }
 },
 "nbformat": 4,
 "nbformat_minor": 2
}
