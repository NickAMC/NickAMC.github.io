{
  "cells": [
    {
      "attachments": {},
      "cell_type": "markdown",
      "metadata": {
        "colab_type": "text",
        "id": "view-in-github"
      },
      "source": [
        "<a href=\"https://colab.research.google.com/github/Nick-Climaco/DATA-602-NC/blob/main/data602assignment1.ipynb\" target=\"_parent\"><img src=\"https://colab.research.google.com/assets/colab-badge.svg\" alt=\"Open In Colab\"/></a>"
      ]
    },
    {
      "attachments": {},
      "cell_type": "markdown",
      "metadata": {
        "id": "AVRYEA1Nl-lS"
      },
      "source": [
        "Q1 :Fix all the syntax and logical errors in the given source code \n",
        "add comments to explain your reasoning\n",
        "\n",
        "This program gets three test scores and displays their average. It congratulates the user if the average is a high score. The high score variable holds the value that is considered a high score"
      ]
    },
    {
      "cell_type": "code",
      "execution_count": null,
      "metadata": {
        "id": "8AtuMliaoWXS"
      },
      "outputs": [],
      "source": [
        "# Initialize what is considered to be high score\n",
        "HIGH_SCORE = 95"
      ]
    },
    {
      "cell_type": "code",
      "execution_count": null,
      "metadata": {
        "colab": {
          "base_uri": "https://localhost:8080/"
        },
        "id": "vlI4sEY5lweW",
        "outputId": "b4479ba7-f76e-41b3-ab70-6c66933ef8ec"
      },
      "outputs": [
        {
          "name": "stdout",
          "output_type": "stream",
          "text": [
            "Enter the score for test 1: 100\n",
            "Enter the score for test 2: 50\n",
            "Enter the score for test 3: 25\n"
          ]
        }
      ],
      "source": [
        "# take 3 input from user for the three test scores\n",
        "test1 = int(input(\"Enter the score for test 1: \"))\n",
        "test2 = int(input(\"Enter the score for test 2: \"))\n",
        "test3 = int(input(\"Enter the score for test 3: \"))"
      ]
    },
    {
      "cell_type": "code",
      "execution_count": null,
      "metadata": {
        "colab": {
          "base_uri": "https://localhost:8080/"
        },
        "id": "8BpstjEdmxpW",
        "outputId": "940f6105-b8e4-4724-eb99-e2f96d44440e"
      },
      "outputs": [
        {
          "name": "stdout",
          "output_type": "stream",
          "text": [
            "The average score is  58.33\n"
          ]
        }
      ],
      "source": [
        "# computes  average scores and stores it avg_score\n",
        "# then prints avg_score with round() to limit two decimals\n",
        "avg_score = (test1 + test2 + test3) / 3\n",
        "print(\"The average score is \", round(avg_score, 2))"
      ]
    },
    {
      "cell_type": "code",
      "execution_count": null,
      "metadata": {
        "id": "dgpmo4PxoidQ"
      },
      "outputs": [],
      "source": [
        "# if else statement to print two diffrent strings \n",
        "# based the condition if the avg_score is greater or equal to the designated high score.\n",
        "\n",
        "if avg_score >= HIGH_SCORE :\n",
        "    print(\"Congratulations! You're an academic weapon.\")\n",
        "else :\n",
        "    print(\"This is your average score on the three tests. Good Work!\")"
      ]
    },
    {
      "attachments": {},
      "cell_type": "markdown",
      "metadata": {
        "id": "YuLxWL5dpvZi"
      },
      "source": [
        "Q2 : The area of a rectangle is the rectangle’s length times its width. Write a program that asks for the length and width of two rectangles and prints to the user the area of both rectangles. \n",
        "\n",
        "\n",
        "\n",
        "\n"
      ]
    },
    {
      "cell_type": "code",
      "execution_count": null,
      "metadata": {
        "colab": {
          "base_uri": "https://localhost:8080/"
        },
        "id": "MzvZ9bukp50z",
        "outputId": "294ff17b-e265-4d6a-ce6b-4ce770738018"
      },
      "outputs": [
        {
          "name": "stdout",
          "output_type": "stream",
          "text": [
            "Enter the length of rectangle one: 10\n",
            "Enter the width of rectangle one: 15\n",
            "Enter the length of rectangle two: 12\n",
            "Enter the width of rectangle two: 14\n"
          ]
        }
      ],
      "source": [
        "# So, we want to ask the user for lengths and width for two rectangles.\n",
        "# typecasteed float because the input is a measurement\n",
        "length_1 = float(input(\"Enter the length of rectangle one: \"))\n",
        "width_1 = float(input(\"Enter the width of rectangle one: \"))\n",
        "\n",
        "length_2 = float(input(\"Enter the length of rectangle two: \"))\n",
        "width_2 = float(input(\"Enter the width of rectangle two: \"))"
      ]
    },
    {
      "cell_type": "code",
      "execution_count": null,
      "metadata": {
        "colab": {
          "base_uri": "https://localhost:8080/"
        },
        "id": "UScgRVQoRJuA",
        "outputId": "e662d310-d62d-420c-f440-b036500d0a69"
      },
      "outputs": [
        {
          "name": "stdout",
          "output_type": "stream",
          "text": [
            "The area of the first rectangle is 150.0\n",
            "The area of the second rectangle is 168.0\n"
          ]
        }
      ],
      "source": [
        "# Compute the area of the two rectangles\n",
        "rect_1 = length_1 * width_1\n",
        "rect_2 = length_2 * width_2\n",
        "\n",
        "print(\"The area of the first rectangle is\" , round(rect_1, 2))\n",
        "print(\"The area of the second rectangle is\" , round(rect_2, 2))"
      ]
    },
    {
      "attachments": {},
      "cell_type": "markdown",
      "metadata": {
        "id": "gs5OibPmUBEz"
      },
      "source": [
        "Q3 : #Ask a user to enter their first name and their age and assign it to the variables name and age. \n",
        "The variable name should be a string and the variable age should be an int.  \n",
        "\n",
        "Using the variables name and age, print a message to the user stating something along the lines of:\n",
        "\"Happy birthday, name!  You are age years old today!"
      ]
    },
    {
      "cell_type": "code",
      "execution_count": null,
      "metadata": {
        "colab": {
          "base_uri": "https://localhost:8080/"
        },
        "id": "56zLrQR_T-st",
        "outputId": "435f0218-fb1a-40c3-bd52-532a445f5bb8"
      },
      "outputs": [
        {
          "name": "stdout",
          "output_type": "stream",
          "text": [
            "Please enter your first name:Nick\n",
            "Please enter your age:24\n",
            "Happy Birthday, Nick! You are 24 years old today!\n"
          ]
        }
      ],
      "source": [
        "# asks user for first name and age.\n",
        "# note: input() returns a string by default\n",
        "first_name = input(\"Please enter your first name:\")\n",
        "age = int(input(\"Please enter your age:\"))\n",
        "\n",
        "print(\"Happy Birthday, {0}! You are {1} years old today!\".format(first_name, age))"
      ]
    }
  ],
  "metadata": {
    "colab": {
      "authorship_tag": "ABX9TyOA412e22hKkuHqgaofhsOC",
      "include_colab_link": true,
      "provenance": []
    },
    "kernelspec": {
      "display_name": "Python 3",
      "name": "python3"
    },
    "language_info": {
      "name": "python"
    }
  },
  "nbformat": 4,
  "nbformat_minor": 0
}
