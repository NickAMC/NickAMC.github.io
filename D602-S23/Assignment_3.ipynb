{
  "cells": [
    {
      "cell_type": "markdown",
      "metadata": {
        "colab_type": "text",
        "id": "view-in-github"
      },
      "source": [
        "<a href=\"https://colab.research.google.com/github/Nick-Climaco/DATA-602-NC/blob/main/Assignment_3.ipynb\" target=\"_parent\"><img src=\"https://colab.research.google.com/assets/colab-badge.svg\" alt=\"Open In Colab\"/></a>"
      ]
    },
    {
      "cell_type": "markdown",
      "metadata": {
        "id": "JvwfRyVcDAx6"
      },
      "source": [
        "Question 1\n",
        "\n",
        "\n",
        "\n",
        "Write a program that prompts the user for a meal: breakfast, lunch, or dinner. Then using if statements and else statements print the user a message recommending a meal. For example, if the meal was breakfast, you could say something like, “How about some bacon and eggs?”\n",
        "The user may enter something else in, but you only have to respond to breakfast, lunch, or dinner.\n"
      ]
    },
    {
      "cell_type": "code",
      "execution_count": null,
      "metadata": {
        "colab": {
          "base_uri": "https://localhost:8080/"
        },
        "id": "a27QLm9e_j6t",
        "outputId": "94f20a65-5c5a-49e2-b72d-2895cb4de143"
      },
      "outputs": [
        {
          "name": "stdout",
          "output_type": "stream",
          "text": [
            "Enter the type of meal: lunch\n",
            "Today's lunch menu is chicken wrap and tomato soup!\n"
          ]
        }
      ],
      "source": [
        "def choose_meal():\n",
        "    meals = ['breakfast', 'lunch', 'dinner']\n",
        "    meal = input(\"Enter the type of meal: \").lower()\n",
        "    if meal in meals:\n",
        "        if meal == \"breakfast\":\n",
        "            print(\"Today's breakfast, we have eggs and pancakes!\")\n",
        "        elif meal == \"lunch\":\n",
        "            print(\"Today's lunch menu is chicken wrap and tomato soup!\")\n",
        "        elif meal == \"dinner\":\n",
        "            print(\"Today's dinner is steak and lobster!\")\n",
        "    else:\n",
        "            print(meal, \"is not a valid choice. Choose breakfast, lunch or dinner\")\n",
        "            choose_meal()    \n",
        "\n",
        "choose_meal()"
      ]
    },
    {
      "cell_type": "markdown",
      "metadata": {
        "id": "CP-pkdcIDD98"
      },
      "source": [
        "Question 2\n",
        "\n",
        "\n",
        "\n",
        "The mailroom has asked you to design a simple payroll program that calculates a student employee’s gross pay, including any overtime wages. If any employee works over 20 hours in a week, the mailroom pays them 1.5 times their regular hourly pay rate for all hours over 20. \n",
        "You should take in the user’s input for the number of hours worked, and their rate of pay.\n",
        "\n",
        "\n"
      ]
    },
    {
      "cell_type": "code",
      "execution_count": null,
      "metadata": {
        "colab": {
          "base_uri": "https://localhost:8080/"
        },
        "id": "jDCZWPFGC_w2",
        "outputId": "5447c707-b8b4-452d-da48-2182d2629bfc"
      },
      "outputs": [
        {
          "name": "stdout",
          "output_type": "stream",
          "text": [
            "Pay is $ 300.0\n",
            "Pay is $ 412.5\n"
          ]
        }
      ],
      "source": [
        "# student payroll system\n",
        "def payroll(hours, wage):\n",
        "    if hours <= 20:\n",
        "        pay = (hours * wage)\n",
        "        print(\"Pay is $\", str(float(pay)))\n",
        "    elif hours > 20:\n",
        "        pay = ((20 * wage) + (1.5* wage) * (hours - 20))\n",
        "        print(\"Pay is $\", str(float(pay)))\n",
        "\n",
        "payroll(20, 15)\n",
        "payroll(25, 15)"
      ]
    },
    {
      "cell_type": "markdown",
      "metadata": {
        "id": "qhZihkgfE3aG"
      },
      "source": [
        "Question 3\n",
        "\n",
        "\n",
        "\n",
        "Write a function named times_ten. The function should accept an argument and display the product of its argument multiplied times 10"
      ]
    },
    {
      "cell_type": "code",
      "execution_count": null,
      "metadata": {
        "colab": {
          "base_uri": "https://localhost:8080/"
        },
        "id": "RJUge_GsE7Qw",
        "outputId": "b3f6c441-20dc-4a02-9310-93837c75f0b2"
      },
      "outputs": [
        {
          "name": "stdout",
          "output_type": "stream",
          "text": [
            "1000\n"
          ]
        }
      ],
      "source": [
        "def times_ten(number):\n",
        "    print(number * 10)\n",
        "\n",
        "times_ten(100)"
      ]
    },
    {
      "cell_type": "markdown",
      "metadata": {
        "id": "X7KyJv69F_rR"
      },
      "source": [
        "Question 4\n",
        "\n",
        "\n",
        "Find the errors, debug the program, and then execute to show the output.\n",
        "\n",
        "\n",
        "def main()\n",
        "\n",
        "Calories1 = input( \"How many calories are in the first food?\")\n",
        "\n",
        "Calories2 = input( \"How many calories are in the first food?\")\n",
        "\n",
        "showCalories(calories1, calories2)\n",
        "\n",
        "def showCalories()   \n",
        "   print(“The total calories you ate today”, format(calories1 + calories2,.2f))\n"
      ]
    },
    {
      "cell_type": "code",
      "execution_count": 9,
      "metadata": {
        "colab": {
          "base_uri": "https://localhost:8080/"
        },
        "id": "RGGPbPdGFMXu",
        "outputId": "6b9e5236-88a2-49b7-c39a-173dd7f9a36c"
      },
      "outputs": [
        {
          "name": "stdout",
          "output_type": "stream",
          "text": [
            "How many calories are in the first food?450\n",
            "How many calories are in the first food?500\n",
            "The total calories you ate today 950.00\n"
          ]
        }
      ],
      "source": [
        "def main():\n",
        "      calories1 = int(input( \"How many calories are in the first food?\"))\n",
        "      calories2 = int(input( \"How many calories are in the first food?\"))\n",
        "      showCalories(calories1, calories2)\n",
        "\n",
        "def showCalories(calories1, calories2):   \n",
        "    print(\"The total calories you ate today\" , format(calories1 + calories2,\".2f\"))\n",
        "\n",
        "main()"
      ]
    },
    {
      "cell_type": "markdown",
      "metadata": {
        "id": "ECYgfsbbGRKn"
      },
      "source": [
        "Question 5\n",
        "\n",
        "Write a program that uses any loop (while or for) that calculates the total of the following series of numbers:\n",
        "         1/30 + 2/29 + 3/28 ............. + 30/1\n"
      ]
    },
    {
      "cell_type": "code",
      "execution_count": null,
      "metadata": {
        "colab": {
          "base_uri": "https://localhost:8080/"
        },
        "id": "tsgwMrioGUGN",
        "outputId": "1eb6657b-1077-474a-8d80-81557aeccbac"
      },
      "outputs": [
        {
          "name": "stdout",
          "output_type": "stream",
          "text": [
            "93.84460105853212\n"
          ]
        }
      ],
      "source": [
        "def thirty_over_one():\n",
        "    numerator = 30\n",
        "    denominator = 1\n",
        "    total = 0\n",
        "    while numerator > 0:\n",
        "        total += (numerator / denominator)\n",
        "        numerator -= 1\n",
        "        denominator += 1\n",
        "    print(total)\n",
        "\n",
        "thirty_over_one()"
      ]
    },
    {
      "cell_type": "markdown",
      "metadata": {
        "id": "42xZ6-iqHdgc"
      },
      "source": [
        "Question 6\n",
        "\n",
        "\n",
        "Write a function that computes the area of a triangle given its base and height.\n",
        "The formula for an area of a triangle is:\n",
        "AREA = 1/2 * BASE * HEIGHT\n"
      ]
    },
    {
      "cell_type": "code",
      "execution_count": null,
      "metadata": {
        "colab": {
          "base_uri": "https://localhost:8080/"
        },
        "id": "5u_PS33xHhPz",
        "outputId": "1f769b54-64c3-4467-8a52-4e285f1f28bb"
      },
      "outputs": [
        {
          "name": "stdout",
          "output_type": "stream",
          "text": [
            "10.0\n"
          ]
        }
      ],
      "source": [
        "def triangle_area(base, height):\n",
        "    print((base * height) / 2)\n",
        "\n",
        "\n",
        "triangle_area(5,4)"
      ]
    }
  ],
  "metadata": {
    "colab": {
      "authorship_tag": "ABX9TyP+jpKQh8AHq41t9yWiqQCa",
      "include_colab_link": true,
      "provenance": []
    },
    "kernelspec": {
      "display_name": "Python 3",
      "name": "python3"
    },
    "language_info": {
      "name": "python",
      "version": "3.11.2"
    }
  },
  "nbformat": 4,
  "nbformat_minor": 0
}
