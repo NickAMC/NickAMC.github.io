{
 "cells": [
  {
   "cell_type": "markdown",
   "source": [
    "# Assignment 6 - Loading Data with Pandas"
   ],
   "metadata": {
    "collapsed": false
   }
  },
  {
   "cell_type": "markdown",
   "source": [
    "In this assignment, you will practice loading data into your python environment. It is\n",
    "recommended that you use either google colab or juypter notebook, however, you may\n",
    "use any environment you prefer as long as you are using the pandas library.\n",
    "From the following link, choose two files to answer the questions below.\n",
    "https://github.com/data602sps/datasetspractice\n",
    "In addition, you will also search the internet to find two datasets to answer the\n",
    "questions below.\n",
    "Websites to find data:\n",
    "● https://opendata.cityofnewyork.us/\n",
    "● https://datasetsearch.research.google.com/\n",
    "● https://www.kaggle.com/datasets\n",
    "● http://archive.ics.uci.edu/ml/index.php\n",
    "● https://data.gov/"
   ],
   "metadata": {
    "collapsed": false
   }
  },
  {
   "cell_type": "code",
   "execution_count": 55,
   "outputs": [],
   "source": [
    "import pandas as pd"
   ],
   "metadata": {
    "collapsed": false
   }
  },
  {
   "cell_type": "markdown",
   "source": [
    "# Question 1\n",
    "1. Load your dataset into python using the pandas library and save data into a\n",
    "dataframe named dfi (where i is one of your datasets, for a total of 4)"
   ],
   "metadata": {
    "collapsed": false
   }
  },
  {
   "cell_type": "code",
   "execution_count": 56,
   "metadata": {
    "collapsed": true
   },
   "outputs": [],
   "source": [
    "df_weather = pd.read_csv(\"https://raw.githubusercontent.com/data602sps/datasetspractice/main/weather.csv\")\n",
    "df_salary = pd.read_csv(\"https://raw.githubusercontent.com/data602sps/datasetspractice/main/salarydata.csv\")\n",
    "df_atu_dirty = pd.read_csv(\"https://raw.githubusercontent.com/data602sps/datasetspractice/main/atu_dirty.csv\")\n",
    "df_nba = pd.read_csv(\"https://raw.githubusercontent.com/data602sps/datasetspractice/main/nba.csv\")"
   ]
  },
  {
   "cell_type": "markdown",
   "source": [
    "# Question 2\n",
    "Preview your data by calling your dataframe’s name. How many columns and rows\n",
    "do you see?"
   ],
   "metadata": {
    "collapsed": false
   }
  },
  {
   "cell_type": "code",
   "execution_count": 57,
   "outputs": [
    {
     "data": {
      "text/plain": "            Name            Team  Number Position   Age Height  Weight  \\\n0  Avery Bradley  Boston Celtics     0.0       PG  25.0    6-2   180.0   \n1    Jae Crowder  Boston Celtics    99.0       SF  25.0    6-6   235.0   \n2   John Holland  Boston Celtics    30.0       SG  27.0    6-5   205.0   \n3    R.J. Hunter  Boston Celtics    28.0       SG  22.0    6-5   185.0   \n4  Jonas Jerebko  Boston Celtics     8.0       PF  29.0   6-10   231.0   \n\n             College     Salary  \n0              Texas  7730337.0  \n1          Marquette  6796117.0  \n2  Boston University        NaN  \n3      Georgia State  1148640.0  \n4                NaN  5000000.0  ",
      "text/html": "<div>\n<style scoped>\n    .dataframe tbody tr th:only-of-type {\n        vertical-align: middle;\n    }\n\n    .dataframe tbody tr th {\n        vertical-align: top;\n    }\n\n    .dataframe thead th {\n        text-align: right;\n    }\n</style>\n<table border=\"1\" class=\"dataframe\">\n  <thead>\n    <tr style=\"text-align: right;\">\n      <th></th>\n      <th>Name</th>\n      <th>Team</th>\n      <th>Number</th>\n      <th>Position</th>\n      <th>Age</th>\n      <th>Height</th>\n      <th>Weight</th>\n      <th>College</th>\n      <th>Salary</th>\n    </tr>\n  </thead>\n  <tbody>\n    <tr>\n      <th>0</th>\n      <td>Avery Bradley</td>\n      <td>Boston Celtics</td>\n      <td>0.0</td>\n      <td>PG</td>\n      <td>25.0</td>\n      <td>6-2</td>\n      <td>180.0</td>\n      <td>Texas</td>\n      <td>7730337.0</td>\n    </tr>\n    <tr>\n      <th>1</th>\n      <td>Jae Crowder</td>\n      <td>Boston Celtics</td>\n      <td>99.0</td>\n      <td>SF</td>\n      <td>25.0</td>\n      <td>6-6</td>\n      <td>235.0</td>\n      <td>Marquette</td>\n      <td>6796117.0</td>\n    </tr>\n    <tr>\n      <th>2</th>\n      <td>John Holland</td>\n      <td>Boston Celtics</td>\n      <td>30.0</td>\n      <td>SG</td>\n      <td>27.0</td>\n      <td>6-5</td>\n      <td>205.0</td>\n      <td>Boston University</td>\n      <td>NaN</td>\n    </tr>\n    <tr>\n      <th>3</th>\n      <td>R.J. Hunter</td>\n      <td>Boston Celtics</td>\n      <td>28.0</td>\n      <td>SG</td>\n      <td>22.0</td>\n      <td>6-5</td>\n      <td>185.0</td>\n      <td>Georgia State</td>\n      <td>1148640.0</td>\n    </tr>\n    <tr>\n      <th>4</th>\n      <td>Jonas Jerebko</td>\n      <td>Boston Celtics</td>\n      <td>8.0</td>\n      <td>PF</td>\n      <td>29.0</td>\n      <td>6-10</td>\n      <td>231.0</td>\n      <td>NaN</td>\n      <td>5000000.0</td>\n    </tr>\n  </tbody>\n</table>\n</div>"
     },
     "execution_count": 57,
     "metadata": {},
     "output_type": "execute_result"
    }
   ],
   "source": [
    "df_nba.head()"
   ],
   "metadata": {
    "collapsed": false
   }
  },
  {
   "cell_type": "code",
   "execution_count": 58,
   "outputs": [
    {
     "data": {
      "text/plain": "        Sate  2018 Mean Annual Wage  Unnamed: 2\n0    Alabama                 90,620         NaN\n1      Alaska                99,180         NaN\n2     Arizona                88,800         NaN\n3    Arkansas                81,430         NaN\n4  California                97,110         NaN",
      "text/html": "<div>\n<style scoped>\n    .dataframe tbody tr th:only-of-type {\n        vertical-align: middle;\n    }\n\n    .dataframe tbody tr th {\n        vertical-align: top;\n    }\n\n    .dataframe thead th {\n        text-align: right;\n    }\n</style>\n<table border=\"1\" class=\"dataframe\">\n  <thead>\n    <tr style=\"text-align: right;\">\n      <th></th>\n      <th>Sate</th>\n      <th>2018 Mean Annual Wage</th>\n      <th>Unnamed: 2</th>\n    </tr>\n  </thead>\n  <tbody>\n    <tr>\n      <th>0</th>\n      <td>Alabama</td>\n      <td>90,620</td>\n      <td>NaN</td>\n    </tr>\n    <tr>\n      <th>1</th>\n      <td>Alaska</td>\n      <td>99,180</td>\n      <td>NaN</td>\n    </tr>\n    <tr>\n      <th>2</th>\n      <td>Arizona</td>\n      <td>88,800</td>\n      <td>NaN</td>\n    </tr>\n    <tr>\n      <th>3</th>\n      <td>Arkansas</td>\n      <td>81,430</td>\n      <td>NaN</td>\n    </tr>\n    <tr>\n      <th>4</th>\n      <td>California</td>\n      <td>97,110</td>\n      <td>NaN</td>\n    </tr>\n  </tbody>\n</table>\n</div>"
     },
     "execution_count": 58,
     "metadata": {},
     "output_type": "execute_result"
    }
   ],
   "source": [
    "df_salary.head()"
   ],
   "metadata": {
    "collapsed": false
   }
  },
  {
   "cell_type": "code",
   "execution_count": 59,
   "outputs": [
    {
     "data": {
      "text/plain": "   Unnamed: 0          caseid  V1  V2         V3  V4   V5  V6   V7\n0           1  20160101160045  62   2  No answer   1  690   0  465\n1           2  20160101160066  69   1  No answer   2  600   0  560\n2           3  20160101160069  24   2  No answer   1  940   0   20\n3           4  20160101160083  31   2  Part time   1  635   0  120\n4           5  20160101160084  59   2  Part time   1  500   0  177",
      "text/html": "<div>\n<style scoped>\n    .dataframe tbody tr th:only-of-type {\n        vertical-align: middle;\n    }\n\n    .dataframe tbody tr th {\n        vertical-align: top;\n    }\n\n    .dataframe thead th {\n        text-align: right;\n    }\n</style>\n<table border=\"1\" class=\"dataframe\">\n  <thead>\n    <tr style=\"text-align: right;\">\n      <th></th>\n      <th>Unnamed: 0</th>\n      <th>caseid</th>\n      <th>V1</th>\n      <th>V2</th>\n      <th>V3</th>\n      <th>V4</th>\n      <th>V5</th>\n      <th>V6</th>\n      <th>V7</th>\n    </tr>\n  </thead>\n  <tbody>\n    <tr>\n      <th>0</th>\n      <td>1</td>\n      <td>20160101160045</td>\n      <td>62</td>\n      <td>2</td>\n      <td>No answer</td>\n      <td>1</td>\n      <td>690</td>\n      <td>0</td>\n      <td>465</td>\n    </tr>\n    <tr>\n      <th>1</th>\n      <td>2</td>\n      <td>20160101160066</td>\n      <td>69</td>\n      <td>1</td>\n      <td>No answer</td>\n      <td>2</td>\n      <td>600</td>\n      <td>0</td>\n      <td>560</td>\n    </tr>\n    <tr>\n      <th>2</th>\n      <td>3</td>\n      <td>20160101160069</td>\n      <td>24</td>\n      <td>2</td>\n      <td>No answer</td>\n      <td>1</td>\n      <td>940</td>\n      <td>0</td>\n      <td>20</td>\n    </tr>\n    <tr>\n      <th>3</th>\n      <td>4</td>\n      <td>20160101160083</td>\n      <td>31</td>\n      <td>2</td>\n      <td>Part time</td>\n      <td>1</td>\n      <td>635</td>\n      <td>0</td>\n      <td>120</td>\n    </tr>\n    <tr>\n      <th>4</th>\n      <td>5</td>\n      <td>20160101160084</td>\n      <td>59</td>\n      <td>2</td>\n      <td>Part time</td>\n      <td>1</td>\n      <td>500</td>\n      <td>0</td>\n      <td>177</td>\n    </tr>\n  </tbody>\n</table>\n</div>"
     },
     "execution_count": 59,
     "metadata": {},
     "output_type": "execute_result"
    }
   ],
   "source": [
    "df_atu_dirty.head()"
   ],
   "metadata": {
    "collapsed": false
   }
  },
  {
   "cell_type": "code",
   "execution_count": 60,
   "outputs": [
    {
     "data": {
      "text/plain": "   Unnamed: 0 origin  year  month  day  hour   temp   dewp  humid  wind_dir  \\\n0           1    EWR  2013    1.0  1.0   0.0  37.04  21.92  53.97     230.0   \n1           2    EWR  2013    1.0  1.0   1.0  37.04  21.92  53.97     230.0   \n2           3    EWR  2013    1.0  1.0   2.0  37.94  21.92  52.09     230.0   \n3           4    EWR  2013    1.0  1.0   3.0  37.94  23.00  54.51     230.0   \n4           5    EWR  2013    1.0  1.0   4.0  37.94  24.08  57.04     240.0   \n\n   wind_speed  wind_gust  precip  pressure  visib  \n0    10.35702  11.918651     0.0    1013.9   10.0  \n1    13.80936  15.891535     0.0    1013.0   10.0  \n2    12.65858  14.567241     0.0    1012.6   10.0  \n3    13.80936  15.891535     0.0    1012.7   10.0  \n4    14.96014  17.215830     0.0    1012.8   10.0  ",
      "text/html": "<div>\n<style scoped>\n    .dataframe tbody tr th:only-of-type {\n        vertical-align: middle;\n    }\n\n    .dataframe tbody tr th {\n        vertical-align: top;\n    }\n\n    .dataframe thead th {\n        text-align: right;\n    }\n</style>\n<table border=\"1\" class=\"dataframe\">\n  <thead>\n    <tr style=\"text-align: right;\">\n      <th></th>\n      <th>Unnamed: 0</th>\n      <th>origin</th>\n      <th>year</th>\n      <th>month</th>\n      <th>day</th>\n      <th>hour</th>\n      <th>temp</th>\n      <th>dewp</th>\n      <th>humid</th>\n      <th>wind_dir</th>\n      <th>wind_speed</th>\n      <th>wind_gust</th>\n      <th>precip</th>\n      <th>pressure</th>\n      <th>visib</th>\n    </tr>\n  </thead>\n  <tbody>\n    <tr>\n      <th>0</th>\n      <td>1</td>\n      <td>EWR</td>\n      <td>2013</td>\n      <td>1.0</td>\n      <td>1.0</td>\n      <td>0.0</td>\n      <td>37.04</td>\n      <td>21.92</td>\n      <td>53.97</td>\n      <td>230.0</td>\n      <td>10.35702</td>\n      <td>11.918651</td>\n      <td>0.0</td>\n      <td>1013.9</td>\n      <td>10.0</td>\n    </tr>\n    <tr>\n      <th>1</th>\n      <td>2</td>\n      <td>EWR</td>\n      <td>2013</td>\n      <td>1.0</td>\n      <td>1.0</td>\n      <td>1.0</td>\n      <td>37.04</td>\n      <td>21.92</td>\n      <td>53.97</td>\n      <td>230.0</td>\n      <td>13.80936</td>\n      <td>15.891535</td>\n      <td>0.0</td>\n      <td>1013.0</td>\n      <td>10.0</td>\n    </tr>\n    <tr>\n      <th>2</th>\n      <td>3</td>\n      <td>EWR</td>\n      <td>2013</td>\n      <td>1.0</td>\n      <td>1.0</td>\n      <td>2.0</td>\n      <td>37.94</td>\n      <td>21.92</td>\n      <td>52.09</td>\n      <td>230.0</td>\n      <td>12.65858</td>\n      <td>14.567241</td>\n      <td>0.0</td>\n      <td>1012.6</td>\n      <td>10.0</td>\n    </tr>\n    <tr>\n      <th>3</th>\n      <td>4</td>\n      <td>EWR</td>\n      <td>2013</td>\n      <td>1.0</td>\n      <td>1.0</td>\n      <td>3.0</td>\n      <td>37.94</td>\n      <td>23.00</td>\n      <td>54.51</td>\n      <td>230.0</td>\n      <td>13.80936</td>\n      <td>15.891535</td>\n      <td>0.0</td>\n      <td>1012.7</td>\n      <td>10.0</td>\n    </tr>\n    <tr>\n      <th>4</th>\n      <td>5</td>\n      <td>EWR</td>\n      <td>2013</td>\n      <td>1.0</td>\n      <td>1.0</td>\n      <td>4.0</td>\n      <td>37.94</td>\n      <td>24.08</td>\n      <td>57.04</td>\n      <td>240.0</td>\n      <td>14.96014</td>\n      <td>17.215830</td>\n      <td>0.0</td>\n      <td>1012.8</td>\n      <td>10.0</td>\n    </tr>\n  </tbody>\n</table>\n</div>"
     },
     "execution_count": 60,
     "metadata": {},
     "output_type": "execute_result"
    }
   ],
   "source": [
    "df_weather.head()"
   ],
   "metadata": {
    "collapsed": false
   }
  },
  {
   "cell_type": "markdown",
   "source": [
    "# Question 3\n",
    "Examine the shape of your data using the .shape command and the data types of\n",
    "your columns using .dtypes."
   ],
   "metadata": {
    "collapsed": false
   }
  },
  {
   "cell_type": "code",
   "execution_count": 61,
   "outputs": [
    {
     "name": "stdout",
     "output_type": "stream",
     "text": [
      "\n",
      "+++++++++++++++++++++++++++++++++++++++++++++ \n",
      "Dataframe:  df_nba\n",
      "The shape of dataframe  (458, 9)\n",
      "The data type of columns  Name         object\n",
      "Team         object\n",
      "Number      float64\n",
      "Position     object\n",
      "Age         float64\n",
      "Height       object\n",
      "Weight      float64\n",
      "College      object\n",
      "Salary      float64\n",
      "dtype: object\n",
      "\n",
      "+++++++++++++++++++++++++++++++++++++++++++++ \n",
      "Dataframe:  df_salary\n",
      "The shape of dataframe  (51, 3)\n",
      "The data type of columns  Sate                      object\n",
      "2018 Mean Annual Wage     object\n",
      "Unnamed: 2               float64\n",
      "dtype: object\n",
      "\n",
      "+++++++++++++++++++++++++++++++++++++++++++++ \n",
      "Dataframe:  df_atu_dirty\n",
      "The shape of dataframe  (10493, 9)\n",
      "The data type of columns  Unnamed: 0     int64\n",
      "caseid         int64\n",
      "V1             int64\n",
      "V2             int64\n",
      "V3            object\n",
      "V4             int64\n",
      "V5             int64\n",
      "V6             int64\n",
      "V7             int64\n",
      "dtype: object\n",
      "\n",
      "+++++++++++++++++++++++++++++++++++++++++++++ \n",
      "Dataframe:  df_weather\n",
      "The shape of dataframe  (8719, 15)\n",
      "The data type of columns  Unnamed: 0      int64\n",
      "origin         object\n",
      "year            int64\n",
      "month         float64\n",
      "day           float64\n",
      "hour          float64\n",
      "temp          float64\n",
      "dewp          float64\n",
      "humid         float64\n",
      "wind_dir      float64\n",
      "wind_speed    float64\n",
      "wind_gust     float64\n",
      "precip        float64\n",
      "pressure      float64\n",
      "visib         float64\n",
      "dtype: object\n"
     ]
    }
   ],
   "source": [
    "df_dict  = {'df_nba': df_nba, 'df_salary': df_salary, 'df_atu_dirty': df_atu_dirty, 'df_weather': df_weather}\n",
    "for df_name, df in df_dict.items():\n",
    "    print(\"\\n+++++++++++++++++++++++++++++++++++++++++++++ \")\n",
    "    print(\"Dataframe: \", df_name)\n",
    "    print(\"The shape of dataframe \", df.shape)\n",
    "    print(\"The data type of columns \", df.dtypes)"
   ],
   "metadata": {
    "collapsed": false
   }
  },
  {
   "cell_type": "code",
   "execution_count": 61,
   "outputs": [],
   "source": [],
   "metadata": {
    "collapsed": false
   }
  },
  {
   "cell_type": "markdown",
   "source": [
    "# Question 4\n",
    "Use .describe() on your data. What do you notice about your data? What does this\n",
    "command return?"
   ],
   "metadata": {
    "collapsed": false
   }
  },
  {
   "cell_type": "markdown",
   "source": [
    ".describe() returns the summary statistics of a given data frame."
   ],
   "metadata": {
    "collapsed": false
   }
  },
  {
   "cell_type": "code",
   "execution_count": 62,
   "outputs": [
    {
     "name": "stdout",
     "output_type": "stream",
     "text": [
      "\n",
      " +++++++++++++++++++++++++++++++++++++++++++++ \n",
      "\n",
      "Dataframe:  df_nba\n",
      "           Number         Age      Weight        Salary\n",
      "count  457.000000  457.000000  457.000000  4.460000e+02\n",
      "mean    17.678337   26.938731  221.522976  4.842684e+06\n",
      "std     15.966090    4.404016   26.368343  5.229238e+06\n",
      "min      0.000000   19.000000  161.000000  3.088800e+04\n",
      "25%      5.000000   24.000000  200.000000  1.044792e+06\n",
      "50%     13.000000   26.000000  220.000000  2.839073e+06\n",
      "75%     25.000000   30.000000  240.000000  6.500000e+06\n",
      "max     99.000000   40.000000  307.000000  2.500000e+07\n",
      "\n",
      " +++++++++++++++++++++++++++++++++++++++++++++ \n",
      "\n",
      "Dataframe:  df_salary\n",
      "       Unnamed: 2\n",
      "count         0.0\n",
      "mean          NaN\n",
      "std           NaN\n",
      "min           NaN\n",
      "25%           NaN\n",
      "50%           NaN\n",
      "75%           NaN\n",
      "max           NaN\n",
      "\n",
      " +++++++++++++++++++++++++++++++++++++++++++++ \n",
      "\n",
      "Dataframe:  df_atu_dirty\n",
      "         Unnamed: 0        caseid            V1            V2            V4  \\\n",
      "count  10493.000000  1.049300e+04  10493.000000  10493.000000  10493.000000   \n",
      "mean    5247.000000  2.016063e+13     49.418565      1.554941      1.124369   \n",
      "std     3029.212521  3.486162e+08     18.112827      0.496996      0.330017   \n",
      "min        1.000000  2.016010e+13     15.000000      1.000000      1.000000   \n",
      "25%     2624.000000  2.016030e+13     35.000000      1.000000      1.000000   \n",
      "50%     5247.000000  2.016061e+13     49.000000      2.000000      1.000000   \n",
      "75%     7870.000000  2.016091e+13     64.000000      2.000000      1.000000   \n",
      "max    10493.000000  2.016121e+13     85.000000      2.000000      2.000000   \n",
      "\n",
      "                 V5            V6            V7  \n",
      "count  10493.000000  10493.000000  10493.000000  \n",
      "mean     534.614791      7.046507    298.430477  \n",
      "std      137.164066     45.883855    213.629890  \n",
      "min        0.000000      0.000000      0.000000  \n",
      "25%      450.000000      0.000000    130.000000  \n",
      "50%      525.000000      0.000000    260.000000  \n",
      "75%      600.000000      0.000000    432.000000  \n",
      "max     1428.000000    980.000000   1392.000000  \n",
      "\n",
      " +++++++++++++++++++++++++++++++++++++++++++++ \n",
      "\n",
      "Dataframe:  df_weather\n",
      "        Unnamed: 0    year        month          day         hour  \\\n",
      "count  8719.000000  8719.0  8718.000000  8718.000000  8718.000000   \n",
      "mean   4360.000000  2013.0     6.506538    15.679628    11.515715   \n",
      "std    2517.102832     0.0     3.439961     8.768250     6.916846   \n",
      "min       1.000000  2013.0     1.000000     1.000000     0.000000   \n",
      "25%    2180.500000  2013.0     4.000000     8.000000     6.000000   \n",
      "50%    4360.000000  2013.0     7.000000    16.000000    12.000000   \n",
      "75%    6539.500000  2013.0     9.000000    23.000000    18.000000   \n",
      "max    8719.000000  2013.0    12.000000    31.000000    23.000000   \n",
      "\n",
      "              temp         dewp        humid     wind_dir   wind_speed  \\\n",
      "count  8718.000000  8718.000000  8718.000000  8486.000000  8718.000000   \n",
      "mean     55.484942    41.794184    62.863333   193.194674     9.335732   \n",
      "std      18.345817    19.619776    19.572699   110.541333    12.328261   \n",
      "min      10.940000    -9.040000    13.950000     0.000000     0.000000   \n",
      "25%      39.920000    26.060000    47.602500   110.000000     5.753900   \n",
      "50%      55.940000    42.800000    62.330000   220.000000     9.206240   \n",
      "75%      71.060000    57.920000    78.790000   280.000000    12.658580   \n",
      "max     100.040000    75.920000   100.000000   360.000000  1048.360580   \n",
      "\n",
      "         wind_gust       precip     pressure        visib  \n",
      "count  8718.000000  8719.000000  7780.000000  8719.000000  \n",
      "mean     10.743374     0.003035  1017.826465     9.224522  \n",
      "std      14.187117     0.022686     7.396722     2.094044  \n",
      "min       0.000000     0.000000   983.900000     0.120000  \n",
      "25%       6.621473     0.000000  1012.800000    10.000000  \n",
      "50%      10.594357     0.000000  1017.500000    10.000000  \n",
      "75%      14.567241     0.000000  1022.900000    10.000000  \n",
      "max    1206.432388     1.180000  1041.900000    10.000000  \n"
     ]
    }
   ],
   "source": [
    "for df_name, df in df_dict.items():\n",
    "    print(\"\\n +++++++++++++++++++++++++++++++++++++++++++++ \\n\")\n",
    "    print(\"Dataframe: \", df_name)\n",
    "    print(df.describe())"
   ],
   "metadata": {
    "collapsed": false
   }
  },
  {
   "cell_type": "markdown",
   "source": [
    "# Question 5\n",
    "Use the .head() and .tail() command - what does this do?"
   ],
   "metadata": {
    "collapsed": false
   }
  },
  {
   "cell_type": "markdown",
   "source": [
    "head() and tail() returns the top and bottom rows of a dataframe."
   ],
   "metadata": {
    "collapsed": false
   }
  },
  {
   "cell_type": "code",
   "execution_count": 63,
   "outputs": [
    {
     "name": "stdout",
     "output_type": "stream",
     "text": [
      "\n",
      " +++++++++++++++++++++++++++++++++++++++++++++ \n",
      "\n",
      "Dataframe:  df_nba\n",
      "            Name            Team  Number Position   Age Height  Weight  \\\n",
      "0  Avery Bradley  Boston Celtics     0.0       PG  25.0    6-2   180.0   \n",
      "1    Jae Crowder  Boston Celtics    99.0       SF  25.0    6-6   235.0   \n",
      "2   John Holland  Boston Celtics    30.0       SG  27.0    6-5   205.0   \n",
      "3    R.J. Hunter  Boston Celtics    28.0       SG  22.0    6-5   185.0   \n",
      "4  Jonas Jerebko  Boston Celtics     8.0       PF  29.0   6-10   231.0   \n",
      "\n",
      "             College     Salary  \n",
      "0              Texas  7730337.0  \n",
      "1          Marquette  6796117.0  \n",
      "2  Boston University        NaN  \n",
      "3      Georgia State  1148640.0  \n",
      "4                NaN  5000000.0  \n",
      "             Name       Team  Number Position   Age Height  Weight College  \\\n",
      "453  Shelvin Mack  Utah Jazz     8.0       PG  26.0    6-3   203.0  Butler   \n",
      "454     Raul Neto  Utah Jazz    25.0       PG  24.0    6-1   179.0     NaN   \n",
      "455  Tibor Pleiss  Utah Jazz    21.0        C  26.0    7-3   256.0     NaN   \n",
      "456   Jeff Withey  Utah Jazz    24.0        C  26.0    7-0   231.0  Kansas   \n",
      "457           NaN        NaN     NaN      NaN   NaN    NaN     NaN     NaN   \n",
      "\n",
      "        Salary  \n",
      "453  2433333.0  \n",
      "454   900000.0  \n",
      "455  2900000.0  \n",
      "456   947276.0  \n",
      "457        NaN  \n",
      "\n",
      " +++++++++++++++++++++++++++++++++++++++++++++ \n",
      "\n",
      "Dataframe:  df_salary\n",
      "        Sate  2018 Mean Annual Wage  Unnamed: 2\n",
      "0    Alabama                 90,620         NaN\n",
      "1      Alaska                99,180         NaN\n",
      "2     Arizona                88,800         NaN\n",
      "3    Arkansas                81,430         NaN\n",
      "4  California                97,110         NaN\n",
      "            Sate  2018 Mean Annual Wage  Unnamed: 2\n",
      "46       Virginia                91,700         NaN\n",
      "47     Washington                85,930         NaN\n",
      "48  West Virginia                89,420         NaN\n",
      "49      Wisconsin                85,200         NaN\n",
      "50        Wyomimg                87,510         NaN\n",
      "\n",
      " +++++++++++++++++++++++++++++++++++++++++++++ \n",
      "\n",
      "Dataframe:  df_atu_dirty\n",
      "   Unnamed: 0          caseid  V1  V2         V3  V4   V5  V6   V7\n",
      "0           1  20160101160045  62   2  No answer   1  690   0  465\n",
      "1           2  20160101160066  69   1  No answer   2  600   0  560\n",
      "2           3  20160101160069  24   2  No answer   1  940   0   20\n",
      "3           4  20160101160083  31   2  Part time   1  635   0  120\n",
      "4           5  20160101160084  59   2  Part time   1  500   0  177\n",
      "       Unnamed: 0          caseid  V1  V2         V3  V4   V5  V6   V7\n",
      "10488       10489  20161212162307  52   2  No answer   1  520   0  585\n",
      "10489       10490  20161212162357  69   1  No answer   1  645   0  625\n",
      "10490       10491  20161212162426  28   1  Full time   1  402   0   20\n",
      "10491       10492  20161212162456  80   2  No answer   2  420   0  979\n",
      "10492       10493  20161212162509  16   2  No answer   1  910   0  430\n",
      "\n",
      " +++++++++++++++++++++++++++++++++++++++++++++ \n",
      "\n",
      "Dataframe:  df_weather\n",
      "   Unnamed: 0 origin  year  month  day  hour   temp   dewp  humid  wind_dir  \\\n",
      "0           1    EWR  2013    1.0  1.0   0.0  37.04  21.92  53.97     230.0   \n",
      "1           2    EWR  2013    1.0  1.0   1.0  37.04  21.92  53.97     230.0   \n",
      "2           3    EWR  2013    1.0  1.0   2.0  37.94  21.92  52.09     230.0   \n",
      "3           4    EWR  2013    1.0  1.0   3.0  37.94  23.00  54.51     230.0   \n",
      "4           5    EWR  2013    1.0  1.0   4.0  37.94  24.08  57.04     240.0   \n",
      "\n",
      "   wind_speed  wind_gust  precip  pressure  visib  \n",
      "0    10.35702  11.918651     0.0    1013.9   10.0  \n",
      "1    13.80936  15.891535     0.0    1013.0   10.0  \n",
      "2    12.65858  14.567241     0.0    1012.6   10.0  \n",
      "3    13.80936  15.891535     0.0    1012.7   10.0  \n",
      "4    14.96014  17.215830     0.0    1012.8   10.0  \n",
      "      Unnamed: 0 origin  year  month   day  hour   temp   dewp  humid  \\\n",
      "8714        8715    JFK  2013    9.0   2.0  20.0  75.20  73.40  94.14   \n",
      "8715        8716    JFK  2013   10.0  23.0  10.0  48.92  39.02  68.51   \n",
      "8716        8717    JFK  2013   10.0  23.0  11.0  48.92  39.02  68.51   \n",
      "8717        8718    JFK  2013   12.0  17.0   5.0  26.96  10.94  50.34   \n",
      "8718        8719    LGA  2013    8.0  22.0  22.0  75.92  66.92  73.68   \n",
      "\n",
      "      wind_dir  wind_speed  wind_gust  precip  pressure  visib  \n",
      "8714     200.0     4.60312   5.297178     0.0       NaN    4.0  \n",
      "8715      60.0     4.60312   5.297178     0.0    1008.1   10.0  \n",
      "8716      40.0     4.60312   5.297178     0.0    1008.5   10.0  \n",
      "8717      40.0     4.60312   5.297178     0.0    1023.9   10.0  \n",
      "8718     210.0     8.05546   9.270062     0.0    1011.9   10.0  \n"
     ]
    }
   ],
   "source": [
    "for df_name, df in df_dict.items():\n",
    "    print(\"\\n +++++++++++++++++++++++++++++++++++++++++++++ \\n\")\n",
    "    print(\"Dataframe: \", df_name)\n",
    "    print(df.head())\n",
    "    print(df.tail())"
   ],
   "metadata": {
    "collapsed": false
   }
  },
  {
   "cell_type": "markdown",
   "source": [
    "# Extra Credit 1"
   ],
   "metadata": {
    "collapsed": false
   }
  },
  {
   "cell_type": "markdown",
   "source": [
    "Link the kaggle site used:\n",
    "https://www.kaggle.com/datasets/mirzahasnine/heart-disease-dataset\n",
    "https://github.com/Kaggle/kaggle-api"
   ],
   "metadata": {
    "collapsed": false
   }
  },
  {
   "cell_type": "code",
   "execution_count": 64,
   "outputs": [],
   "source": [
    "import kaggle\n",
    "\n",
    "kaggle.api.authenticate()\n",
    "kaggle.api.dataset_download_files('mirzahasnine/heart-disease-dataset', path='./', unzip=True)"
   ],
   "metadata": {
    "collapsed": false
   }
  },
  {
   "cell_type": "code",
   "execution_count": 65,
   "outputs": [],
   "source": [
    "# do not include header row\n",
    "heart_data = pd.read_csv(\"heart_disease.csv\", header  = None, skiprows= 1)"
   ],
   "metadata": {
    "collapsed": false
   }
  },
  {
   "cell_type": "code",
   "execution_count": 66,
   "outputs": [
    {
     "data": {
      "text/plain": "       0   1              2   3     4    5   6   7   8      9      10    11  \\\n0    Male  39   postgraduate   0   0.0  0.0  no   0   0  195.0  106.0  70.0   \n1  Female  46  primaryschool   0   0.0  0.0  no   0   0  250.0  121.0  81.0   \n2    Male  48     uneducated   1  20.0  0.0  no   0   0  245.0  127.5  80.0   \n3  Female  61       graduate   1  30.0  0.0  no   1   0  225.0  150.0  95.0   \n4  Female  46       graduate   1  23.0  0.0  no   0   0  285.0  130.0  84.0   \n\n      12    13     14   15  \n0  26.97  80.0   77.0   No  \n1  28.73  95.0   76.0   No  \n2  25.34  75.0   70.0   No  \n3  28.58  65.0  103.0  yes  \n4  23.10  85.0   85.0   No  ",
      "text/html": "<div>\n<style scoped>\n    .dataframe tbody tr th:only-of-type {\n        vertical-align: middle;\n    }\n\n    .dataframe tbody tr th {\n        vertical-align: top;\n    }\n\n    .dataframe thead th {\n        text-align: right;\n    }\n</style>\n<table border=\"1\" class=\"dataframe\">\n  <thead>\n    <tr style=\"text-align: right;\">\n      <th></th>\n      <th>0</th>\n      <th>1</th>\n      <th>2</th>\n      <th>3</th>\n      <th>4</th>\n      <th>5</th>\n      <th>6</th>\n      <th>7</th>\n      <th>8</th>\n      <th>9</th>\n      <th>10</th>\n      <th>11</th>\n      <th>12</th>\n      <th>13</th>\n      <th>14</th>\n      <th>15</th>\n    </tr>\n  </thead>\n  <tbody>\n    <tr>\n      <th>0</th>\n      <td>Male</td>\n      <td>39</td>\n      <td>postgraduate</td>\n      <td>0</td>\n      <td>0.0</td>\n      <td>0.0</td>\n      <td>no</td>\n      <td>0</td>\n      <td>0</td>\n      <td>195.0</td>\n      <td>106.0</td>\n      <td>70.0</td>\n      <td>26.97</td>\n      <td>80.0</td>\n      <td>77.0</td>\n      <td>No</td>\n    </tr>\n    <tr>\n      <th>1</th>\n      <td>Female</td>\n      <td>46</td>\n      <td>primaryschool</td>\n      <td>0</td>\n      <td>0.0</td>\n      <td>0.0</td>\n      <td>no</td>\n      <td>0</td>\n      <td>0</td>\n      <td>250.0</td>\n      <td>121.0</td>\n      <td>81.0</td>\n      <td>28.73</td>\n      <td>95.0</td>\n      <td>76.0</td>\n      <td>No</td>\n    </tr>\n    <tr>\n      <th>2</th>\n      <td>Male</td>\n      <td>48</td>\n      <td>uneducated</td>\n      <td>1</td>\n      <td>20.0</td>\n      <td>0.0</td>\n      <td>no</td>\n      <td>0</td>\n      <td>0</td>\n      <td>245.0</td>\n      <td>127.5</td>\n      <td>80.0</td>\n      <td>25.34</td>\n      <td>75.0</td>\n      <td>70.0</td>\n      <td>No</td>\n    </tr>\n    <tr>\n      <th>3</th>\n      <td>Female</td>\n      <td>61</td>\n      <td>graduate</td>\n      <td>1</td>\n      <td>30.0</td>\n      <td>0.0</td>\n      <td>no</td>\n      <td>1</td>\n      <td>0</td>\n      <td>225.0</td>\n      <td>150.0</td>\n      <td>95.0</td>\n      <td>28.58</td>\n      <td>65.0</td>\n      <td>103.0</td>\n      <td>yes</td>\n    </tr>\n    <tr>\n      <th>4</th>\n      <td>Female</td>\n      <td>46</td>\n      <td>graduate</td>\n      <td>1</td>\n      <td>23.0</td>\n      <td>0.0</td>\n      <td>no</td>\n      <td>0</td>\n      <td>0</td>\n      <td>285.0</td>\n      <td>130.0</td>\n      <td>84.0</td>\n      <td>23.10</td>\n      <td>85.0</td>\n      <td>85.0</td>\n      <td>No</td>\n    </tr>\n  </tbody>\n</table>\n</div>"
     },
     "execution_count": 66,
     "metadata": {},
     "output_type": "execute_result"
    }
   ],
   "source": [
    "heart_data.head()"
   ],
   "metadata": {
    "collapsed": false
   }
  },
  {
   "cell_type": "markdown",
   "source": [
    "Using pandas, update the dataset to include the header information. Display the\n",
    "updated data using .head()."
   ],
   "metadata": {
    "collapsed": false
   }
  },
  {
   "cell_type": "code",
   "execution_count": 67,
   "outputs": [],
   "source": [
    "column_names = ['Gender',\n",
    "                'age',\n",
    "                'education',\n",
    "                'currentSmoker',\n",
    "                'cigsPerDay',\n",
    "                'BPMeds',\n",
    "                'prevalentStroke',\n",
    "                'prevalentHyp',\n",
    "                'diabetes',\n",
    "                'totChol',\n",
    "                'sysBP',\n",
    "                'diaBP',\n",
    "                'BMI',\n",
    "                'heartRate',\n",
    "                'glucose',\n",
    "                'Heart_ stroke']"
   ],
   "metadata": {
    "collapsed": false
   }
  },
  {
   "cell_type": "code",
   "execution_count": 68,
   "outputs": [],
   "source": [
    "heart_data.columns = column_names"
   ],
   "metadata": {
    "collapsed": false
   }
  },
  {
   "cell_type": "code",
   "execution_count": 69,
   "outputs": [
    {
     "data": {
      "text/plain": "   Gender  age      education  currentSmoker  cigsPerDay  BPMeds  \\\n0    Male   39   postgraduate              0         0.0     0.0   \n1  Female   46  primaryschool              0         0.0     0.0   \n2    Male   48     uneducated              1        20.0     0.0   \n3  Female   61       graduate              1        30.0     0.0   \n4  Female   46       graduate              1        23.0     0.0   \n\n  prevalentStroke  prevalentHyp  diabetes  totChol  sysBP  diaBP    BMI  \\\n0              no             0         0    195.0  106.0   70.0  26.97   \n1              no             0         0    250.0  121.0   81.0  28.73   \n2              no             0         0    245.0  127.5   80.0  25.34   \n3              no             1         0    225.0  150.0   95.0  28.58   \n4              no             0         0    285.0  130.0   84.0  23.10   \n\n   heartRate  glucose Heart_ stroke  \n0       80.0     77.0            No  \n1       95.0     76.0            No  \n2       75.0     70.0            No  \n3       65.0    103.0           yes  \n4       85.0     85.0            No  ",
      "text/html": "<div>\n<style scoped>\n    .dataframe tbody tr th:only-of-type {\n        vertical-align: middle;\n    }\n\n    .dataframe tbody tr th {\n        vertical-align: top;\n    }\n\n    .dataframe thead th {\n        text-align: right;\n    }\n</style>\n<table border=\"1\" class=\"dataframe\">\n  <thead>\n    <tr style=\"text-align: right;\">\n      <th></th>\n      <th>Gender</th>\n      <th>age</th>\n      <th>education</th>\n      <th>currentSmoker</th>\n      <th>cigsPerDay</th>\n      <th>BPMeds</th>\n      <th>prevalentStroke</th>\n      <th>prevalentHyp</th>\n      <th>diabetes</th>\n      <th>totChol</th>\n      <th>sysBP</th>\n      <th>diaBP</th>\n      <th>BMI</th>\n      <th>heartRate</th>\n      <th>glucose</th>\n      <th>Heart_ stroke</th>\n    </tr>\n  </thead>\n  <tbody>\n    <tr>\n      <th>0</th>\n      <td>Male</td>\n      <td>39</td>\n      <td>postgraduate</td>\n      <td>0</td>\n      <td>0.0</td>\n      <td>0.0</td>\n      <td>no</td>\n      <td>0</td>\n      <td>0</td>\n      <td>195.0</td>\n      <td>106.0</td>\n      <td>70.0</td>\n      <td>26.97</td>\n      <td>80.0</td>\n      <td>77.0</td>\n      <td>No</td>\n    </tr>\n    <tr>\n      <th>1</th>\n      <td>Female</td>\n      <td>46</td>\n      <td>primaryschool</td>\n      <td>0</td>\n      <td>0.0</td>\n      <td>0.0</td>\n      <td>no</td>\n      <td>0</td>\n      <td>0</td>\n      <td>250.0</td>\n      <td>121.0</td>\n      <td>81.0</td>\n      <td>28.73</td>\n      <td>95.0</td>\n      <td>76.0</td>\n      <td>No</td>\n    </tr>\n    <tr>\n      <th>2</th>\n      <td>Male</td>\n      <td>48</td>\n      <td>uneducated</td>\n      <td>1</td>\n      <td>20.0</td>\n      <td>0.0</td>\n      <td>no</td>\n      <td>0</td>\n      <td>0</td>\n      <td>245.0</td>\n      <td>127.5</td>\n      <td>80.0</td>\n      <td>25.34</td>\n      <td>75.0</td>\n      <td>70.0</td>\n      <td>No</td>\n    </tr>\n    <tr>\n      <th>3</th>\n      <td>Female</td>\n      <td>61</td>\n      <td>graduate</td>\n      <td>1</td>\n      <td>30.0</td>\n      <td>0.0</td>\n      <td>no</td>\n      <td>1</td>\n      <td>0</td>\n      <td>225.0</td>\n      <td>150.0</td>\n      <td>95.0</td>\n      <td>28.58</td>\n      <td>65.0</td>\n      <td>103.0</td>\n      <td>yes</td>\n    </tr>\n    <tr>\n      <th>4</th>\n      <td>Female</td>\n      <td>46</td>\n      <td>graduate</td>\n      <td>1</td>\n      <td>23.0</td>\n      <td>0.0</td>\n      <td>no</td>\n      <td>0</td>\n      <td>0</td>\n      <td>285.0</td>\n      <td>130.0</td>\n      <td>84.0</td>\n      <td>23.10</td>\n      <td>85.0</td>\n      <td>85.0</td>\n      <td>No</td>\n    </tr>\n  </tbody>\n</table>\n</div>"
     },
     "execution_count": 69,
     "metadata": {},
     "output_type": "execute_result"
    }
   ],
   "source": [
    "heart_data.head()"
   ],
   "metadata": {
    "collapsed": false
   }
  },
  {
   "cell_type": "markdown",
   "source": [
    "# Extra Credit 2"
   ],
   "metadata": {
    "collapsed": false
   }
  },
  {
   "cell_type": "code",
   "execution_count": 70,
   "outputs": [],
   "source": [
    "# import untidy data used for data 607 class, now instead of using R, we will use Python\n",
    "nba_data = pd.read_csv(\"https://raw.githubusercontent.com/Nick-Climaco/Rdataset/main/nba_players.csv\")"
   ],
   "metadata": {
    "collapsed": false
   }
  },
  {
   "cell_type": "code",
   "execution_count": 71,
   "outputs": [
    {
     "data": {
      "text/plain": "                       1                         2  \\\n0           Nikola Jokic                 Team: DEN   \n1                    NaN     Field goals made: 9.3   \n2                    NaN  Free throw attempts: 6.1   \n3                    NaN             Assists: 10.0   \n4  Giannis Antetokounmpo                 Team: MIL   \n\n                             3                        4  \\\n0                Position: BIG                  Age: 28   \n1  Field goal percentage: 63.2     3-pointers made: 0.8   \n2  Free throw percentage: 82.6  Offensive rebounds: 2.2   \n3               Turnovers: 3.6              Steals: 1.3   \n4                Position: BIG                  Age: 28   \n\n                            5  \n0                Points: 24.5  \n1  3-pointer percentage: 40.2  \n2     Defensive rebounds: 9.4  \n3                 Blocks: 0.7  \n4                Points: 31.3  ",
      "text/html": "<div>\n<style scoped>\n    .dataframe tbody tr th:only-of-type {\n        vertical-align: middle;\n    }\n\n    .dataframe tbody tr th {\n        vertical-align: top;\n    }\n\n    .dataframe thead th {\n        text-align: right;\n    }\n</style>\n<table border=\"1\" class=\"dataframe\">\n  <thead>\n    <tr style=\"text-align: right;\">\n      <th></th>\n      <th>1</th>\n      <th>2</th>\n      <th>3</th>\n      <th>4</th>\n      <th>5</th>\n    </tr>\n  </thead>\n  <tbody>\n    <tr>\n      <th>0</th>\n      <td>Nikola Jokic</td>\n      <td>Team: DEN</td>\n      <td>Position: BIG</td>\n      <td>Age: 28</td>\n      <td>Points: 24.5</td>\n    </tr>\n    <tr>\n      <th>1</th>\n      <td>NaN</td>\n      <td>Field goals made: 9.3</td>\n      <td>Field goal percentage: 63.2</td>\n      <td>3-pointers made: 0.8</td>\n      <td>3-pointer percentage: 40.2</td>\n    </tr>\n    <tr>\n      <th>2</th>\n      <td>NaN</td>\n      <td>Free throw attempts: 6.1</td>\n      <td>Free throw percentage: 82.6</td>\n      <td>Offensive rebounds: 2.2</td>\n      <td>Defensive rebounds: 9.4</td>\n    </tr>\n    <tr>\n      <th>3</th>\n      <td>NaN</td>\n      <td>Assists: 10.0</td>\n      <td>Turnovers: 3.6</td>\n      <td>Steals: 1.3</td>\n      <td>Blocks: 0.7</td>\n    </tr>\n    <tr>\n      <th>4</th>\n      <td>Giannis Antetokounmpo</td>\n      <td>Team: MIL</td>\n      <td>Position: BIG</td>\n      <td>Age: 28</td>\n      <td>Points: 31.3</td>\n    </tr>\n  </tbody>\n</table>\n</div>"
     },
     "execution_count": 71,
     "metadata": {},
     "output_type": "execute_result"
    }
   ],
   "source": [
    "nba_data.head()"
   ],
   "metadata": {
    "collapsed": false
   }
  },
  {
   "cell_type": "code",
   "execution_count": 72,
   "outputs": [],
   "source": [
    "# .melt() similar to pivot_longer() in R\n",
    "nba_tidy = pd.melt(nba_data, id_vars=[\"1\"], value_vars=[\"2\", \"3\", \"4\", \"5\"], var_name=\"old_colnames\", value_name=\"value\")\n",
    "\n",
    "# separating the statistics and value to two new columns\n",
    "# tried using str_split(), didnt work.\n",
    "nba_tidy[[\"statistics\", \"measure\"]] = nba_tidy[\"value\"].str.split(\":\", expand = True)\n",
    "\n",
    "# dropped redundant columns\n",
    "nba_tidy = nba_tidy.drop([\"old_colnames\", \"value\"], axis = 1)\n",
    "\n",
    "# fill na with player names\n",
    "nba_tidy[\"1\"] = nba_tidy[\"1\"].fillna(method = \"ffill\")\n",
    "\n",
    "# pivot_wider() but in python\n",
    "nba_tidy = nba_tidy.pivot(index = \"1\", columns = \"statistics\", values = \"measure\")\n",
    "\n",
    "# sort values for Team then Points\n",
    "nba_tidy = nba_tidy.sort_values(by = [\"Team\", \"Points\"], ascending = [True, False])\n",
    "\n",
    "# reset the index and rename the colname 1 to Player Name\n",
    "nba_tidy = nba_tidy.reset_index().rename(columns = {\"1\" : \"Player Name\"})\n",
    "\n",
    "# new order columns\n",
    "nba_tidy = nba_tidy[['Player Name',\n",
    "                     'Age',\n",
    "                     'Team',\n",
    "                     'Points',\n",
    "                     'Position',\n",
    "                     '3-pointer percentage',\n",
    "                     '3-pointers made',\n",
    "                     'Assists',\n",
    "                     'Blocks',\n",
    "                     'Defensive rebounds',\n",
    "                     'Field goal percentage',\n",
    "                     'Field goals made',\n",
    "                     'Free throw attempts',\n",
    "                     'Free throw percentage',\n",
    "                     'Offensive rebounds',\n",
    "                     'Steals',\n",
    "                     'Turnovers'\n",
    "                     ]]"
   ],
   "metadata": {
    "collapsed": false
   }
  },
  {
   "cell_type": "code",
   "execution_count": 73,
   "outputs": [
    {
     "data": {
      "text/plain": "statistics         Player Name  Age  Team Points  Position  \\\n0                   Trae Young   24   ATL   26.9     GUARD   \n1              Dejounte Murray   26   ATL   20.8     GUARD   \n2                 Clint Capela   28   ATL   12.1       BIG   \n3                Mikal Bridges   26   BKN   17.6   FORWARD   \n4            Spencer Dinwiddie   29   BKN   17.5     GUARD   \n..                         ...  ...   ...    ...       ...   \n95             Lauri Markkanen   25   UTA   25.2       BIG   \n96             Jordan Clarkson   30   UTA   20.9     GUARD   \n97                Bradley Beal   29   WAS   22.9     GUARD   \n98          Kristaps Porzingis   27   WAS   22.8       BIG   \n99                  Kyle Kuzma   27   WAS   21.4   FORWARD   \n\nstatistics 3-pointer percentage 3-pointers made Assists Blocks  \\\n0                          32.9             2.2    10.2    0.2   \n1                          36.2             2.0     6.1    0.3   \n2                           0.0             0.0     0.8    1.2   \n3                          39.6             1.9     3.5    0.8   \n4                          39.6             2.5     5.3    0.3   \n..                          ...             ...     ...    ...   \n95                         40.9             3.0     1.8    0.6   \n96                         34.1             2.6     4.3    0.2   \n97                         37.2             1.7     5.2    0.7   \n98                         37.6             2.1     2.5    1.5   \n99                         33.5             2.6     3.9    0.5   \n\nstatistics Defensive rebounds Field goal percentage Field goals made  \\\n0                         2.2                  42.8              8.4   \n1                         4.9                  46.5              8.4   \n2                         7.0                  62.9              5.5   \n3                         3.4                  46.7              6.4   \n4                         2.8                  44.8              5.8   \n..                        ...                   ...              ...   \n95                        6.7                  51.4              8.5   \n96                        2.9                  44.5              7.5   \n97                        2.7                  51.8              8.7   \n98                        6.7                  48.7              7.4   \n99                        6.6                  45.1              8.1   \n\nstatistics Free throw attempts Free throw percentage Offensive rebounds  \\\n0                          8.8                  88.7                0.7   \n1                          2.5                  83.7                0.7   \n2                          1.8                  61.3                4.2   \n3                          3.2                  89.6                1.1   \n4                          4.0                  82.5                0.3   \n..                         ...                   ...                ...   \n95                         5.8                  88.3                1.8   \n96                         4.0                  81.9                1.2   \n97                         4.4                  85.7                0.8   \n98                         7.0                  84.6                1.9   \n99                         3.6                  71.9                0.9   \n\nstatistics Steals Turnovers  \n0             1.0       4.1  \n1             1.5       2.3  \n2             0.7       0.8  \n3             1.2       1.5  \n4             0.8       1.7  \n..            ...       ...  \n95            0.6       1.9  \n96            0.5       3.1  \n97            0.9       2.8  \n98            0.9       2.2  \n99            0.5       3.0  \n\n[100 rows x 17 columns]",
      "text/html": "<div>\n<style scoped>\n    .dataframe tbody tr th:only-of-type {\n        vertical-align: middle;\n    }\n\n    .dataframe tbody tr th {\n        vertical-align: top;\n    }\n\n    .dataframe thead th {\n        text-align: right;\n    }\n</style>\n<table border=\"1\" class=\"dataframe\">\n  <thead>\n    <tr style=\"text-align: right;\">\n      <th>statistics</th>\n      <th>Player Name</th>\n      <th>Age</th>\n      <th>Team</th>\n      <th>Points</th>\n      <th>Position</th>\n      <th>3-pointer percentage</th>\n      <th>3-pointers made</th>\n      <th>Assists</th>\n      <th>Blocks</th>\n      <th>Defensive rebounds</th>\n      <th>Field goal percentage</th>\n      <th>Field goals made</th>\n      <th>Free throw attempts</th>\n      <th>Free throw percentage</th>\n      <th>Offensive rebounds</th>\n      <th>Steals</th>\n      <th>Turnovers</th>\n    </tr>\n  </thead>\n  <tbody>\n    <tr>\n      <th>0</th>\n      <td>Trae Young</td>\n      <td>24</td>\n      <td>ATL</td>\n      <td>26.9</td>\n      <td>GUARD</td>\n      <td>32.9</td>\n      <td>2.2</td>\n      <td>10.2</td>\n      <td>0.2</td>\n      <td>2.2</td>\n      <td>42.8</td>\n      <td>8.4</td>\n      <td>8.8</td>\n      <td>88.7</td>\n      <td>0.7</td>\n      <td>1.0</td>\n      <td>4.1</td>\n    </tr>\n    <tr>\n      <th>1</th>\n      <td>Dejounte Murray</td>\n      <td>26</td>\n      <td>ATL</td>\n      <td>20.8</td>\n      <td>GUARD</td>\n      <td>36.2</td>\n      <td>2.0</td>\n      <td>6.1</td>\n      <td>0.3</td>\n      <td>4.9</td>\n      <td>46.5</td>\n      <td>8.4</td>\n      <td>2.5</td>\n      <td>83.7</td>\n      <td>0.7</td>\n      <td>1.5</td>\n      <td>2.3</td>\n    </tr>\n    <tr>\n      <th>2</th>\n      <td>Clint Capela</td>\n      <td>28</td>\n      <td>ATL</td>\n      <td>12.1</td>\n      <td>BIG</td>\n      <td>0.0</td>\n      <td>0.0</td>\n      <td>0.8</td>\n      <td>1.2</td>\n      <td>7.0</td>\n      <td>62.9</td>\n      <td>5.5</td>\n      <td>1.8</td>\n      <td>61.3</td>\n      <td>4.2</td>\n      <td>0.7</td>\n      <td>0.8</td>\n    </tr>\n    <tr>\n      <th>3</th>\n      <td>Mikal Bridges</td>\n      <td>26</td>\n      <td>BKN</td>\n      <td>17.6</td>\n      <td>FORWARD</td>\n      <td>39.6</td>\n      <td>1.9</td>\n      <td>3.5</td>\n      <td>0.8</td>\n      <td>3.4</td>\n      <td>46.7</td>\n      <td>6.4</td>\n      <td>3.2</td>\n      <td>89.6</td>\n      <td>1.1</td>\n      <td>1.2</td>\n      <td>1.5</td>\n    </tr>\n    <tr>\n      <th>4</th>\n      <td>Spencer Dinwiddie</td>\n      <td>29</td>\n      <td>BKN</td>\n      <td>17.5</td>\n      <td>GUARD</td>\n      <td>39.6</td>\n      <td>2.5</td>\n      <td>5.3</td>\n      <td>0.3</td>\n      <td>2.8</td>\n      <td>44.8</td>\n      <td>5.8</td>\n      <td>4.0</td>\n      <td>82.5</td>\n      <td>0.3</td>\n      <td>0.8</td>\n      <td>1.7</td>\n    </tr>\n    <tr>\n      <th>...</th>\n      <td>...</td>\n      <td>...</td>\n      <td>...</td>\n      <td>...</td>\n      <td>...</td>\n      <td>...</td>\n      <td>...</td>\n      <td>...</td>\n      <td>...</td>\n      <td>...</td>\n      <td>...</td>\n      <td>...</td>\n      <td>...</td>\n      <td>...</td>\n      <td>...</td>\n      <td>...</td>\n      <td>...</td>\n    </tr>\n    <tr>\n      <th>95</th>\n      <td>Lauri Markkanen</td>\n      <td>25</td>\n      <td>UTA</td>\n      <td>25.2</td>\n      <td>BIG</td>\n      <td>40.9</td>\n      <td>3.0</td>\n      <td>1.8</td>\n      <td>0.6</td>\n      <td>6.7</td>\n      <td>51.4</td>\n      <td>8.5</td>\n      <td>5.8</td>\n      <td>88.3</td>\n      <td>1.8</td>\n      <td>0.6</td>\n      <td>1.9</td>\n    </tr>\n    <tr>\n      <th>96</th>\n      <td>Jordan Clarkson</td>\n      <td>30</td>\n      <td>UTA</td>\n      <td>20.9</td>\n      <td>GUARD</td>\n      <td>34.1</td>\n      <td>2.6</td>\n      <td>4.3</td>\n      <td>0.2</td>\n      <td>2.9</td>\n      <td>44.5</td>\n      <td>7.5</td>\n      <td>4.0</td>\n      <td>81.9</td>\n      <td>1.2</td>\n      <td>0.5</td>\n      <td>3.1</td>\n    </tr>\n    <tr>\n      <th>97</th>\n      <td>Bradley Beal</td>\n      <td>29</td>\n      <td>WAS</td>\n      <td>22.9</td>\n      <td>GUARD</td>\n      <td>37.2</td>\n      <td>1.7</td>\n      <td>5.2</td>\n      <td>0.7</td>\n      <td>2.7</td>\n      <td>51.8</td>\n      <td>8.7</td>\n      <td>4.4</td>\n      <td>85.7</td>\n      <td>0.8</td>\n      <td>0.9</td>\n      <td>2.8</td>\n    </tr>\n    <tr>\n      <th>98</th>\n      <td>Kristaps Porzingis</td>\n      <td>27</td>\n      <td>WAS</td>\n      <td>22.8</td>\n      <td>BIG</td>\n      <td>37.6</td>\n      <td>2.1</td>\n      <td>2.5</td>\n      <td>1.5</td>\n      <td>6.7</td>\n      <td>48.7</td>\n      <td>7.4</td>\n      <td>7.0</td>\n      <td>84.6</td>\n      <td>1.9</td>\n      <td>0.9</td>\n      <td>2.2</td>\n    </tr>\n    <tr>\n      <th>99</th>\n      <td>Kyle Kuzma</td>\n      <td>27</td>\n      <td>WAS</td>\n      <td>21.4</td>\n      <td>FORWARD</td>\n      <td>33.5</td>\n      <td>2.6</td>\n      <td>3.9</td>\n      <td>0.5</td>\n      <td>6.6</td>\n      <td>45.1</td>\n      <td>8.1</td>\n      <td>3.6</td>\n      <td>71.9</td>\n      <td>0.9</td>\n      <td>0.5</td>\n      <td>3.0</td>\n    </tr>\n  </tbody>\n</table>\n<p>100 rows × 17 columns</p>\n</div>"
     },
     "execution_count": 73,
     "metadata": {},
     "output_type": "execute_result"
    }
   ],
   "source": [
    "nba_tidy"
   ],
   "metadata": {
    "collapsed": false
   }
  }
 ],
 "metadata": {
  "kernelspec": {
   "display_name": "Python 3",
   "language": "python",
   "name": "python3"
  },
  "language_info": {
   "codemirror_mode": {
    "name": "ipython",
    "version": 2
   },
   "file_extension": ".py",
   "mimetype": "text/x-python",
   "name": "python",
   "nbconvert_exporter": "python",
   "pygments_lexer": "ipython2",
   "version": "2.7.6"
  }
 },
 "nbformat": 4,
 "nbformat_minor": 0
}
