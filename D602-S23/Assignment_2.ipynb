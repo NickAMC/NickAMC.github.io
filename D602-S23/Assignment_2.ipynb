{
  "nbformat": 4,
  "nbformat_minor": 0,
  "metadata": {
    "colab": {
      "provenance": [],
      "authorship_tag": "ABX9TyO+LY2O7FssrV6zkcu+0ftZ",
      "include_colab_link": true
    },
    "kernelspec": {
      "name": "python3",
      "display_name": "Python 3"
    },
    "language_info": {
      "name": "python"
    }
  },
  "cells": [
    {
      "cell_type": "markdown",
      "metadata": {
        "id": "view-in-github",
        "colab_type": "text"
      },
      "source": [
        "<a href=\"https://colab.research.google.com/github/Nick-Climaco/DATA-602-NC/blob/main/Assignment_2.ipynb\" target=\"_parent\"><img src=\"https://colab.research.google.com/assets/colab-badge.svg\" alt=\"Open In Colab\"/></a>"
      ]
    },
    {
      "cell_type": "markdown",
      "source": [
        "# Q1. \n",
        "What will the following code display?\n",
        "numbers = [1, 2, 3, 4, 5]\n",
        "print(numbers[1:-5])\n",
        "Can you debug and fix the output? The code should return the entire *list*\n"
      ],
      "metadata": {
        "id": "WnyMhLJFuL71"
      }
    },
    {
      "cell_type": "code",
      "execution_count": null,
      "metadata": {
        "colab": {
          "base_uri": "https://localhost:8080/"
        },
        "id": "5lOT_BfquHOJ",
        "outputId": "906dd151-b052-4ad2-9225-9f7038541e05"
      },
      "outputs": [
        {
          "output_type": "stream",
          "name": "stdout",
          "text": [
            "[]\n"
          ]
        }
      ],
      "source": [
        "numbers = [1, 2, 3, 4, 5]\n",
        "print(numbers[1:-5])"
      ]
    },
    {
      "cell_type": "code",
      "source": [
        "# print the entire list\n",
        "print(numbers)\n",
        "# or \n",
        "print(numbers[0:5])"
      ],
      "metadata": {
        "colab": {
          "base_uri": "https://localhost:8080/"
        },
        "id": "e6GQ8Rs9utvg",
        "outputId": "046fae5a-70c5-4e7c-a23a-e391c614bbc9"
      },
      "execution_count": null,
      "outputs": [
        {
          "output_type": "stream",
          "name": "stdout",
          "text": [
            "[1, 2, 3, 4, 5]\n",
            "[1, 2, 3, 4, 5]\n"
          ]
        }
      ]
    },
    {
      "cell_type": "markdown",
      "source": [
        "# Q2. \n",
        "Design a program that asks the user to enter a store’s sales for each day of the\n",
        "week. The amounts should be stored in a list. Use a loop to calculate the total sales for\n",
        "the week and display the result."
      ],
      "metadata": {
        "id": "qUZuD51iuQh_"
      }
    },
    {
      "cell_type": "code",
      "source": [
        "week = ['sunday', 'monday', 'tuesday', ' wednesday', 'thursday', 'friday', 'saturday']\n",
        "sales_per_day = []\n",
        "\n",
        "for day in week:\n",
        "    x = float(input(\"How much sales for \" + day + \"? \"))\n",
        "    sales_per_day.append(x)\n",
        "\n",
        "print(\"Total sales of the week is $\" + str(sum(sales_per_day)))"
      ],
      "metadata": {
        "colab": {
          "base_uri": "https://localhost:8080/"
        },
        "id": "sQoUopOCuZ1x",
        "outputId": "5a7e6079-cb24-4bff-8fa6-7e825eaff56d"
      },
      "execution_count": null,
      "outputs": [
        {
          "output_type": "stream",
          "name": "stdout",
          "text": [
            "How much sales for sunday? 154.12\n",
            "How much sales for monday? 542.45\n",
            "How much sales for tuesday? 256.25\n",
            "How much sales for  wednesday? 157.98\n",
            "How much sales for thursday? 453.8\n",
            "How much sales for friday? 552.15\n",
            "How much sales for saturday? 365.45\n",
            "Total sales of the week is $2482.2\n"
          ]
        }
      ]
    },
    {
      "cell_type": "markdown",
      "source": [
        "#Q3. \n",
        "Create a list with at least 5 places you’d like to travel to. Make sure the list isn’t in\n",
        "alphabetical order\n",
        "● Print your list in its original order.\n",
        "● Use the sort() function to arrange your list in order and reprint your list.\n",
        "● Use the sort(reverse=True) and reprint your list.\n"
      ],
      "metadata": {
        "id": "srf_dLttuTHc"
      }
    },
    {
      "cell_type": "code",
      "source": [
        "travel_destination = ['costa rica', 'hungary', 'canada', 'peru', 'denmark', 'liberia', 'south korea']\n",
        "print(travel_destination)"
      ],
      "metadata": {
        "colab": {
          "base_uri": "https://localhost:8080/"
        },
        "id": "GKt081v8uaIZ",
        "outputId": "bb145ac3-bdf3-4c55-d2a0-b43bc7e495bf"
      },
      "execution_count": null,
      "outputs": [
        {
          "output_type": "stream",
          "name": "stdout",
          "text": [
            "['costa rica', 'hungary', 'canada', 'peru', 'denmark', 'liberia', 'south korea']\n"
          ]
        }
      ]
    },
    {
      "cell_type": "code",
      "source": [
        "travel_destination.sort()\n",
        "print(travel_destination)"
      ],
      "metadata": {
        "colab": {
          "base_uri": "https://localhost:8080/"
        },
        "id": "9dsyfQUkzMBb",
        "outputId": "7bf71079-7c1a-44e4-b0c0-4608c7c9690c"
      },
      "execution_count": null,
      "outputs": [
        {
          "output_type": "stream",
          "name": "stdout",
          "text": [
            "['canada', 'costa rica', 'denmark', 'hungary', 'liberia', 'peru', 'south korea']\n"
          ]
        }
      ]
    },
    {
      "cell_type": "code",
      "source": [
        "travel_destination.sort(reverse=True)\n",
        "print(travel_destination)"
      ],
      "metadata": {
        "colab": {
          "base_uri": "https://localhost:8080/"
        },
        "id": "CUyIkJqhzekZ",
        "outputId": "f420a4f9-03ce-454f-9fde-42e9c4363ecc"
      },
      "execution_count": null,
      "outputs": [
        {
          "output_type": "stream",
          "name": "stdout",
          "text": [
            "['south korea', 'peru', 'liberia', 'hungary', 'denmark', 'costa rica', 'canada']\n"
          ]
        }
      ]
    },
    {
      "cell_type": "markdown",
      "source": [
        "# Q4. \n",
        "Write a program that creates a dictionary containing course numbers and the room\n",
        "numbers of the rooms where the courses meet. The program should also create a\n",
        "dictionary containing course numbers and the names of the instructors that teach each\n",
        "course. After that, the program should let the user enter a course number, then it should\n",
        "display the course’s room number, instructor, and meeting time.\n"
      ],
      "metadata": {
        "id": "wUoByW5XuUzH"
      }
    },
    {
      "cell_type": "code",
      "source": [
        "courses = ['data 607', 'data 606', 'data 602']\n",
        "rooms = ['Room 001', 'Room 002', 'Room 003']\n",
        "instructor = ['Andrew Catlin', 'Jason Bryer and Angela Lui', 'Nick Schettini']\n",
        "meeting_time = ['6pm to 7pm', '7pm to 8pm', '8pm to 9pm']"
      ],
      "metadata": {
        "id": "EhJ12tOluag5"
      },
      "execution_count": null,
      "outputs": []
    },
    {
      "cell_type": "code",
      "source": [
        "program = {}\n",
        "for idx in range(len(courses)):\n",
        "    course = courses[idx]\n",
        "    program[course] = (instructor[idx], rooms[idx], meeting_time[idx])\n",
        "\n",
        "#checking if the loop works properly\n",
        "print(program)"
      ],
      "metadata": {
        "colab": {
          "base_uri": "https://localhost:8080/"
        },
        "id": "3sme2uRZ3psj",
        "outputId": "02034cb8-55d6-4d61-8a50-0bbfb2fd319c"
      },
      "execution_count": null,
      "outputs": [
        {
          "output_type": "stream",
          "name": "stdout",
          "text": [
            "{'data 607': ('Andrew Catlin', 'Room 001', '6pm to 7pm'), 'data 606': ('Jason Bryer and Angela Lui', 'Room 002', '7pm to 8pm'), 'data 602': ('Nick Schettini', 'Room 003', '8pm to 9pm')}\n"
          ]
        }
      ]
    },
    {
      "cell_type": "code",
      "source": [
        "def course_lookup():\n",
        "    user = input(\"Enter course lookup: \")\n",
        "    if user in courses:\n",
        "        print('The course', user, 'is taught by', program[user][0], \"in\", program[user][1], 'at', program[user][2])\n",
        "    else: \n",
        "        print('This course is not in the program. Try again.')\n",
        "        course_lookup()"
      ],
      "metadata": {
        "id": "R3p_7FLC6u9N"
      },
      "execution_count": null,
      "outputs": []
    },
    {
      "cell_type": "code",
      "source": [
        "course_lookup()"
      ],
      "metadata": {
        "colab": {
          "base_uri": "https://localhost:8080/"
        },
        "id": "7xoALxCR8jlo",
        "outputId": "bd7f0a4a-21c4-4238-d7ff-2b86d10a6f6a"
      },
      "execution_count": null,
      "outputs": [
        {
          "output_type": "stream",
          "name": "stdout",
          "text": [
            "Enter course lookup: baking 101\n",
            "This course is not in the program. Try again.\n",
            "Enter course lookup: data 602\n",
            "The course data 602 is taught by Nick Schettini in Room 003 at 8pm to 9pm\n"
          ]
        }
      ]
    },
    {
      "cell_type": "markdown",
      "source": [
        "# Q5. \n",
        "Write a program that keeps names and email addresses in a dictionary as\n",
        "key-value pairs. The program should then demonstrate the four options:\n",
        "● look up a person’s email address,\n",
        "● add a new name and email address,\n",
        "● change an existing email address, and\n",
        "● delete an existing name and email address"
      ],
      "metadata": {
        "id": "NCRnKbZ_uXBU"
      }
    },
    {
      "cell_type": "code",
      "source": [
        "# ask the use whether to look up an email, add to the dictionary, update an email, or delete from the dictionary\n",
        "# make existing lists\n",
        "names = ['bob', 'alice', 'charlie']\n",
        "email = ['bob101@gmail.com', 'alice222@cuny.edu', 'TSMnoobmaster@hotmail.com']"
      ],
      "metadata": {
        "id": "p4WtJPZaubTy"
      },
      "execution_count": null,
      "outputs": []
    },
    {
      "cell_type": "code",
      "source": [
        "# make the dictionary\n",
        "email_dictionary = {}\n",
        "for i in range(len(names)):\n",
        "    name = names[i]\n",
        "    email_dictionary[name] = email[i]\n",
        "\n",
        "print(email_dictionary)"
      ],
      "metadata": {
        "colab": {
          "base_uri": "https://localhost:8080/"
        },
        "id": "cflZBJTh_B0w",
        "outputId": "78d7ca9a-b10c-4c9b-ec4b-c7c3c0b8036e"
      },
      "execution_count": null,
      "outputs": [
        {
          "output_type": "stream",
          "name": "stdout",
          "text": [
            "{'bob': 'bob101@gmail.com', 'alice': 'alice222@cuny.edu', 'charlie': 'TSMnoobmaster@hotmail.com'}\n"
          ]
        }
      ]
    },
    {
      "cell_type": "code",
      "source": [
        "# make the functions\n",
        "def email_lookup(name, dict):\n",
        "    print(\"The email of\", name, 'is', dict[name])\n",
        "\n",
        "def add(name, email, dict):\n",
        "    dict[name] = email\n",
        "    return dict\n",
        "\n",
        "def update(name, new_email, dict):\n",
        "    dict[name] = new_email\n",
        "    return dict\n",
        "\n",
        "def delete(name, dict):\n",
        "    del(dict[name])\n",
        "    return dict"
      ],
      "metadata": {
        "id": "wS13wlPZ_p85"
      },
      "execution_count": null,
      "outputs": []
    },
    {
      "cell_type": "code",
      "source": [
        "def email_program():\n",
        "    print(\"Welcome to the email directory!\")\n",
        "    print(\"You can look up, add, update, or delete an email.\")\n",
        "    print('Enter 1 for email look up.')\n",
        "    print('Enter 2 for adding an email')\n",
        "    print('Enter 3 for updating an email')\n",
        "    print('Enter 4 for deletion')\n",
        "\n",
        "    user = int(input(\"What would you like to do? \"))\n",
        "\n",
        "    if user == 1:\n",
        "        name_in = input(\"Enter name: \")\n",
        "        email_lookup(name_in, email_dictionary)\n",
        "\n",
        "    elif user == 2:``\n",
        "        new_name = input(\"Enter name to add:\")\n",
        "        new_email = input(\"Enter new email\")\n",
        "        add(new_name, new_email, email_dictionary)\n",
        "        print('Successfully added', new_name, 'with the email', new_email)\n",
        "\n",
        "    elif user == 3:\n",
        "        update_name = input('Enter name to update:')\n",
        "        new_email = input(\"Enter new email: \")\n",
        "        update(update_name, new_email, email_dictionary)\n",
        "        print(\"The email of\", update_name, 'has been updated.')\n",
        "\n",
        "    elif user == 4:\n",
        "        name = input(\"Enter name to delete from the directory: \")\n",
        "        delete(name, email_dictionary)\n",
        "        print(name, 'has been deleted!')\n",
        "        \n",
        "    else:\n",
        "        print(\"Input not an option. Please try again.\")\n",
        "        email_program()"
      ],
      "metadata": {
        "id": "eKl5msAdBXvi"
      },
      "execution_count": null,
      "outputs": []
    },
    {
      "cell_type": "code",
      "source": [
        "#starts the program\n",
        "#checking 1\n",
        "print(email_dictionary)\n",
        "email_program()"
      ],
      "metadata": {
        "colab": {
          "base_uri": "https://localhost:8080/"
        },
        "id": "QGYfWykOHRJC",
        "outputId": "5a8c212a-19b8-43e5-f546-a50906bdad41"
      },
      "execution_count": null,
      "outputs": [
        {
          "output_type": "stream",
          "name": "stdout",
          "text": [
            "{'bob': 'bob101@gmail.com', 'alice': 'alice222@cuny.edu', 'charlie': 'TSMnoobmaster@hotmail.com'}\n",
            "Welcome to the email directory!\n",
            "You can look up, add, update, or delete an email.\n",
            "Enter 1 for email look up.\n",
            "Enter 2 for adding an email\n",
            "Enter 3 for updating an email\n",
            "Enter 4 for deletion\n",
            "What would you like to do? 1\n",
            "Enter name: bob\n",
            "The email of bob is bob101@gmail.com\n"
          ]
        }
      ]
    },
    {
      "cell_type": "code",
      "source": [
        "#checking 2 \n",
        "email_program()"
      ],
      "metadata": {
        "colab": {
          "base_uri": "https://localhost:8080/"
        },
        "id": "dS_DJUmLKQjZ",
        "outputId": "06938e6d-e479-4264-c520-9c684da63d96"
      },
      "execution_count": null,
      "outputs": [
        {
          "output_type": "stream",
          "name": "stdout",
          "text": [
            "Welcome the email directory!\n",
            "You can look up, add, update, or delete an email.\n",
            "Enter 1 for email look up.\n",
            "Enter 2 for adding an email\n",
            "Enter 3 for updating an email\n",
            "Enter 4 for deletion\n",
            "What would you like to do? 2\n",
            "Enter name to add:nick\n",
            "Enter new emailnick@gmail.com\n",
            "Successfully added nick with the email nick@gmail.com\n"
          ]
        }
      ]
    },
    {
      "cell_type": "code",
      "source": [
        "#checking 3\n",
        "print(email_dictionary)\n",
        "email_program()"
      ],
      "metadata": {
        "colab": {
          "base_uri": "https://localhost:8080/"
        },
        "id": "xP5n9YLwMexl",
        "outputId": "9cd1d200-453b-4a4a-f9db-53b89ea54afb"
      },
      "execution_count": null,
      "outputs": [
        {
          "output_type": "stream",
          "name": "stdout",
          "text": [
            "{'bob': 'bob101@gmail.com', 'alice': 'alice222@cuny.edu', 'charlie': 'TSMnoobmaster@hotmail.com', 'nick': 'nick@gmail.com'}\n",
            "Welcome the email directory!\n",
            "You can look up, add, update, or delete an email.\n",
            "Enter 1 for email look up.\n",
            "Enter 2 for adding an email\n",
            "Enter 3 for updating an email\n",
            "Enter 4 for deletion\n",
            "What would you like to do? 3\n",
            "Enter name to update:nick\n",
            "Enter new email: new_nick@yahoo.com\n",
            "The email of nick has been updated.\n"
          ]
        }
      ]
    },
    {
      "cell_type": "code",
      "source": [
        "#checking 4\n",
        "print(email_dictionary)\n",
        "email_program()"
      ],
      "metadata": {
        "colab": {
          "base_uri": "https://localhost:8080/"
        },
        "id": "tX-3YeheMqNF",
        "outputId": "e1fbf879-74e9-42d7-f360-6718141f7c08"
      },
      "execution_count": null,
      "outputs": [
        {
          "output_type": "stream",
          "name": "stdout",
          "text": [
            "{'bob': 'bob101@gmail.com', 'alice': 'alice222@cuny.edu', 'charlie': 'TSMnoobmaster@hotmail.com', 'nick': 'new_nick@yahoo.com'}\n",
            "Welcome the email directory!\n",
            "You can look up, add, update, or delete an email.\n",
            "Enter 1 for email look up.\n",
            "Enter 2 for adding an email\n",
            "Enter 3 for updating an email\n",
            "Enter 4 for deletion\n",
            "What would you like to do? 4\n",
            "Enter name to delete from the directory: nick\n",
            "nick has been deleted!\n"
          ]
        }
      ]
    },
    {
      "cell_type": "code",
      "source": [
        "print(email_dictionary)"
      ],
      "metadata": {
        "colab": {
          "base_uri": "https://localhost:8080/"
        },
        "id": "QsQDu2t0Mwzp",
        "outputId": "b680fe47-685b-46be-b5d4-c5d96b8666b9"
      },
      "execution_count": null,
      "outputs": [
        {
          "output_type": "stream",
          "name": "stdout",
          "text": [
            "{'bob': 'bob101@gmail.com', 'alice': 'alice222@cuny.edu', 'charlie': 'TSMnoobmaster@hotmail.com'}\n"
          ]
        }
      ]
    }
  ]
}