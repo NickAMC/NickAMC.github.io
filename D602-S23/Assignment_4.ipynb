{
  "nbformat": 4,
  "nbformat_minor": 0,
  "metadata": {
    "colab": {
      "provenance": [],
      "authorship_tag": "ABX9TyOT/hnkAvhcVayz4ko/jN5c",
      "include_colab_link": true
    },
    "kernelspec": {
      "name": "python3",
      "display_name": "Python 3"
    },
    "language_info": {
      "name": "python"
    }
  },
  "cells": [
    {
      "cell_type": "markdown",
      "metadata": {
        "id": "view-in-github",
        "colab_type": "text"
      },
      "source": [
        "<a href=\"https://colab.research.google.com/github/Nick-Climaco/DATA-602-NC/blob/main/Assignment_4.ipynb\" target=\"_parent\"><img src=\"https://colab.research.google.com/assets/colab-badge.svg\" alt=\"Open In Colab\"/></a>"
      ]
    },
    {
      "cell_type": "markdown",
      "source": [
        "Question 1"
      ],
      "metadata": {
        "id": "yS0za2D-CLGk"
      }
    },
    {
      "cell_type": "markdown",
      "source": [
        "Q1: Create a class called BankAccount that has four attributes: bankname, firstname,\n",
        "lastname, and balance.\n",
        "The default balance should be set to 0.\n",
        "In addition, create ...\n",
        "\n",
        "    ● A method called deposit() that allows the user to make deposits into their balance.\n",
        "    ● A method called withdrawal() that allows the user to withdraw from their balance.\n",
        "    ● Withdrawal may not exceed the available balance. Hint: consider a conditional argument in your withdrawal() method.\n",
        "    ● Use the __str__() method in order to display the bank name, owner name, and current balance.\n",
        "    ● Make a series of deposits and withdrawals to test your class."
      ],
      "metadata": {
        "id": "QyQuy2dnCFiP"
      }
    },
    {
      "cell_type": "code",
      "execution_count": 206,
      "metadata": {
        "id": "e5A5HcROB-Z0"
      },
      "outputs": [],
      "source": [
        "class BankAccount:\n",
        "    def __init__(self, bank_name: str, first_name: str, last_name: str, balance: float = 0) -> None:\n",
        "        self.bank_name = bank_name\n",
        "        self.first_name = first_name\n",
        "        self.last_name = last_name\n",
        "        self.balance = balance\n",
        "\n",
        "    def __str__(self) -> str:\n",
        "        return(\"Bank: {} \\nFirst Name: {} \\nLast Name: {} \\nBalance: ${:.2f} \\n\".format(self.bank_name, self.first_name, self.last_name, float(self.balance)))\n",
        "\n",
        "    def deposit(self, deposit_amount) -> str:\n",
        "        self.balance += deposit_amount\n",
        "        return (\"Deposit Amount: ${:.2f} \\nNew Balance: ${:.2f} \\n\".format(deposit_amount, self.balance))\n",
        "\n",
        "    def withdraw(self, withdraw_amount) -> str:\n",
        "        if withdraw_amount <= self.balance and self.balance > 0:\n",
        "            self.balance -= withdraw_amount\n",
        "            return (\"Withdraw Amount: ${:.2f} \\nUpdated Balance: ${:.2f} \\n\".format(withdraw_amount, self.balance))\n",
        "        else:\n",
        "            return (\"Withdrawal of {:.2f} failed. Insufficient funds. Current balance is ${:.2f}.\".format(withdraw_amount, self.balance))\n",
        "\n",
        "    "
      ]
    },
    {
      "cell_type": "code",
      "source": [
        "person1 = BankAccount(\"JP Morgan Chase\", \"Nick\", \"Climaco\", 1000)\n",
        "person2 = BankAccount(\"Citi Bank\", \"Bob\", \"Forrester\")\n",
        "person3 = BankAccount(\"Bank of America\", \"Alice\", \"Lovelace\", 5000)\n",
        "\n",
        "# Print Account Information\n",
        "print(person1)\n",
        "print(person2)\n",
        "print(person3)\n",
        "\n",
        "# Withdraw and Deposit \n",
        "person1.deposit(500.12)\n",
        "person1.withdraw(800.76)\n",
        "\n",
        "person2.deposit(200.32)\n",
        "person2.withdraw(100.30)\n",
        "\n",
        "person3.deposit(2000.46)\n",
        "person3.withdraw(3450.28)\n",
        "\n",
        "# New Balance\n",
        "print(\"Updated Balances: \\n\")\n",
        "print(person1)\n",
        "print(person2)\n",
        "print(person3)\n",
        "\n",
        "# Test for insufficient funds\n",
        "print(person1.withdraw(10000))\n",
        "print(person2.withdraw(500000))\n",
        "print(person3.withdraw(9999999))\n"
      ],
      "metadata": {
        "colab": {
          "base_uri": "https://localhost:8080/"
        },
        "id": "0oWruxqELdD1",
        "outputId": "29e72941-435d-4d30-801e-8dddba772dba"
      },
      "execution_count": 207,
      "outputs": [
        {
          "output_type": "stream",
          "name": "stdout",
          "text": [
            "Bank: JP Morgan Chase \n",
            "First Name: Nick \n",
            "Last Name: Climaco \n",
            "Balance: $1000.00 \n",
            "\n",
            "Bank: Citi Bank \n",
            "First Name: Bob \n",
            "Last Name: Forrester \n",
            "Balance: $0.00 \n",
            "\n",
            "Bank: Bank of America \n",
            "First Name: Alice \n",
            "Last Name: Lovelace \n",
            "Balance: $5000.00 \n",
            "\n",
            "Updated Balances: \n",
            "\n",
            "Bank: JP Morgan Chase \n",
            "First Name: Nick \n",
            "Last Name: Climaco \n",
            "Balance: $699.36 \n",
            "\n",
            "Bank: Citi Bank \n",
            "First Name: Bob \n",
            "Last Name: Forrester \n",
            "Balance: $100.02 \n",
            "\n",
            "Bank: Bank of America \n",
            "First Name: Alice \n",
            "Last Name: Lovelace \n",
            "Balance: $3550.18 \n",
            "\n",
            "Withdrawal of 10000.00 failed. Insufficient funds. Current balance is $699.36.\n",
            "Withdrawal of 500000.00 failed. Insufficient funds. Current balance is $100.02.\n",
            "Withdrawal of 9999999.00 failed. Insufficient funds. Current balance is $3550.18.\n"
          ]
        }
      ]
    },
    {
      "cell_type": "markdown",
      "source": [
        "# Question 2\n",
        "\n",
        "Create a class Box that has attributes length and width that takes values for length\n",
        "and width upon construction (instantiation via the constructor).\n",
        "In addition, create…\n",
        "\n",
        "    ● A method called render() that prints out to the screen a box made with asterisks of\n",
        "    length and width dimensions\n",
        "    ● A method called invert() that switches length and width with each other\n",
        "    ● Methods get_area() and get_perimeter() that return appropriate geometric calculations\n",
        "    ● A method called double() that doubles the size of the box. Hint: Pay attention to return\n",
        "    value here.\n",
        "    ● Implement __eq__ so that two boxes can be compared using ==. Two boxes are equal if\n",
        "    their respective lengths and widths are identical.\n",
        "    ● A method print_dim() that prints to screen the length and width details of the box\n",
        "    ● A method get_dim() that returns a tuple containing the length and width of the box\n",
        "    ● A method combine() that takes another box as an argument and increases the length\n",
        "    and width by the dimensions of the box passed in\n",
        "    ● A method get_hypot() that finds the length of the diagonal that cuts through the middle\n",
        "    ● Instantiate 3 boxes of dimensions 5,10 , 3,4 and 5,10 and assign to variables box1,\n",
        "    box2 and box3 respectively\n",
        "    ● Print dimension info for each using print_dim()\n",
        "    ● Evaluate if box1 == box2, and also evaluate if box1 == box3, print True or False to the\n",
        "    screen accordingly\n",
        "    ● Combine box3 into box1 (i.e. box1.combine())\n",
        "    ● Double the size of box2\n",
        "    ● Combine box2 into box1"
      ],
      "metadata": {
        "id": "1u57dTIxYhF6"
      }
    },
    {
      "cell_type": "code",
      "source": [
        "import math\n",
        "class Box:\n",
        "    def __init__(self, length:float, width:float) -> None:\n",
        "        self.length = length\n",
        "        self.width = width\n",
        "    \n",
        "    def __eq__(self, other: object) -> bool:\n",
        "        if isinstance(other, Box):\n",
        "            return self.length == other.length and self.width == other.width\n",
        "        else:\n",
        "            return False\n",
        "\n",
        "    def render(self) -> str:\n",
        "        stars = \"\"\n",
        "        for i in range(0, self.length):\n",
        "             stars += \"*\"\n",
        "        for j in range(0, self.width):\n",
        "            print(stars)\n",
        "    \n",
        "    def invert(self) -> tuple:\n",
        "        self.length, self.width = self.width, self.length\n",
        "        return self.length, self.width\n",
        "\n",
        "    def get_area(self) -> float:\n",
        "        return self.length * self.width\n",
        "    \n",
        "    def get_perimeter(self) -> float:\n",
        "        return 2 * (self.length + self.width)\n",
        "\n",
        "    def double(self) -> tuple:\n",
        "        return 2*self.length, 2*self.width\n",
        "    \n",
        "    def print_dim(self) -> str:\n",
        "        print(\"The box has length {:.2f} and width {:.2f}.\".format(self.length, self.width))\n",
        "    \n",
        "    def get_dim(self) -> tuple:\n",
        "        return self.length, self.width\n",
        "\n",
        "    def combine(self, other: object) -> tuple:\n",
        "        return self.length + other.length, self.width + other.width\n",
        "\n",
        "    def get_hypot(self) -> float:\n",
        "        return round(math.sqrt(self.length ** 2 + self.width ** 2), 2)\n",
        "    \n",
        "    \n",
        "\n",
        "    "
      ],
      "metadata": {
        "id": "Aef-Y2pVYoTA"
      },
      "execution_count": 208,
      "outputs": []
    },
    {
      "cell_type": "code",
      "source": [
        "box1 = Box(5, 10)\n",
        "box2 = Box(3, 4)\n",
        "box3 = Box(5, 10)"
      ],
      "metadata": {
        "id": "u0NU-NZYpj8p"
      },
      "execution_count": 209,
      "outputs": []
    },
    {
      "cell_type": "code",
      "source": [
        "box1.print_dim()\n",
        "box2.print_dim()\n",
        "box3.print_dim()"
      ],
      "metadata": {
        "colab": {
          "base_uri": "https://localhost:8080/"
        },
        "id": "OvRcTJCR0uMJ",
        "outputId": "f523e148-6949-4df4-8cb4-a2446ab059f2"
      },
      "execution_count": 210,
      "outputs": [
        {
          "output_type": "stream",
          "name": "stdout",
          "text": [
            "The box has length 5.00 and width 10.00.\n",
            "The box has length 3.00 and width 4.00.\n",
            "The box has length 5.00 and width 10.00.\n"
          ]
        }
      ]
    },
    {
      "cell_type": "code",
      "source": [
        "print(box1 == box2)\n",
        "print(box1 == box3)"
      ],
      "metadata": {
        "colab": {
          "base_uri": "https://localhost:8080/"
        },
        "id": "-2EQ83SK03vX",
        "outputId": "012702f4-6643-474e-8cbd-a5ebd25f896a"
      },
      "execution_count": 211,
      "outputs": [
        {
          "output_type": "stream",
          "name": "stdout",
          "text": [
            "False\n",
            "True\n"
          ]
        }
      ]
    },
    {
      "cell_type": "code",
      "source": [
        "box1.combine(box3)"
      ],
      "metadata": {
        "colab": {
          "base_uri": "https://localhost:8080/"
        },
        "id": "uDsgK8BS1HEt",
        "outputId": "dbdd09e9-ce76-40bd-c2ef-6991591ff5f6"
      },
      "execution_count": 212,
      "outputs": [
        {
          "output_type": "execute_result",
          "data": {
            "text/plain": [
              "(10, 20)"
            ]
          },
          "metadata": {},
          "execution_count": 212
        }
      ]
    },
    {
      "cell_type": "code",
      "source": [
        "box2.double()"
      ],
      "metadata": {
        "colab": {
          "base_uri": "https://localhost:8080/"
        },
        "id": "I1ctAWYB1Lcz",
        "outputId": "f4f5fd87-a7c0-4c6e-d178-7eedde04b67a"
      },
      "execution_count": 213,
      "outputs": [
        {
          "output_type": "execute_result",
          "data": {
            "text/plain": [
              "(6, 8)"
            ]
          },
          "metadata": {},
          "execution_count": 213
        }
      ]
    },
    {
      "cell_type": "code",
      "source": [
        "box1.combine(box2)"
      ],
      "metadata": {
        "colab": {
          "base_uri": "https://localhost:8080/"
        },
        "id": "loV3UwND1PaI",
        "outputId": "9bd68510-b7d8-4298-e1da-64f9a9adbffb"
      },
      "execution_count": 214,
      "outputs": [
        {
          "output_type": "execute_result",
          "data": {
            "text/plain": [
              "(8, 14)"
            ]
          },
          "metadata": {},
          "execution_count": 214
        }
      ]
    }
  ]
}