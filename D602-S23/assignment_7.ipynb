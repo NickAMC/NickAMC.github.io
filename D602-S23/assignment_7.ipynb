{
 "cells": [
  {
   "cell_type": "raw",
   "source": [
    "# Assignment 7"
   ],
   "metadata": {
    "collapsed": false,
    "pycharm": {
     "name": ""
    }
   }
  },
  {
   "cell_type": "markdown",
   "source": [
    "## Introduction"
   ],
   "metadata": {
    "collapsed": false
   }
  },
  {
   "cell_type": "markdown",
   "source": [
    "This dataset contains current job listing for the NYC government jobs. It includes job listing from the nyc.gov website and other job posting website like indeed or LinkedIn. Update: Weekly. It has all the revelant information a job seeker would want such as location, job description, number of available positions , and salary range.\n",
    "\n",
    "[LINK: NYC JOBS LISTINGS](https://data.cityofnewyork.us/City-Government/NYC-Jobs/kpav-sd4t)"
   ],
   "metadata": {
    "collapsed": false
   }
  },
  {
   "cell_type": "markdown",
   "source": [
    "### Import Necessary Packages"
   ],
   "metadata": {
    "collapsed": false
   }
  },
  {
   "cell_type": "code",
   "execution_count": 22,
   "outputs": [],
   "source": [
    "import pandas as pd\n",
    "import re"
   ],
   "metadata": {
    "collapsed": false
   }
  },
  {
   "cell_type": "markdown",
   "source": [
    "### Load Data"
   ],
   "metadata": {
    "collapsed": false
   }
  },
  {
   "cell_type": "code",
   "execution_count": 3,
   "outputs": [],
   "source": [
    "# API endpoint\n",
    "url = \"https://data.cityofnewyork.us/resource/kpav-sd4t.csv\"\n",
    "params = {\n",
    "    # increases the limit of rows recieved from API because without the API's default limit was 1000 rows\n",
    "    \"$limit\": 10000\n",
    "}\n",
    "# Make the API request and parse the response into a dataframe\n",
    "response = requests.get(url, params=params)\n",
    "df = pd.read_csv(response.url)"
   ],
   "metadata": {
    "collapsed": false
   }
  },
  {
   "cell_type": "code",
   "execution_count": 4,
   "outputs": [
    {
     "data": {
      "text/plain": "      job_id                        agency posting_type  number_of_positions  \\\n0     576947       DEPARTMENT OF BUILDINGS     Internal                    3   \n1     564623     OFFICE OF LABOR RELATIONS     Internal                   13   \n2     533544     ADMIN FOR CHILDREN'S SVCS     External                    1   \n3     545994  DEPARTMENT OF TRANSPORTATION     Internal                    1   \n4     538672   HRA/DEPT OF SOCIAL SERVICES     External                    1   \n...      ...                           ...          ...                  ...   \n6298  553066   HRA/DEPT OF SOCIAL SERVICES     External                    1   \n6299  574319         DEPARTMENT OF FINANCE     Internal                    1   \n6300  576201                LAW DEPARTMENT     Internal                    2   \n6301  559445             POLICE DEPARTMENT     Internal                    1   \n6302  530252   TAXI & LIMOUSINE COMMISSION     Internal                    1   \n\n                           business_title             civil_service_title  \\\n0                           Plan Examiner           PLAN EXAMINER (BLDGS)   \n1                          Data Processor             COMMUNITY ASSISTANT   \n2            Security Consultant, Horizon           COMMUNITY COORDINATOR   \n3                 Civil Engineer Level -3                  CIVIL ENGINEER   \n4                   DIRECTOR, SNT PROGRAM        EXECUTIVE AGENCY COUNSEL   \n...                                   ...                             ...   \n6298  IT MOBILE SUPPORT TECHNICIAN - EHVP  TELECOMMUNICATIONS ASSOCIATE (   \n6299                   Java Web Developer  COMPUTER SPECIALIST (SOFTWARE)   \n6300   Help Desk Specialist - IT Division                   COMPUTER AIDE   \n6301    Senior Police Administrative Aide  SENIOR POLICE ADMINISTRATIVE A   \n6302                    Chief of Training  ADMINISTRATIIVE TAXI & LIMOUSI   \n\n     title_classification title_code_no level  \\\n0           Competitive-1         22410    00   \n1       Non-Competitive-5         56056    00   \n2       Non-Competitive-5         56058    00   \n3           Competitive-1         20215    03   \n4       Non-Competitive-5         95005    M2   \n...                   ...           ...   ...   \n6298        Competitive-1         20247    02   \n6299        Competitive-1         13632    04   \n6300        Competitive-1         13620    02   \n6301        Competitive-1         10147    00   \n6302        Competitive-1         10079    M2   \n\n                                           job_category  ...  \\\n0                 Engineering, Architecture, & Planning  ...   \n1                      Administration & Human Resources  ...   \n2             Public Safety, Inspections, & Enforcement  ...   \n3                 Engineering, Architecture, & Planning  ...   \n4     Administration & Human Resources Constituent S...  ...   \n...                                                 ...  ...   \n6298                      Technology, Data & Innovation  ...   \n6299  Communications & Intergovernmental Affairs Tec...  ...   \n6300                      Technology, Data & Innovation  ...   \n6301                   Administration & Human Resources  ...   \n6302          Public Safety, Inspections, & Enforcement  ...   \n\n                                 additional_information  \\\n0     You must be able to understand and be understo...   \n1     PLEASE NOTE:  THIS IS A TEMPORARY POSITION UNT...   \n2     Section 424-A of the New York Social Services ...   \n3     The City of New York is an inclusive equal opp...   \n4     **LOAN FORGIVENESS  The federal government pro...   \n...                                                 ...   \n6298  **LOAN FORGIVENESS  The federal government pro...   \n6299  The City of New York is an inclusive equal opp...   \n6300  âAs a current or prospective employee of the...   \n6301  This lateral opportunity is open to current Se...   \n6302  The City of New York is an inclusive equal opp...   \n\n                                               to_apply  \\\n0     For Non-City/External Candidates: Visit the Ex...   \n1     TO APPLY PLEASE SUBMIT YOUR COVER LETTER AND R...   \n2                        Click on the Apply button now.   \n3     Resumes may be submitted electronically using ...   \n4                                Click Apply Now Button   \n...                                                 ...   \n6298                            Click APPLY NOW Button.   \n6299  Click the Apply Now button.  While we apprecia...   \n6300              Please click on the Apply Now button.   \n6301                        Click the Apply Now button.   \n6302  Click, APPLY NOW Current city employees must a...   \n\n                                            hours_shift  \\\n0                                                   NaN   \n1                                                   NaN   \n2                                                   NaN   \n3                                              35 Hours   \n4                              Monday to Friday: 9 - 5.   \n...                                                 ...   \n6298  Monday â Friday 9am â 5pm or Tuesday - Sat...   \n6299  Unless otherwise indicated, all positions requ...   \n6300                                                NaN   \n6301      MondayxFriday 0700x1500, 0800x1600, 0900x1700   \n6302                                                NaN   \n\n                                        work_location_1 recruitment_contact  \\\n0     CITYWIDE Unit assignment and work location are...                 NaN   \n1                                                   NaN                 NaN   \n2                                                   NaN                 NaN   \n3                                     55 Water St Ny Ny                 NaN   \n4                                                   NaN                 NaN   \n...                                                 ...                 ...   \n6298                                12 W 14Th St., N.Y.                 NaN   \n6299  59 Maiden Lane (Current location but could be ...                 NaN   \n6300                                                NaN                 NaN   \n6301             516 East Tremont Ave., Bronx, NY 10457                 NaN   \n6302                  31-89 123rd Street, College Point                 NaN   \n\n                                  residency_requirement  \\\n0     New York City Residency is not required for th...   \n1     New York City residency is generally required ...   \n2     New York City residency is generally required ...   \n3     New York City Residency is not required for th...   \n4     New York City residency is generally required ...   \n...                                                 ...   \n6298  New York City residency is generally required ...   \n6299  New York City Residency is not required for th...   \n6300  New York City residency is generally required ...   \n6301  New York City residency is generally required ...   \n6302  New York City residency is generally required ...   \n\n                 posting_date   post_until          posting_updated  \\\n0     2023-03-01T00:00:00.000  31-MAR-2023  2023-03-01T00:00:00.000   \n1     2022-12-29T00:00:00.000          NaN  2023-03-06T00:00:00.000   \n2     2022-08-19T00:00:00.000          NaN  2022-08-19T00:00:00.000   \n3     2022-09-27T00:00:00.000          NaN  2022-10-04T00:00:00.000   \n4     2022-07-15T00:00:00.000          NaN  2022-12-12T00:00:00.000   \n...                       ...          ...                      ...   \n6298  2022-10-19T00:00:00.000          NaN  2023-01-11T00:00:00.000   \n6299  2023-02-23T00:00:00.000  09-MAR-2023  2023-02-22T00:00:00.000   \n6300  2023-03-01T00:00:00.000          NaN  2023-03-01T00:00:00.000   \n6301  2023-02-21T00:00:00.000          NaN  2023-02-22T00:00:00.000   \n6302  2022-04-28T00:00:00.000          NaN  2022-05-02T00:00:00.000   \n\n                 process_date  \n0     2023-03-07T00:00:00.000  \n1     2023-03-07T00:00:00.000  \n2     2023-03-07T00:00:00.000  \n3     2023-03-07T00:00:00.000  \n4     2023-03-07T00:00:00.000  \n...                       ...  \n6298  2023-03-07T00:00:00.000  \n6299  2023-03-07T00:00:00.000  \n6300  2023-03-07T00:00:00.000  \n6301  2023-03-07T00:00:00.000  \n6302  2023-03-07T00:00:00.000  \n\n[6303 rows x 30 columns]",
      "text/html": "<div>\n<style scoped>\n    .dataframe tbody tr th:only-of-type {\n        vertical-align: middle;\n    }\n\n    .dataframe tbody tr th {\n        vertical-align: top;\n    }\n\n    .dataframe thead th {\n        text-align: right;\n    }\n</style>\n<table border=\"1\" class=\"dataframe\">\n  <thead>\n    <tr style=\"text-align: right;\">\n      <th></th>\n      <th>job_id</th>\n      <th>agency</th>\n      <th>posting_type</th>\n      <th>number_of_positions</th>\n      <th>business_title</th>\n      <th>civil_service_title</th>\n      <th>title_classification</th>\n      <th>title_code_no</th>\n      <th>level</th>\n      <th>job_category</th>\n      <th>...</th>\n      <th>additional_information</th>\n      <th>to_apply</th>\n      <th>hours_shift</th>\n      <th>work_location_1</th>\n      <th>recruitment_contact</th>\n      <th>residency_requirement</th>\n      <th>posting_date</th>\n      <th>post_until</th>\n      <th>posting_updated</th>\n      <th>process_date</th>\n    </tr>\n  </thead>\n  <tbody>\n    <tr>\n      <th>0</th>\n      <td>576947</td>\n      <td>DEPARTMENT OF BUILDINGS</td>\n      <td>Internal</td>\n      <td>3</td>\n      <td>Plan Examiner</td>\n      <td>PLAN EXAMINER (BLDGS)</td>\n      <td>Competitive-1</td>\n      <td>22410</td>\n      <td>00</td>\n      <td>Engineering, Architecture, &amp; Planning</td>\n      <td>...</td>\n      <td>You must be able to understand and be understo...</td>\n      <td>For Non-City/External Candidates: Visit the Ex...</td>\n      <td>NaN</td>\n      <td>CITYWIDE Unit assignment and work location are...</td>\n      <td>NaN</td>\n      <td>New York City Residency is not required for th...</td>\n      <td>2023-03-01T00:00:00.000</td>\n      <td>31-MAR-2023</td>\n      <td>2023-03-01T00:00:00.000</td>\n      <td>2023-03-07T00:00:00.000</td>\n    </tr>\n    <tr>\n      <th>1</th>\n      <td>564623</td>\n      <td>OFFICE OF LABOR RELATIONS</td>\n      <td>Internal</td>\n      <td>13</td>\n      <td>Data Processor</td>\n      <td>COMMUNITY ASSISTANT</td>\n      <td>Non-Competitive-5</td>\n      <td>56056</td>\n      <td>00</td>\n      <td>Administration &amp; Human Resources</td>\n      <td>...</td>\n      <td>PLEASE NOTE:  THIS IS A TEMPORARY POSITION UNT...</td>\n      <td>TO APPLY PLEASE SUBMIT YOUR COVER LETTER AND R...</td>\n      <td>NaN</td>\n      <td>NaN</td>\n      <td>NaN</td>\n      <td>New York City residency is generally required ...</td>\n      <td>2022-12-29T00:00:00.000</td>\n      <td>NaN</td>\n      <td>2023-03-06T00:00:00.000</td>\n      <td>2023-03-07T00:00:00.000</td>\n    </tr>\n    <tr>\n      <th>2</th>\n      <td>533544</td>\n      <td>ADMIN FOR CHILDREN'S SVCS</td>\n      <td>External</td>\n      <td>1</td>\n      <td>Security Consultant, Horizon</td>\n      <td>COMMUNITY COORDINATOR</td>\n      <td>Non-Competitive-5</td>\n      <td>56058</td>\n      <td>00</td>\n      <td>Public Safety, Inspections, &amp; Enforcement</td>\n      <td>...</td>\n      <td>Section 424-A of the New York Social Services ...</td>\n      <td>Click on the Apply button now.</td>\n      <td>NaN</td>\n      <td>NaN</td>\n      <td>NaN</td>\n      <td>New York City residency is generally required ...</td>\n      <td>2022-08-19T00:00:00.000</td>\n      <td>NaN</td>\n      <td>2022-08-19T00:00:00.000</td>\n      <td>2023-03-07T00:00:00.000</td>\n    </tr>\n    <tr>\n      <th>3</th>\n      <td>545994</td>\n      <td>DEPARTMENT OF TRANSPORTATION</td>\n      <td>Internal</td>\n      <td>1</td>\n      <td>Civil Engineer Level -3</td>\n      <td>CIVIL ENGINEER</td>\n      <td>Competitive-1</td>\n      <td>20215</td>\n      <td>03</td>\n      <td>Engineering, Architecture, &amp; Planning</td>\n      <td>...</td>\n      <td>The City of New York is an inclusive equal opp...</td>\n      <td>Resumes may be submitted electronically using ...</td>\n      <td>35 Hours</td>\n      <td>55 Water St Ny Ny</td>\n      <td>NaN</td>\n      <td>New York City Residency is not required for th...</td>\n      <td>2022-09-27T00:00:00.000</td>\n      <td>NaN</td>\n      <td>2022-10-04T00:00:00.000</td>\n      <td>2023-03-07T00:00:00.000</td>\n    </tr>\n    <tr>\n      <th>4</th>\n      <td>538672</td>\n      <td>HRA/DEPT OF SOCIAL SERVICES</td>\n      <td>External</td>\n      <td>1</td>\n      <td>DIRECTOR, SNT PROGRAM</td>\n      <td>EXECUTIVE AGENCY COUNSEL</td>\n      <td>Non-Competitive-5</td>\n      <td>95005</td>\n      <td>M2</td>\n      <td>Administration &amp; Human Resources Constituent S...</td>\n      <td>...</td>\n      <td>**LOAN FORGIVENESS  The federal government pro...</td>\n      <td>Click Apply Now Button</td>\n      <td>Monday to Friday: 9 - 5.</td>\n      <td>NaN</td>\n      <td>NaN</td>\n      <td>New York City residency is generally required ...</td>\n      <td>2022-07-15T00:00:00.000</td>\n      <td>NaN</td>\n      <td>2022-12-12T00:00:00.000</td>\n      <td>2023-03-07T00:00:00.000</td>\n    </tr>\n    <tr>\n      <th>...</th>\n      <td>...</td>\n      <td>...</td>\n      <td>...</td>\n      <td>...</td>\n      <td>...</td>\n      <td>...</td>\n      <td>...</td>\n      <td>...</td>\n      <td>...</td>\n      <td>...</td>\n      <td>...</td>\n      <td>...</td>\n      <td>...</td>\n      <td>...</td>\n      <td>...</td>\n      <td>...</td>\n      <td>...</td>\n      <td>...</td>\n      <td>...</td>\n      <td>...</td>\n      <td>...</td>\n    </tr>\n    <tr>\n      <th>6298</th>\n      <td>553066</td>\n      <td>HRA/DEPT OF SOCIAL SERVICES</td>\n      <td>External</td>\n      <td>1</td>\n      <td>IT MOBILE SUPPORT TECHNICIAN - EHVP</td>\n      <td>TELECOMMUNICATIONS ASSOCIATE (</td>\n      <td>Competitive-1</td>\n      <td>20247</td>\n      <td>02</td>\n      <td>Technology, Data &amp; Innovation</td>\n      <td>...</td>\n      <td>**LOAN FORGIVENESS  The federal government pro...</td>\n      <td>Click APPLY NOW Button.</td>\n      <td>Monday â Friday 9am â 5pm or Tuesday - Sat...</td>\n      <td>12 W 14Th St., N.Y.</td>\n      <td>NaN</td>\n      <td>New York City residency is generally required ...</td>\n      <td>2022-10-19T00:00:00.000</td>\n      <td>NaN</td>\n      <td>2023-01-11T00:00:00.000</td>\n      <td>2023-03-07T00:00:00.000</td>\n    </tr>\n    <tr>\n      <th>6299</th>\n      <td>574319</td>\n      <td>DEPARTMENT OF FINANCE</td>\n      <td>Internal</td>\n      <td>1</td>\n      <td>Java Web Developer</td>\n      <td>COMPUTER SPECIALIST (SOFTWARE)</td>\n      <td>Competitive-1</td>\n      <td>13632</td>\n      <td>04</td>\n      <td>Communications &amp; Intergovernmental Affairs Tec...</td>\n      <td>...</td>\n      <td>The City of New York is an inclusive equal opp...</td>\n      <td>Click the Apply Now button.  While we apprecia...</td>\n      <td>Unless otherwise indicated, all positions requ...</td>\n      <td>59 Maiden Lane (Current location but could be ...</td>\n      <td>NaN</td>\n      <td>New York City Residency is not required for th...</td>\n      <td>2023-02-23T00:00:00.000</td>\n      <td>09-MAR-2023</td>\n      <td>2023-02-22T00:00:00.000</td>\n      <td>2023-03-07T00:00:00.000</td>\n    </tr>\n    <tr>\n      <th>6300</th>\n      <td>576201</td>\n      <td>LAW DEPARTMENT</td>\n      <td>Internal</td>\n      <td>2</td>\n      <td>Help Desk Specialist - IT Division</td>\n      <td>COMPUTER AIDE</td>\n      <td>Competitive-1</td>\n      <td>13620</td>\n      <td>02</td>\n      <td>Technology, Data &amp; Innovation</td>\n      <td>...</td>\n      <td>âAs a current or prospective employee of the...</td>\n      <td>Please click on the Apply Now button.</td>\n      <td>NaN</td>\n      <td>NaN</td>\n      <td>NaN</td>\n      <td>New York City residency is generally required ...</td>\n      <td>2023-03-01T00:00:00.000</td>\n      <td>NaN</td>\n      <td>2023-03-01T00:00:00.000</td>\n      <td>2023-03-07T00:00:00.000</td>\n    </tr>\n    <tr>\n      <th>6301</th>\n      <td>559445</td>\n      <td>POLICE DEPARTMENT</td>\n      <td>Internal</td>\n      <td>1</td>\n      <td>Senior Police Administrative Aide</td>\n      <td>SENIOR POLICE ADMINISTRATIVE A</td>\n      <td>Competitive-1</td>\n      <td>10147</td>\n      <td>00</td>\n      <td>Administration &amp; Human Resources</td>\n      <td>...</td>\n      <td>This lateral opportunity is open to current Se...</td>\n      <td>Click the Apply Now button.</td>\n      <td>MondayxFriday 0700x1500, 0800x1600, 0900x1700</td>\n      <td>516 East Tremont Ave., Bronx, NY 10457</td>\n      <td>NaN</td>\n      <td>New York City residency is generally required ...</td>\n      <td>2023-02-21T00:00:00.000</td>\n      <td>NaN</td>\n      <td>2023-02-22T00:00:00.000</td>\n      <td>2023-03-07T00:00:00.000</td>\n    </tr>\n    <tr>\n      <th>6302</th>\n      <td>530252</td>\n      <td>TAXI &amp; LIMOUSINE COMMISSION</td>\n      <td>Internal</td>\n      <td>1</td>\n      <td>Chief of Training</td>\n      <td>ADMINISTRATIIVE TAXI &amp; LIMOUSI</td>\n      <td>Competitive-1</td>\n      <td>10079</td>\n      <td>M2</td>\n      <td>Public Safety, Inspections, &amp; Enforcement</td>\n      <td>...</td>\n      <td>The City of New York is an inclusive equal opp...</td>\n      <td>Click, APPLY NOW Current city employees must a...</td>\n      <td>NaN</td>\n      <td>31-89 123rd Street, College Point</td>\n      <td>NaN</td>\n      <td>New York City residency is generally required ...</td>\n      <td>2022-04-28T00:00:00.000</td>\n      <td>NaN</td>\n      <td>2022-05-02T00:00:00.000</td>\n      <td>2023-03-07T00:00:00.000</td>\n    </tr>\n  </tbody>\n</table>\n<p>6303 rows × 30 columns</p>\n</div>"
     },
     "execution_count": 4,
     "metadata": {},
     "output_type": "execute_result"
    }
   ],
   "source": [
    "df"
   ],
   "metadata": {
    "collapsed": false
   }
  },
  {
   "cell_type": "markdown",
   "source": [
    "### Cleaning the Data"
   ],
   "metadata": {
    "collapsed": false
   }
  },
  {
   "cell_type": "markdown",
   "source": [
    "1. Here, we are renaming some of the columns name to better indicate the purpose of each column."
   ],
   "metadata": {
    "collapsed": false
   }
  },
  {
   "cell_type": "code",
   "execution_count": 5,
   "outputs": [],
   "source": [
    "df = df.rename(columns = {\"full_time_part_time_indicator\" : \"employment_type\",\n",
    "                          \"minimum_qual_requirements\" : \"minimum_qualifications\",\n",
    "                          \"work_location_1\" : \"work_location_2\"})"
   ],
   "metadata": {
    "collapsed": false
   }
  },
  {
   "cell_type": "markdown",
   "source": [
    "Created a function called clean_columns takes in a dataframe and list of columns names where it removes any non alpha numeric characters each data cell."
   ],
   "metadata": {
    "collapsed": false
   }
  },
  {
   "cell_type": "code",
   "execution_count": 6,
   "outputs": [],
   "source": [
    "def clean_columns(df, columns) :\n",
    "    for column in columns :\n",
    "        df[column] = df[column].str.replace('[^a-zA-Z0-9\\s]|\\t', '', regex = True)\n",
    "    return df"
   ],
   "metadata": {
    "collapsed": false
   }
  },
  {
   "cell_type": "code",
   "execution_count": 7,
   "outputs": [
    {
     "data": {
      "text/plain": "      job_id                        agency posting_type  number_of_positions  \\\n0     576947       DEPARTMENT OF BUILDINGS     Internal                    3   \n1     564623     OFFICE OF LABOR RELATIONS     Internal                   13   \n2     533544     ADMIN FOR CHILDREN'S SVCS     External                    1   \n3     545994  DEPARTMENT OF TRANSPORTATION     Internal                    1   \n4     538672   HRA/DEPT OF SOCIAL SERVICES     External                    1   \n...      ...                           ...          ...                  ...   \n6298  553066   HRA/DEPT OF SOCIAL SERVICES     External                    1   \n6299  574319         DEPARTMENT OF FINANCE     Internal                    1   \n6300  576201                LAW DEPARTMENT     Internal                    2   \n6301  559445             POLICE DEPARTMENT     Internal                    1   \n6302  530252   TAXI & LIMOUSINE COMMISSION     Internal                    1   \n\n                           business_title             civil_service_title  \\\n0                           Plan Examiner           PLAN EXAMINER (BLDGS)   \n1                          Data Processor             COMMUNITY ASSISTANT   \n2            Security Consultant, Horizon           COMMUNITY COORDINATOR   \n3                 Civil Engineer Level -3                  CIVIL ENGINEER   \n4                   DIRECTOR, SNT PROGRAM        EXECUTIVE AGENCY COUNSEL   \n...                                   ...                             ...   \n6298  IT MOBILE SUPPORT TECHNICIAN - EHVP  TELECOMMUNICATIONS ASSOCIATE (   \n6299                   Java Web Developer  COMPUTER SPECIALIST (SOFTWARE)   \n6300   Help Desk Specialist - IT Division                   COMPUTER AIDE   \n6301    Senior Police Administrative Aide  SENIOR POLICE ADMINISTRATIVE A   \n6302                    Chief of Training  ADMINISTRATIIVE TAXI & LIMOUSI   \n\n     title_classification title_code_no level  \\\n0           Competitive-1         22410    00   \n1       Non-Competitive-5         56056    00   \n2       Non-Competitive-5         56058    00   \n3           Competitive-1         20215    03   \n4       Non-Competitive-5         95005    M2   \n...                   ...           ...   ...   \n6298        Competitive-1         20247    02   \n6299        Competitive-1         13632    04   \n6300        Competitive-1         13620    02   \n6301        Competitive-1         10147    00   \n6302        Competitive-1         10079    M2   \n\n                                           job_category  ...  \\\n0                 Engineering, Architecture, & Planning  ...   \n1                      Administration & Human Resources  ...   \n2             Public Safety, Inspections, & Enforcement  ...   \n3                 Engineering, Architecture, & Planning  ...   \n4     Administration & Human Resources Constituent S...  ...   \n...                                                 ...  ...   \n6298                      Technology, Data & Innovation  ...   \n6299  Communications & Intergovernmental Affairs Tec...  ...   \n6300                      Technology, Data & Innovation  ...   \n6301                   Administration & Human Resources  ...   \n6302          Public Safety, Inspections, & Enforcement  ...   \n\n                                 additional_information  \\\n0     You must be able to understand and be understo...   \n1     PLEASE NOTE  THIS IS A TEMPORARY POSITION UNTI...   \n2     Section 424A of the New York Social Services L...   \n3     The City of New York is an inclusive equal opp...   \n4     LOAN FORGIVENESS  The federal government provi...   \n...                                                 ...   \n6298  LOAN FORGIVENESS  The federal government provi...   \n6299  The City of New York is an inclusive equal opp...   \n6300  As a current or prospective employee of the Ci...   \n6301  This lateral opportunity is open to current Se...   \n6302  The City of New York is an inclusive equal opp...   \n\n                                               to_apply  \\\n0     For Non-City/External Candidates: Visit the Ex...   \n1     TO APPLY PLEASE SUBMIT YOUR COVER LETTER AND R...   \n2                        Click on the Apply button now.   \n3     Resumes may be submitted electronically using ...   \n4                                Click Apply Now Button   \n...                                                 ...   \n6298                            Click APPLY NOW Button.   \n6299  Click the Apply Now button.  While we apprecia...   \n6300              Please click on the Apply Now button.   \n6301                        Click the Apply Now button.   \n6302  Click, APPLY NOW Current city employees must a...   \n\n                                            hours_shift  \\\n0                                                   NaN   \n1                                                   NaN   \n2                                                   NaN   \n3                                              35 Hours   \n4                              Monday to Friday: 9 - 5.   \n...                                                 ...   \n6298  Monday â Friday 9am â 5pm or Tuesday - Sat...   \n6299  Unless otherwise indicated, all positions requ...   \n6300                                                NaN   \n6301      MondayxFriday 0700x1500, 0800x1600, 0900x1700   \n6302                                                NaN   \n\n                                        work_location_2 recruitment_contact  \\\n0     CITYWIDE Unit assignment and work location are...                 NaN   \n1                                                   NaN                 NaN   \n2                                                   NaN                 NaN   \n3                                     55 Water St Ny Ny                 NaN   \n4                                                   NaN                 NaN   \n...                                                 ...                 ...   \n6298                                12 W 14Th St., N.Y.                 NaN   \n6299  59 Maiden Lane (Current location but could be ...                 NaN   \n6300                                                NaN                 NaN   \n6301             516 East Tremont Ave., Bronx, NY 10457                 NaN   \n6302                  31-89 123rd Street, College Point                 NaN   \n\n                                  residency_requirement  \\\n0     New York City Residency is not required for th...   \n1     New York City residency is generally required ...   \n2     New York City residency is generally required ...   \n3     New York City Residency is not required for th...   \n4     New York City residency is generally required ...   \n...                                                 ...   \n6298  New York City residency is generally required ...   \n6299  New York City Residency is not required for th...   \n6300  New York City residency is generally required ...   \n6301  New York City residency is generally required ...   \n6302  New York City residency is generally required ...   \n\n                 posting_date   post_until          posting_updated  \\\n0     2023-03-01T00:00:00.000  31-MAR-2023  2023-03-01T00:00:00.000   \n1     2022-12-29T00:00:00.000          NaN  2023-03-06T00:00:00.000   \n2     2022-08-19T00:00:00.000          NaN  2022-08-19T00:00:00.000   \n3     2022-09-27T00:00:00.000          NaN  2022-10-04T00:00:00.000   \n4     2022-07-15T00:00:00.000          NaN  2022-12-12T00:00:00.000   \n...                       ...          ...                      ...   \n6298  2022-10-19T00:00:00.000          NaN  2023-01-11T00:00:00.000   \n6299  2023-02-23T00:00:00.000  09-MAR-2023  2023-02-22T00:00:00.000   \n6300  2023-03-01T00:00:00.000          NaN  2023-03-01T00:00:00.000   \n6301  2023-02-21T00:00:00.000          NaN  2023-02-22T00:00:00.000   \n6302  2022-04-28T00:00:00.000          NaN  2022-05-02T00:00:00.000   \n\n                 process_date  \n0     2023-03-07T00:00:00.000  \n1     2023-03-07T00:00:00.000  \n2     2023-03-07T00:00:00.000  \n3     2023-03-07T00:00:00.000  \n4     2023-03-07T00:00:00.000  \n...                       ...  \n6298  2023-03-07T00:00:00.000  \n6299  2023-03-07T00:00:00.000  \n6300  2023-03-07T00:00:00.000  \n6301  2023-03-07T00:00:00.000  \n6302  2023-03-07T00:00:00.000  \n\n[6303 rows x 30 columns]",
      "text/html": "<div>\n<style scoped>\n    .dataframe tbody tr th:only-of-type {\n        vertical-align: middle;\n    }\n\n    .dataframe tbody tr th {\n        vertical-align: top;\n    }\n\n    .dataframe thead th {\n        text-align: right;\n    }\n</style>\n<table border=\"1\" class=\"dataframe\">\n  <thead>\n    <tr style=\"text-align: right;\">\n      <th></th>\n      <th>job_id</th>\n      <th>agency</th>\n      <th>posting_type</th>\n      <th>number_of_positions</th>\n      <th>business_title</th>\n      <th>civil_service_title</th>\n      <th>title_classification</th>\n      <th>title_code_no</th>\n      <th>level</th>\n      <th>job_category</th>\n      <th>...</th>\n      <th>additional_information</th>\n      <th>to_apply</th>\n      <th>hours_shift</th>\n      <th>work_location_2</th>\n      <th>recruitment_contact</th>\n      <th>residency_requirement</th>\n      <th>posting_date</th>\n      <th>post_until</th>\n      <th>posting_updated</th>\n      <th>process_date</th>\n    </tr>\n  </thead>\n  <tbody>\n    <tr>\n      <th>0</th>\n      <td>576947</td>\n      <td>DEPARTMENT OF BUILDINGS</td>\n      <td>Internal</td>\n      <td>3</td>\n      <td>Plan Examiner</td>\n      <td>PLAN EXAMINER (BLDGS)</td>\n      <td>Competitive-1</td>\n      <td>22410</td>\n      <td>00</td>\n      <td>Engineering, Architecture, &amp; Planning</td>\n      <td>...</td>\n      <td>You must be able to understand and be understo...</td>\n      <td>For Non-City/External Candidates: Visit the Ex...</td>\n      <td>NaN</td>\n      <td>CITYWIDE Unit assignment and work location are...</td>\n      <td>NaN</td>\n      <td>New York City Residency is not required for th...</td>\n      <td>2023-03-01T00:00:00.000</td>\n      <td>31-MAR-2023</td>\n      <td>2023-03-01T00:00:00.000</td>\n      <td>2023-03-07T00:00:00.000</td>\n    </tr>\n    <tr>\n      <th>1</th>\n      <td>564623</td>\n      <td>OFFICE OF LABOR RELATIONS</td>\n      <td>Internal</td>\n      <td>13</td>\n      <td>Data Processor</td>\n      <td>COMMUNITY ASSISTANT</td>\n      <td>Non-Competitive-5</td>\n      <td>56056</td>\n      <td>00</td>\n      <td>Administration &amp; Human Resources</td>\n      <td>...</td>\n      <td>PLEASE NOTE  THIS IS A TEMPORARY POSITION UNTI...</td>\n      <td>TO APPLY PLEASE SUBMIT YOUR COVER LETTER AND R...</td>\n      <td>NaN</td>\n      <td>NaN</td>\n      <td>NaN</td>\n      <td>New York City residency is generally required ...</td>\n      <td>2022-12-29T00:00:00.000</td>\n      <td>NaN</td>\n      <td>2023-03-06T00:00:00.000</td>\n      <td>2023-03-07T00:00:00.000</td>\n    </tr>\n    <tr>\n      <th>2</th>\n      <td>533544</td>\n      <td>ADMIN FOR CHILDREN'S SVCS</td>\n      <td>External</td>\n      <td>1</td>\n      <td>Security Consultant, Horizon</td>\n      <td>COMMUNITY COORDINATOR</td>\n      <td>Non-Competitive-5</td>\n      <td>56058</td>\n      <td>00</td>\n      <td>Public Safety, Inspections, &amp; Enforcement</td>\n      <td>...</td>\n      <td>Section 424A of the New York Social Services L...</td>\n      <td>Click on the Apply button now.</td>\n      <td>NaN</td>\n      <td>NaN</td>\n      <td>NaN</td>\n      <td>New York City residency is generally required ...</td>\n      <td>2022-08-19T00:00:00.000</td>\n      <td>NaN</td>\n      <td>2022-08-19T00:00:00.000</td>\n      <td>2023-03-07T00:00:00.000</td>\n    </tr>\n    <tr>\n      <th>3</th>\n      <td>545994</td>\n      <td>DEPARTMENT OF TRANSPORTATION</td>\n      <td>Internal</td>\n      <td>1</td>\n      <td>Civil Engineer Level -3</td>\n      <td>CIVIL ENGINEER</td>\n      <td>Competitive-1</td>\n      <td>20215</td>\n      <td>03</td>\n      <td>Engineering, Architecture, &amp; Planning</td>\n      <td>...</td>\n      <td>The City of New York is an inclusive equal opp...</td>\n      <td>Resumes may be submitted electronically using ...</td>\n      <td>35 Hours</td>\n      <td>55 Water St Ny Ny</td>\n      <td>NaN</td>\n      <td>New York City Residency is not required for th...</td>\n      <td>2022-09-27T00:00:00.000</td>\n      <td>NaN</td>\n      <td>2022-10-04T00:00:00.000</td>\n      <td>2023-03-07T00:00:00.000</td>\n    </tr>\n    <tr>\n      <th>4</th>\n      <td>538672</td>\n      <td>HRA/DEPT OF SOCIAL SERVICES</td>\n      <td>External</td>\n      <td>1</td>\n      <td>DIRECTOR, SNT PROGRAM</td>\n      <td>EXECUTIVE AGENCY COUNSEL</td>\n      <td>Non-Competitive-5</td>\n      <td>95005</td>\n      <td>M2</td>\n      <td>Administration &amp; Human Resources Constituent S...</td>\n      <td>...</td>\n      <td>LOAN FORGIVENESS  The federal government provi...</td>\n      <td>Click Apply Now Button</td>\n      <td>Monday to Friday: 9 - 5.</td>\n      <td>NaN</td>\n      <td>NaN</td>\n      <td>New York City residency is generally required ...</td>\n      <td>2022-07-15T00:00:00.000</td>\n      <td>NaN</td>\n      <td>2022-12-12T00:00:00.000</td>\n      <td>2023-03-07T00:00:00.000</td>\n    </tr>\n    <tr>\n      <th>...</th>\n      <td>...</td>\n      <td>...</td>\n      <td>...</td>\n      <td>...</td>\n      <td>...</td>\n      <td>...</td>\n      <td>...</td>\n      <td>...</td>\n      <td>...</td>\n      <td>...</td>\n      <td>...</td>\n      <td>...</td>\n      <td>...</td>\n      <td>...</td>\n      <td>...</td>\n      <td>...</td>\n      <td>...</td>\n      <td>...</td>\n      <td>...</td>\n      <td>...</td>\n      <td>...</td>\n    </tr>\n    <tr>\n      <th>6298</th>\n      <td>553066</td>\n      <td>HRA/DEPT OF SOCIAL SERVICES</td>\n      <td>External</td>\n      <td>1</td>\n      <td>IT MOBILE SUPPORT TECHNICIAN - EHVP</td>\n      <td>TELECOMMUNICATIONS ASSOCIATE (</td>\n      <td>Competitive-1</td>\n      <td>20247</td>\n      <td>02</td>\n      <td>Technology, Data &amp; Innovation</td>\n      <td>...</td>\n      <td>LOAN FORGIVENESS  The federal government provi...</td>\n      <td>Click APPLY NOW Button.</td>\n      <td>Monday â Friday 9am â 5pm or Tuesday - Sat...</td>\n      <td>12 W 14Th St., N.Y.</td>\n      <td>NaN</td>\n      <td>New York City residency is generally required ...</td>\n      <td>2022-10-19T00:00:00.000</td>\n      <td>NaN</td>\n      <td>2023-01-11T00:00:00.000</td>\n      <td>2023-03-07T00:00:00.000</td>\n    </tr>\n    <tr>\n      <th>6299</th>\n      <td>574319</td>\n      <td>DEPARTMENT OF FINANCE</td>\n      <td>Internal</td>\n      <td>1</td>\n      <td>Java Web Developer</td>\n      <td>COMPUTER SPECIALIST (SOFTWARE)</td>\n      <td>Competitive-1</td>\n      <td>13632</td>\n      <td>04</td>\n      <td>Communications &amp; Intergovernmental Affairs Tec...</td>\n      <td>...</td>\n      <td>The City of New York is an inclusive equal opp...</td>\n      <td>Click the Apply Now button.  While we apprecia...</td>\n      <td>Unless otherwise indicated, all positions requ...</td>\n      <td>59 Maiden Lane (Current location but could be ...</td>\n      <td>NaN</td>\n      <td>New York City Residency is not required for th...</td>\n      <td>2023-02-23T00:00:00.000</td>\n      <td>09-MAR-2023</td>\n      <td>2023-02-22T00:00:00.000</td>\n      <td>2023-03-07T00:00:00.000</td>\n    </tr>\n    <tr>\n      <th>6300</th>\n      <td>576201</td>\n      <td>LAW DEPARTMENT</td>\n      <td>Internal</td>\n      <td>2</td>\n      <td>Help Desk Specialist - IT Division</td>\n      <td>COMPUTER AIDE</td>\n      <td>Competitive-1</td>\n      <td>13620</td>\n      <td>02</td>\n      <td>Technology, Data &amp; Innovation</td>\n      <td>...</td>\n      <td>As a current or prospective employee of the Ci...</td>\n      <td>Please click on the Apply Now button.</td>\n      <td>NaN</td>\n      <td>NaN</td>\n      <td>NaN</td>\n      <td>New York City residency is generally required ...</td>\n      <td>2023-03-01T00:00:00.000</td>\n      <td>NaN</td>\n      <td>2023-03-01T00:00:00.000</td>\n      <td>2023-03-07T00:00:00.000</td>\n    </tr>\n    <tr>\n      <th>6301</th>\n      <td>559445</td>\n      <td>POLICE DEPARTMENT</td>\n      <td>Internal</td>\n      <td>1</td>\n      <td>Senior Police Administrative Aide</td>\n      <td>SENIOR POLICE ADMINISTRATIVE A</td>\n      <td>Competitive-1</td>\n      <td>10147</td>\n      <td>00</td>\n      <td>Administration &amp; Human Resources</td>\n      <td>...</td>\n      <td>This lateral opportunity is open to current Se...</td>\n      <td>Click the Apply Now button.</td>\n      <td>MondayxFriday 0700x1500, 0800x1600, 0900x1700</td>\n      <td>516 East Tremont Ave., Bronx, NY 10457</td>\n      <td>NaN</td>\n      <td>New York City residency is generally required ...</td>\n      <td>2023-02-21T00:00:00.000</td>\n      <td>NaN</td>\n      <td>2023-02-22T00:00:00.000</td>\n      <td>2023-03-07T00:00:00.000</td>\n    </tr>\n    <tr>\n      <th>6302</th>\n      <td>530252</td>\n      <td>TAXI &amp; LIMOUSINE COMMISSION</td>\n      <td>Internal</td>\n      <td>1</td>\n      <td>Chief of Training</td>\n      <td>ADMINISTRATIIVE TAXI &amp; LIMOUSI</td>\n      <td>Competitive-1</td>\n      <td>10079</td>\n      <td>M2</td>\n      <td>Public Safety, Inspections, &amp; Enforcement</td>\n      <td>...</td>\n      <td>The City of New York is an inclusive equal opp...</td>\n      <td>Click, APPLY NOW Current city employees must a...</td>\n      <td>NaN</td>\n      <td>31-89 123rd Street, College Point</td>\n      <td>NaN</td>\n      <td>New York City residency is generally required ...</td>\n      <td>2022-04-28T00:00:00.000</td>\n      <td>NaN</td>\n      <td>2022-05-02T00:00:00.000</td>\n      <td>2023-03-07T00:00:00.000</td>\n    </tr>\n  </tbody>\n</table>\n<p>6303 rows × 30 columns</p>\n</div>"
     },
     "execution_count": 7,
     "metadata": {},
     "output_type": "execute_result"
    }
   ],
   "source": [
    "# replaces non alpha numeric characters with an empty string\n",
    "clean_columns(df,['job_description', 'minimum_qualifications', 'preferred_skills', 'additional_information'])"
   ],
   "metadata": {
    "collapsed": false
   }
  },
  {
   "cell_type": "code",
   "execution_count": 8,
   "outputs": [
    {
     "data": {
      "text/plain": "                                     job_description  \\\n0  The Department of Buildings promotes the safet...   \n1  Under supervision with some latitude for indep...   \n2  THIS POSITION IS ONLY AVAILABLE TO CANDIDATES ...   \n3  Serves as Civil Engineer Level 3 in the Bureau...   \n4  The DSS Accountability Office DSS AO is respon...   \n\n                              minimum_qualifications  \\\n0  1 License or Registration Requirement A valid ...   \n1  1 There are no formal education or experience ...   \n2  1 A baccalaureate degree from an accredited co...   \n3  1 Four 4 years of fulltime satisfactory experi...   \n4  Admission to the New York State Bar and four y...   \n\n                                    preferred_skills  \\\n0  Knowledge of the NYC Construction Code and Zon...   \n1  Preference will be given to those candidates w...   \n2  The ideal candidate will demonstrate knowledge...   \n3  Ability to communicate effectively in verbal a...   \n4  Knowledge of Medicaid  Supplemental Needs Trus...   \n\n                              additional_information  \n0  You must be able to understand and be understo...  \n1  PLEASE NOTE  THIS IS A TEMPORARY POSITION UNTI...  \n2  Section 424A of the New York Social Services L...  \n3  The City of New York is an inclusive equal opp...  \n4  LOAN FORGIVENESS  The federal government provi...  ",
      "text/html": "<div>\n<style scoped>\n    .dataframe tbody tr th:only-of-type {\n        vertical-align: middle;\n    }\n\n    .dataframe tbody tr th {\n        vertical-align: top;\n    }\n\n    .dataframe thead th {\n        text-align: right;\n    }\n</style>\n<table border=\"1\" class=\"dataframe\">\n  <thead>\n    <tr style=\"text-align: right;\">\n      <th></th>\n      <th>job_description</th>\n      <th>minimum_qualifications</th>\n      <th>preferred_skills</th>\n      <th>additional_information</th>\n    </tr>\n  </thead>\n  <tbody>\n    <tr>\n      <th>0</th>\n      <td>The Department of Buildings promotes the safet...</td>\n      <td>1 License or Registration Requirement A valid ...</td>\n      <td>Knowledge of the NYC Construction Code and Zon...</td>\n      <td>You must be able to understand and be understo...</td>\n    </tr>\n    <tr>\n      <th>1</th>\n      <td>Under supervision with some latitude for indep...</td>\n      <td>1 There are no formal education or experience ...</td>\n      <td>Preference will be given to those candidates w...</td>\n      <td>PLEASE NOTE  THIS IS A TEMPORARY POSITION UNTI...</td>\n    </tr>\n    <tr>\n      <th>2</th>\n      <td>THIS POSITION IS ONLY AVAILABLE TO CANDIDATES ...</td>\n      <td>1 A baccalaureate degree from an accredited co...</td>\n      <td>The ideal candidate will demonstrate knowledge...</td>\n      <td>Section 424A of the New York Social Services L...</td>\n    </tr>\n    <tr>\n      <th>3</th>\n      <td>Serves as Civil Engineer Level 3 in the Bureau...</td>\n      <td>1 Four 4 years of fulltime satisfactory experi...</td>\n      <td>Ability to communicate effectively in verbal a...</td>\n      <td>The City of New York is an inclusive equal opp...</td>\n    </tr>\n    <tr>\n      <th>4</th>\n      <td>The DSS Accountability Office DSS AO is respon...</td>\n      <td>Admission to the New York State Bar and four y...</td>\n      <td>Knowledge of Medicaid  Supplemental Needs Trus...</td>\n      <td>LOAN FORGIVENESS  The federal government provi...</td>\n    </tr>\n  </tbody>\n</table>\n</div>"
     },
     "execution_count": 8,
     "metadata": {},
     "output_type": "execute_result"
    }
   ],
   "source": [
    "df[['job_description', 'minimum_qualifications','preferred_skills', 'additional_information']].head()"
   ],
   "metadata": {
    "collapsed": false
   }
  },
  {
   "cell_type": "markdown",
   "source": [
    "2. Taking a look at the data type of the columns to make sure they are the right ones for each column\n",
    "Looks like every columns is the data type is supposed to be."
   ],
   "metadata": {
    "collapsed": false
   }
  },
  {
   "cell_type": "code",
   "execution_count": 9,
   "outputs": [
    {
     "name": "stdout",
     "output_type": "stream",
     "text": [
      "<class 'pandas.core.frame.DataFrame'>\n",
      "RangeIndex: 6303 entries, 0 to 6302\n",
      "Data columns (total 30 columns):\n",
      " #   Column                  Non-Null Count  Dtype  \n",
      "---  ------                  --------------  -----  \n",
      " 0   job_id                  6303 non-null   int64  \n",
      " 1   agency                  6303 non-null   object \n",
      " 2   posting_type            6303 non-null   object \n",
      " 3   number_of_positions     6303 non-null   int64  \n",
      " 4   business_title          6303 non-null   object \n",
      " 5   civil_service_title     6303 non-null   object \n",
      " 6   title_classification    6303 non-null   object \n",
      " 7   title_code_no           6303 non-null   object \n",
      " 8   level                   6303 non-null   object \n",
      " 9   job_category            6302 non-null   object \n",
      " 10  employment_type         6070 non-null   object \n",
      " 11  career_level            6302 non-null   object \n",
      " 12  salary_range_from       6303 non-null   float64\n",
      " 13  salary_range_to         6303 non-null   float64\n",
      " 14  salary_frequency        6303 non-null   object \n",
      " 15  work_location           6303 non-null   object \n",
      " 16  division_work_unit      6303 non-null   object \n",
      " 17  job_description         6303 non-null   object \n",
      " 18  minimum_qualifications  6259 non-null   object \n",
      " 19  preferred_skills        5407 non-null   object \n",
      " 20  additional_information  4894 non-null   object \n",
      " 21  to_apply                6303 non-null   object \n",
      " 22  hours_shift             2355 non-null   object \n",
      " 23  work_location_2         2955 non-null   object \n",
      " 24  recruitment_contact     0 non-null      float64\n",
      " 25  residency_requirement   6303 non-null   object \n",
      " 26  posting_date            6303 non-null   object \n",
      " 27  post_until              2256 non-null   object \n",
      " 28  posting_updated         6303 non-null   object \n",
      " 29  process_date            6303 non-null   object \n",
      "dtypes: float64(3), int64(2), object(25)\n",
      "memory usage: 1.4+ MB\n"
     ]
    }
   ],
   "source": [
    "df.info()"
   ],
   "metadata": {
    "collapsed": false
   }
  },
  {
   "cell_type": "markdown",
   "source": [
    "\n",
    "3. Fixing missing and invalid values in the data\n",
    "Next, we would like to know how many NaN for each column. Looking at the columns with nan values are not need for the analysis later."
   ],
   "metadata": {
    "collapsed": false
   }
  },
  {
   "cell_type": "code",
   "execution_count": 10,
   "outputs": [],
   "source": [
    "na_count = df.isna().sum(axis = 0).sort_values(ascending = False)"
   ],
   "metadata": {
    "collapsed": false
   }
  },
  {
   "cell_type": "code",
   "execution_count": 11,
   "outputs": [
    {
     "data": {
      "text/plain": "recruitment_contact       6303\npost_until                4047\nhours_shift               3948\nwork_location_2           3348\nadditional_information    1409\npreferred_skills           896\nemployment_type            233\nminimum_qualifications      44\njob_category                 1\ncareer_level                 1\njob_id                       0\njob_description              0\nposting_updated              0\nposting_date                 0\nresidency_requirement        0\nto_apply                     0\nwork_location                0\ndivision_work_unit           0\nagency                       0\nsalary_frequency             0\nsalary_range_to              0\nsalary_range_from            0\nlevel                        0\ntitle_code_no                0\ntitle_classification         0\ncivil_service_title          0\nbusiness_title               0\nnumber_of_positions          0\nposting_type                 0\nprocess_date                 0\ndtype: int64"
     },
     "execution_count": 11,
     "metadata": {},
     "output_type": "execute_result"
    }
   ],
   "source": [
    "na_count"
   ],
   "metadata": {
    "collapsed": false
   }
  },
  {
   "cell_type": "code",
   "execution_count": 12,
   "outputs": [
    {
     "name": "stdout",
     "output_type": "stream",
     "text": [
      "There are 20230 NaN values in the dataframe.\n"
     ]
    }
   ],
   "source": [
    "print(f'There are', sum(na_count), 'NaN values in the dataframe.')"
   ],
   "metadata": {
    "collapsed": false
   }
  },
  {
   "cell_type": "code",
   "execution_count": 13,
   "outputs": [
    {
     "data": {
      "text/plain": "              job_id  number_of_positions  salary_range_from  salary_range_to  \\\ncount    6303.000000          6303.000000        6303.000000      6303.000000   \nmean   550696.390449             2.897350       59001.394266     81073.720371   \nstd     41038.412639            11.441326       31941.560906     46261.097782   \nmin     97899.000000             1.000000           0.000000        15.000000   \n25%    544177.000000             1.000000       44083.000000     58918.000000   \n50%    561710.000000             1.000000       58700.000000     78074.000000   \n75%    571537.000000             1.000000       75121.000000    105138.000000   \nmax    577722.000000           250.000000      231796.000000    252165.000000   \n\n       recruitment_contact  \ncount                  0.0  \nmean                   NaN  \nstd                    NaN  \nmin                    NaN  \n25%                    NaN  \n50%                    NaN  \n75%                    NaN  \nmax                    NaN  ",
      "text/html": "<div>\n<style scoped>\n    .dataframe tbody tr th:only-of-type {\n        vertical-align: middle;\n    }\n\n    .dataframe tbody tr th {\n        vertical-align: top;\n    }\n\n    .dataframe thead th {\n        text-align: right;\n    }\n</style>\n<table border=\"1\" class=\"dataframe\">\n  <thead>\n    <tr style=\"text-align: right;\">\n      <th></th>\n      <th>job_id</th>\n      <th>number_of_positions</th>\n      <th>salary_range_from</th>\n      <th>salary_range_to</th>\n      <th>recruitment_contact</th>\n    </tr>\n  </thead>\n  <tbody>\n    <tr>\n      <th>count</th>\n      <td>6303.000000</td>\n      <td>6303.000000</td>\n      <td>6303.000000</td>\n      <td>6303.000000</td>\n      <td>0.0</td>\n    </tr>\n    <tr>\n      <th>mean</th>\n      <td>550696.390449</td>\n      <td>2.897350</td>\n      <td>59001.394266</td>\n      <td>81073.720371</td>\n      <td>NaN</td>\n    </tr>\n    <tr>\n      <th>std</th>\n      <td>41038.412639</td>\n      <td>11.441326</td>\n      <td>31941.560906</td>\n      <td>46261.097782</td>\n      <td>NaN</td>\n    </tr>\n    <tr>\n      <th>min</th>\n      <td>97899.000000</td>\n      <td>1.000000</td>\n      <td>0.000000</td>\n      <td>15.000000</td>\n      <td>NaN</td>\n    </tr>\n    <tr>\n      <th>25%</th>\n      <td>544177.000000</td>\n      <td>1.000000</td>\n      <td>44083.000000</td>\n      <td>58918.000000</td>\n      <td>NaN</td>\n    </tr>\n    <tr>\n      <th>50%</th>\n      <td>561710.000000</td>\n      <td>1.000000</td>\n      <td>58700.000000</td>\n      <td>78074.000000</td>\n      <td>NaN</td>\n    </tr>\n    <tr>\n      <th>75%</th>\n      <td>571537.000000</td>\n      <td>1.000000</td>\n      <td>75121.000000</td>\n      <td>105138.000000</td>\n      <td>NaN</td>\n    </tr>\n    <tr>\n      <th>max</th>\n      <td>577722.000000</td>\n      <td>250.000000</td>\n      <td>231796.000000</td>\n      <td>252165.000000</td>\n      <td>NaN</td>\n    </tr>\n  </tbody>\n</table>\n</div>"
     },
     "execution_count": 13,
     "metadata": {},
     "output_type": "execute_result"
    }
   ],
   "source": [
    "df.describe()"
   ],
   "metadata": {
    "collapsed": false
   }
  },
  {
   "cell_type": "markdown",
   "source": [
    "4. Creating new column mean to calculate the mean salary for each job positiion."
   ],
   "metadata": {
    "collapsed": false
   }
  },
  {
   "cell_type": "code",
   "execution_count": 34,
   "outputs": [
    {
     "data": {
      "text/plain": "                                         business_title career_level  \\\n331           2023-BWSO-009-GIS Data Maintenance Intern      Student   \n1465          2023-BWSO-009-GIS Data Maintenance Intern      Student   \n3332                             Data Collection Intern      Student   \n4725                             Data Collection Intern      Student   \n2879  2023-BWS-015-Aquatics Vegetation Analysis, Kin...      Student   \n...                                                 ...          ...   \n4916  Data Analyst - Housing Unit, Bureau of Hepatit...  Entry-Level   \n747                           Analyst  Pension Analysis  Entry-Level   \n5909                          Analyst  Pension Analysis  Entry-Level   \n753                                  Database Developer  Entry-Level   \n5871                                 Database Developer  Entry-Level   \n\n      mean_salary  \n331          22.5  \n1465         22.5  \n3332         25.0  \n4725         25.0  \n2879         25.5  \n...           ...  \n4916      96210.0  \n747      116201.0  \n5909     116201.0  \n753      167500.0  \n5871     167500.0  \n\n[210 rows x 3 columns]",
      "text/html": "<div>\n<style scoped>\n    .dataframe tbody tr th:only-of-type {\n        vertical-align: middle;\n    }\n\n    .dataframe tbody tr th {\n        vertical-align: top;\n    }\n\n    .dataframe thead th {\n        text-align: right;\n    }\n</style>\n<table border=\"1\" class=\"dataframe\">\n  <thead>\n    <tr style=\"text-align: right;\">\n      <th></th>\n      <th>business_title</th>\n      <th>career_level</th>\n      <th>mean_salary</th>\n    </tr>\n  </thead>\n  <tbody>\n    <tr>\n      <th>331</th>\n      <td>2023-BWSO-009-GIS Data Maintenance Intern</td>\n      <td>Student</td>\n      <td>22.5</td>\n    </tr>\n    <tr>\n      <th>1465</th>\n      <td>2023-BWSO-009-GIS Data Maintenance Intern</td>\n      <td>Student</td>\n      <td>22.5</td>\n    </tr>\n    <tr>\n      <th>3332</th>\n      <td>Data Collection Intern</td>\n      <td>Student</td>\n      <td>25.0</td>\n    </tr>\n    <tr>\n      <th>4725</th>\n      <td>Data Collection Intern</td>\n      <td>Student</td>\n      <td>25.0</td>\n    </tr>\n    <tr>\n      <th>2879</th>\n      <td>2023-BWS-015-Aquatics Vegetation Analysis, Kin...</td>\n      <td>Student</td>\n      <td>25.5</td>\n    </tr>\n    <tr>\n      <th>...</th>\n      <td>...</td>\n      <td>...</td>\n      <td>...</td>\n    </tr>\n    <tr>\n      <th>4916</th>\n      <td>Data Analyst - Housing Unit, Bureau of Hepatit...</td>\n      <td>Entry-Level</td>\n      <td>96210.0</td>\n    </tr>\n    <tr>\n      <th>747</th>\n      <td>Analyst  Pension Analysis</td>\n      <td>Entry-Level</td>\n      <td>116201.0</td>\n    </tr>\n    <tr>\n      <th>5909</th>\n      <td>Analyst  Pension Analysis</td>\n      <td>Entry-Level</td>\n      <td>116201.0</td>\n    </tr>\n    <tr>\n      <th>753</th>\n      <td>Database Developer</td>\n      <td>Entry-Level</td>\n      <td>167500.0</td>\n    </tr>\n    <tr>\n      <th>5871</th>\n      <td>Database Developer</td>\n      <td>Entry-Level</td>\n      <td>167500.0</td>\n    </tr>\n  </tbody>\n</table>\n<p>210 rows × 3 columns</p>\n</div>"
     },
     "execution_count": 34,
     "metadata": {},
     "output_type": "execute_result"
    }
   ],
   "source": [
    "df_data_jobs['mean_salary'] = (df['salary_range_to'] + df['salary_range_from'] / 2)\n",
    "df_data_jobs[['business_title', 'career_level', 'mean_salary']]"
   ],
   "metadata": {
    "collapsed": false
   }
  },
  {
   "cell_type": "markdown",
   "source": [
    "5. Dropping columns not needed for analysis\n",
    "6. Dropping row that does not contain any of the keyword"
   ],
   "metadata": {
    "collapsed": false
   }
  },
  {
   "cell_type": "code",
   "execution_count": 18,
   "outputs": [],
   "source": [
    "data_jobs_keywords = ['data', 'intelligence', 'analysis', 'analytics', 'database', 'machine learning', 'database', 'power BI']"
   ],
   "metadata": {
    "collapsed": false
   }
  },
  {
   "cell_type": "code",
   "execution_count": 23,
   "outputs": [],
   "source": [
    "df_data_jobs = df[df['business_title'].str.contains('|'.join(data_jobs_keywords), flags = re.IGNORECASE)]"
   ],
   "metadata": {
    "collapsed": false
   }
  },
  {
   "cell_type": "code",
   "execution_count": 24,
   "outputs": [
    {
     "data": {
      "text/plain": "      job_id                          agency posting_type  \\\n1     564623       OFFICE OF LABOR RELATIONS     Internal   \n10    564623       OFFICE OF LABOR RELATIONS     External   \n30    575854  HOUSING PRESERVATION & DVLPMNT     External   \n58    559206   DEPT OF HEALTH/MENTAL HYGIENE     Internal   \n60    576307      TEACHERS RETIREMENT SYSTEM     Internal   \n...      ...                             ...          ...   \n6149  572615        DEPARTMENT FOR THE AGING     Internal   \n6166  574383     DEPARTMENT OF CITY PLANNING     Internal   \n6179  572795      DEPT OF PARKS & RECREATION     External   \n6180  540619      FINANCIAL INFO SVCS AGENCY     Internal   \n6249  576012                  LAW DEPARTMENT     External   \n\n      number_of_positions                                     business_title  \\\n1                      13                                     Data Processor   \n10                     13                                     Data Processor   \n30                      1  Data & Analytics Manager, Division of Strategi...   \n58                      1  .NET Developer, Bureau of Application Developm...   \n60                      1                                       Data Analyst   \n...                   ...                                                ...   \n6149                    1                     Senior Research & Data Analyst   \n6166                    1                                      Data Engineer   \n6179                    1                                     Data Scientist   \n6180                    1                  DATA CENTER ASSOCIATE â SHIFT D   \n6249                    1  SQL Developer/Database Administrator - IT Divi...   \n\n                 civil_service_title title_classification title_code_no level  \\\n1                COMMUNITY ASSISTANT    Non-Competitive-5         56056    00   \n10               COMMUNITY ASSISTANT    Non-Competitive-5         56056    00   \n30           CITY RESEARCH SCIENTIST    Non-Competitive-5         21744    02   \n58            CYBER SECURITY ANALYST        Competitive-1         13633    02   \n60                     STAFF ANALYST        Competitive-1         12626    01   \n...                              ...                  ...           ...   ...   \n6149         CITY RESEARCH SCIENTIST    Non-Competitive-5         21744    03   \n6166  COMPUTER SPECIALIST (SOFTWARE)        Competitive-1         13632    02   \n6179         CITY RESEARCH SCIENTIST    Non-Competitive-5         21744    03   \n6180  TELECOMMUNICATIONS ASSOCIATE (        Competitive-1         20247    01   \n6249         CERT IT DEVELOPER (APP)        Competitive-1         13643    03   \n\n                                           job_category  ...  \\\n1                      Administration & Human Resources  ...   \n10                     Administration & Human Resources  ...   \n30                          Policy, Research & Analysis  ...   \n58                 Health Technology, Data & Innovation  ...   \n60    Finance, Accounting, & Procurement Technology,...  ...   \n...                                                 ...  ...   \n6149  Constituent Services & Community Programs Comm...  ...   \n6166                      Technology, Data & Innovation  ...   \n6179  Technology, Data & Innovation Policy, Research...  ...   \n6180                      Technology, Data & Innovation  ...   \n6249                      Technology, Data & Innovation  ...   \n\n                                 additional_information  \\\n1     PLEASE NOTE  THIS IS A TEMPORARY POSITION UNTI...   \n10    PLEASE NOTE  THIS IS A TEMPORARY POSITION UNTI...   \n30    This position is also open to qualified person...   \n58    IMPORTANT NOTES TO ALL CANDIDATES  Please note...   \n60    What We Can Offer You  TRSNYC offers a compreh...   \n...                                                 ...   \n6149                                                NaN   \n6166  NOTE ONLY CANDIDATES WHO HAVE A PERMANENT COMP...   \n6179  NOTE References will be required upon request ...   \n6180                                               P140   \n6249   Must be currently serving permanently in the ...   \n\n                                               to_apply  \\\n1     TO APPLY PLEASE SUBMIT YOUR COVER LETTER AND R...   \n10    TO APPLY PLEASE SUBMIT YOUR COVER LETTER AND R...   \n30                                         Apply online   \n58    Apply online with a cover letter to https://a1...   \n60    Apply via ESS (Employee Self-Service).   In or...   \n...                                                 ...   \n6149  Please be sure to submit a resume & cover lett...   \n6166  Only applicants under consideration will be co...   \n6179  Parks Employees: 1) From a Parks computer: Acc...   \n6180  External applicants please visit https://a127-...   \n6249                         Please click on Apply Now.   \n\n                                            hours_shift     work_location_2  \\\n1                                                   NaN                 NaN   \n10                                                  NaN                 NaN   \n30                                                  NaN     100 Gold Street   \n58                                                  NaN                 NaN   \n60                                                  NaN                 NaN   \n...                                                 ...                 ...   \n6149                                                NaN                 NaN   \n6166                                                NaN                 NaN   \n6179                                                NaN  Arsenal, Manhattan   \n6180  The 12-hour/day work schedule will be Mon-Wed ...                 NaN   \n6249                                                NaN                 NaN   \n\n     recruitment_contact                              residency_requirement  \\\n1                    NaN  New York City residency is generally required ...   \n10                   NaN  New York City residency is generally required ...   \n30                   NaN  New York City residency is generally required ...   \n58                   NaN  New York City Residency is not required for th...   \n60                   NaN  New York City residency is generally required ...   \n...                  ...                                                ...   \n6149                 NaN  New York City residency is generally required ...   \n6166                 NaN  New York City Residency is not required for th...   \n6179                 NaN  Residency in New York City, Nassau, Orange, Ro...   \n6180                 NaN  New York City residency is generally required ...   \n6249                 NaN  New York City Residency is not required for th...   \n\n                 posting_date   post_until          posting_updated  \\\n1     2022-12-29T00:00:00.000          NaN  2023-03-06T00:00:00.000   \n10    2022-12-29T00:00:00.000          NaN  2023-03-06T00:00:00.000   \n30    2023-02-21T00:00:00.000  23-MAR-2023  2023-03-01T00:00:00.000   \n58    2023-02-14T00:00:00.000  14-JUN-2023  2023-02-14T00:00:00.000   \n60    2023-02-24T00:00:00.000  14-MAR-2023  2023-03-06T00:00:00.000   \n...                       ...          ...                      ...   \n6149  2023-02-23T00:00:00.000  22-AUG-2023  2023-02-23T00:00:00.000   \n6166  2023-02-13T00:00:00.000          NaN  2023-02-13T00:00:00.000   \n6179  2023-02-03T00:00:00.000          NaN  2023-02-02T00:00:00.000   \n6180  2022-07-15T00:00:00.000          NaN  2022-08-08T00:00:00.000   \n6249  2023-03-01T00:00:00.000          NaN  2023-03-01T00:00:00.000   \n\n                 process_date  \n1     2023-03-07T00:00:00.000  \n10    2023-03-07T00:00:00.000  \n30    2023-03-07T00:00:00.000  \n58    2023-03-07T00:00:00.000  \n60    2023-03-07T00:00:00.000  \n...                       ...  \n6149  2023-03-07T00:00:00.000  \n6166  2023-03-07T00:00:00.000  \n6179  2023-03-07T00:00:00.000  \n6180  2023-03-07T00:00:00.000  \n6249  2023-03-07T00:00:00.000  \n\n[210 rows x 30 columns]",
      "text/html": "<div>\n<style scoped>\n    .dataframe tbody tr th:only-of-type {\n        vertical-align: middle;\n    }\n\n    .dataframe tbody tr th {\n        vertical-align: top;\n    }\n\n    .dataframe thead th {\n        text-align: right;\n    }\n</style>\n<table border=\"1\" class=\"dataframe\">\n  <thead>\n    <tr style=\"text-align: right;\">\n      <th></th>\n      <th>job_id</th>\n      <th>agency</th>\n      <th>posting_type</th>\n      <th>number_of_positions</th>\n      <th>business_title</th>\n      <th>civil_service_title</th>\n      <th>title_classification</th>\n      <th>title_code_no</th>\n      <th>level</th>\n      <th>job_category</th>\n      <th>...</th>\n      <th>additional_information</th>\n      <th>to_apply</th>\n      <th>hours_shift</th>\n      <th>work_location_2</th>\n      <th>recruitment_contact</th>\n      <th>residency_requirement</th>\n      <th>posting_date</th>\n      <th>post_until</th>\n      <th>posting_updated</th>\n      <th>process_date</th>\n    </tr>\n  </thead>\n  <tbody>\n    <tr>\n      <th>1</th>\n      <td>564623</td>\n      <td>OFFICE OF LABOR RELATIONS</td>\n      <td>Internal</td>\n      <td>13</td>\n      <td>Data Processor</td>\n      <td>COMMUNITY ASSISTANT</td>\n      <td>Non-Competitive-5</td>\n      <td>56056</td>\n      <td>00</td>\n      <td>Administration &amp; Human Resources</td>\n      <td>...</td>\n      <td>PLEASE NOTE  THIS IS A TEMPORARY POSITION UNTI...</td>\n      <td>TO APPLY PLEASE SUBMIT YOUR COVER LETTER AND R...</td>\n      <td>NaN</td>\n      <td>NaN</td>\n      <td>NaN</td>\n      <td>New York City residency is generally required ...</td>\n      <td>2022-12-29T00:00:00.000</td>\n      <td>NaN</td>\n      <td>2023-03-06T00:00:00.000</td>\n      <td>2023-03-07T00:00:00.000</td>\n    </tr>\n    <tr>\n      <th>10</th>\n      <td>564623</td>\n      <td>OFFICE OF LABOR RELATIONS</td>\n      <td>External</td>\n      <td>13</td>\n      <td>Data Processor</td>\n      <td>COMMUNITY ASSISTANT</td>\n      <td>Non-Competitive-5</td>\n      <td>56056</td>\n      <td>00</td>\n      <td>Administration &amp; Human Resources</td>\n      <td>...</td>\n      <td>PLEASE NOTE  THIS IS A TEMPORARY POSITION UNTI...</td>\n      <td>TO APPLY PLEASE SUBMIT YOUR COVER LETTER AND R...</td>\n      <td>NaN</td>\n      <td>NaN</td>\n      <td>NaN</td>\n      <td>New York City residency is generally required ...</td>\n      <td>2022-12-29T00:00:00.000</td>\n      <td>NaN</td>\n      <td>2023-03-06T00:00:00.000</td>\n      <td>2023-03-07T00:00:00.000</td>\n    </tr>\n    <tr>\n      <th>30</th>\n      <td>575854</td>\n      <td>HOUSING PRESERVATION &amp; DVLPMNT</td>\n      <td>External</td>\n      <td>1</td>\n      <td>Data &amp; Analytics Manager, Division of Strategi...</td>\n      <td>CITY RESEARCH SCIENTIST</td>\n      <td>Non-Competitive-5</td>\n      <td>21744</td>\n      <td>02</td>\n      <td>Policy, Research &amp; Analysis</td>\n      <td>...</td>\n      <td>This position is also open to qualified person...</td>\n      <td>Apply online</td>\n      <td>NaN</td>\n      <td>100 Gold Street</td>\n      <td>NaN</td>\n      <td>New York City residency is generally required ...</td>\n      <td>2023-02-21T00:00:00.000</td>\n      <td>23-MAR-2023</td>\n      <td>2023-03-01T00:00:00.000</td>\n      <td>2023-03-07T00:00:00.000</td>\n    </tr>\n    <tr>\n      <th>58</th>\n      <td>559206</td>\n      <td>DEPT OF HEALTH/MENTAL HYGIENE</td>\n      <td>Internal</td>\n      <td>1</td>\n      <td>.NET Developer, Bureau of Application Developm...</td>\n      <td>CYBER SECURITY ANALYST</td>\n      <td>Competitive-1</td>\n      <td>13633</td>\n      <td>02</td>\n      <td>Health Technology, Data &amp; Innovation</td>\n      <td>...</td>\n      <td>IMPORTANT NOTES TO ALL CANDIDATES  Please note...</td>\n      <td>Apply online with a cover letter to https://a1...</td>\n      <td>NaN</td>\n      <td>NaN</td>\n      <td>NaN</td>\n      <td>New York City Residency is not required for th...</td>\n      <td>2023-02-14T00:00:00.000</td>\n      <td>14-JUN-2023</td>\n      <td>2023-02-14T00:00:00.000</td>\n      <td>2023-03-07T00:00:00.000</td>\n    </tr>\n    <tr>\n      <th>60</th>\n      <td>576307</td>\n      <td>TEACHERS RETIREMENT SYSTEM</td>\n      <td>Internal</td>\n      <td>1</td>\n      <td>Data Analyst</td>\n      <td>STAFF ANALYST</td>\n      <td>Competitive-1</td>\n      <td>12626</td>\n      <td>01</td>\n      <td>Finance, Accounting, &amp; Procurement Technology,...</td>\n      <td>...</td>\n      <td>What We Can Offer You  TRSNYC offers a compreh...</td>\n      <td>Apply via ESS (Employee Self-Service).   In or...</td>\n      <td>NaN</td>\n      <td>NaN</td>\n      <td>NaN</td>\n      <td>New York City residency is generally required ...</td>\n      <td>2023-02-24T00:00:00.000</td>\n      <td>14-MAR-2023</td>\n      <td>2023-03-06T00:00:00.000</td>\n      <td>2023-03-07T00:00:00.000</td>\n    </tr>\n    <tr>\n      <th>...</th>\n      <td>...</td>\n      <td>...</td>\n      <td>...</td>\n      <td>...</td>\n      <td>...</td>\n      <td>...</td>\n      <td>...</td>\n      <td>...</td>\n      <td>...</td>\n      <td>...</td>\n      <td>...</td>\n      <td>...</td>\n      <td>...</td>\n      <td>...</td>\n      <td>...</td>\n      <td>...</td>\n      <td>...</td>\n      <td>...</td>\n      <td>...</td>\n      <td>...</td>\n      <td>...</td>\n    </tr>\n    <tr>\n      <th>6149</th>\n      <td>572615</td>\n      <td>DEPARTMENT FOR THE AGING</td>\n      <td>Internal</td>\n      <td>1</td>\n      <td>Senior Research &amp; Data Analyst</td>\n      <td>CITY RESEARCH SCIENTIST</td>\n      <td>Non-Competitive-5</td>\n      <td>21744</td>\n      <td>03</td>\n      <td>Constituent Services &amp; Community Programs Comm...</td>\n      <td>...</td>\n      <td>NaN</td>\n      <td>Please be sure to submit a resume &amp; cover lett...</td>\n      <td>NaN</td>\n      <td>NaN</td>\n      <td>NaN</td>\n      <td>New York City residency is generally required ...</td>\n      <td>2023-02-23T00:00:00.000</td>\n      <td>22-AUG-2023</td>\n      <td>2023-02-23T00:00:00.000</td>\n      <td>2023-03-07T00:00:00.000</td>\n    </tr>\n    <tr>\n      <th>6166</th>\n      <td>574383</td>\n      <td>DEPARTMENT OF CITY PLANNING</td>\n      <td>Internal</td>\n      <td>1</td>\n      <td>Data Engineer</td>\n      <td>COMPUTER SPECIALIST (SOFTWARE)</td>\n      <td>Competitive-1</td>\n      <td>13632</td>\n      <td>02</td>\n      <td>Technology, Data &amp; Innovation</td>\n      <td>...</td>\n      <td>NOTE ONLY CANDIDATES WHO HAVE A PERMANENT COMP...</td>\n      <td>Only applicants under consideration will be co...</td>\n      <td>NaN</td>\n      <td>NaN</td>\n      <td>NaN</td>\n      <td>New York City Residency is not required for th...</td>\n      <td>2023-02-13T00:00:00.000</td>\n      <td>NaN</td>\n      <td>2023-02-13T00:00:00.000</td>\n      <td>2023-03-07T00:00:00.000</td>\n    </tr>\n    <tr>\n      <th>6179</th>\n      <td>572795</td>\n      <td>DEPT OF PARKS &amp; RECREATION</td>\n      <td>External</td>\n      <td>1</td>\n      <td>Data Scientist</td>\n      <td>CITY RESEARCH SCIENTIST</td>\n      <td>Non-Competitive-5</td>\n      <td>21744</td>\n      <td>03</td>\n      <td>Technology, Data &amp; Innovation Policy, Research...</td>\n      <td>...</td>\n      <td>NOTE References will be required upon request ...</td>\n      <td>Parks Employees: 1) From a Parks computer: Acc...</td>\n      <td>NaN</td>\n      <td>Arsenal, Manhattan</td>\n      <td>NaN</td>\n      <td>Residency in New York City, Nassau, Orange, Ro...</td>\n      <td>2023-02-03T00:00:00.000</td>\n      <td>NaN</td>\n      <td>2023-02-02T00:00:00.000</td>\n      <td>2023-03-07T00:00:00.000</td>\n    </tr>\n    <tr>\n      <th>6180</th>\n      <td>540619</td>\n      <td>FINANCIAL INFO SVCS AGENCY</td>\n      <td>Internal</td>\n      <td>1</td>\n      <td>DATA CENTER ASSOCIATE â SHIFT D</td>\n      <td>TELECOMMUNICATIONS ASSOCIATE (</td>\n      <td>Competitive-1</td>\n      <td>20247</td>\n      <td>01</td>\n      <td>Technology, Data &amp; Innovation</td>\n      <td>...</td>\n      <td>P140</td>\n      <td>External applicants please visit https://a127-...</td>\n      <td>The 12-hour/day work schedule will be Mon-Wed ...</td>\n      <td>NaN</td>\n      <td>NaN</td>\n      <td>New York City residency is generally required ...</td>\n      <td>2022-07-15T00:00:00.000</td>\n      <td>NaN</td>\n      <td>2022-08-08T00:00:00.000</td>\n      <td>2023-03-07T00:00:00.000</td>\n    </tr>\n    <tr>\n      <th>6249</th>\n      <td>576012</td>\n      <td>LAW DEPARTMENT</td>\n      <td>External</td>\n      <td>1</td>\n      <td>SQL Developer/Database Administrator - IT Divi...</td>\n      <td>CERT IT DEVELOPER (APP)</td>\n      <td>Competitive-1</td>\n      <td>13643</td>\n      <td>03</td>\n      <td>Technology, Data &amp; Innovation</td>\n      <td>...</td>\n      <td>Must be currently serving permanently in the ...</td>\n      <td>Please click on Apply Now.</td>\n      <td>NaN</td>\n      <td>NaN</td>\n      <td>NaN</td>\n      <td>New York City Residency is not required for th...</td>\n      <td>2023-03-01T00:00:00.000</td>\n      <td>NaN</td>\n      <td>2023-03-01T00:00:00.000</td>\n      <td>2023-03-07T00:00:00.000</td>\n    </tr>\n  </tbody>\n</table>\n<p>210 rows × 30 columns</p>\n</div>"
     },
     "execution_count": 24,
     "metadata": {},
     "output_type": "execute_result"
    }
   ],
   "source": [
    "df_data_jobs"
   ],
   "metadata": {
    "collapsed": false
   }
  },
  {
   "cell_type": "code",
   "execution_count": 28,
   "outputs": [
    {
     "data": {
      "text/plain": "                                         business_title  \\\n1                                        Data Processor   \n10                                       Data Processor   \n30    Data & Analytics Manager, Division of Strategi...   \n58    .NET Developer, Bureau of Application Developm...   \n60                                         Data Analyst   \n...                                                 ...   \n6149                     Senior Research & Data Analyst   \n6166                                      Data Engineer   \n6179                                     Data Scientist   \n6180                  DATA CENTER ASSOCIATE â SHIFT D   \n6249  SQL Developer/Database Administrator - IT Divi...   \n\n                   career_level  salary_range_from  salary_range_to  \n1                   Entry-Level            32520.0          42191.0  \n10                  Entry-Level            32520.0          42191.0  \n30    Experienced (non-manager)            80000.0          86830.0  \n58    Experienced (non-manager)            78795.0          90625.0  \n60    Experienced (non-manager)            53797.0          70000.0  \n...                         ...                ...              ...  \n6149  Experienced (non-manager)            84468.0          97138.0  \n6166  Experienced (non-manager)            85371.0         100000.0  \n6179  Experienced (non-manager)            95000.0         105000.0  \n6180  Experienced (non-manager)            43392.0          58918.0  \n6249  Experienced (non-manager)           110000.0         110000.0  \n\n[210 rows x 4 columns]",
      "text/html": "<div>\n<style scoped>\n    .dataframe tbody tr th:only-of-type {\n        vertical-align: middle;\n    }\n\n    .dataframe tbody tr th {\n        vertical-align: top;\n    }\n\n    .dataframe thead th {\n        text-align: right;\n    }\n</style>\n<table border=\"1\" class=\"dataframe\">\n  <thead>\n    <tr style=\"text-align: right;\">\n      <th></th>\n      <th>business_title</th>\n      <th>career_level</th>\n      <th>salary_range_from</th>\n      <th>salary_range_to</th>\n    </tr>\n  </thead>\n  <tbody>\n    <tr>\n      <th>1</th>\n      <td>Data Processor</td>\n      <td>Entry-Level</td>\n      <td>32520.0</td>\n      <td>42191.0</td>\n    </tr>\n    <tr>\n      <th>10</th>\n      <td>Data Processor</td>\n      <td>Entry-Level</td>\n      <td>32520.0</td>\n      <td>42191.0</td>\n    </tr>\n    <tr>\n      <th>30</th>\n      <td>Data &amp; Analytics Manager, Division of Strategi...</td>\n      <td>Experienced (non-manager)</td>\n      <td>80000.0</td>\n      <td>86830.0</td>\n    </tr>\n    <tr>\n      <th>58</th>\n      <td>.NET Developer, Bureau of Application Developm...</td>\n      <td>Experienced (non-manager)</td>\n      <td>78795.0</td>\n      <td>90625.0</td>\n    </tr>\n    <tr>\n      <th>60</th>\n      <td>Data Analyst</td>\n      <td>Experienced (non-manager)</td>\n      <td>53797.0</td>\n      <td>70000.0</td>\n    </tr>\n    <tr>\n      <th>...</th>\n      <td>...</td>\n      <td>...</td>\n      <td>...</td>\n      <td>...</td>\n    </tr>\n    <tr>\n      <th>6149</th>\n      <td>Senior Research &amp; Data Analyst</td>\n      <td>Experienced (non-manager)</td>\n      <td>84468.0</td>\n      <td>97138.0</td>\n    </tr>\n    <tr>\n      <th>6166</th>\n      <td>Data Engineer</td>\n      <td>Experienced (non-manager)</td>\n      <td>85371.0</td>\n      <td>100000.0</td>\n    </tr>\n    <tr>\n      <th>6179</th>\n      <td>Data Scientist</td>\n      <td>Experienced (non-manager)</td>\n      <td>95000.0</td>\n      <td>105000.0</td>\n    </tr>\n    <tr>\n      <th>6180</th>\n      <td>DATA CENTER ASSOCIATE â SHIFT D</td>\n      <td>Experienced (non-manager)</td>\n      <td>43392.0</td>\n      <td>58918.0</td>\n    </tr>\n    <tr>\n      <th>6249</th>\n      <td>SQL Developer/Database Administrator - IT Divi...</td>\n      <td>Experienced (non-manager)</td>\n      <td>110000.0</td>\n      <td>110000.0</td>\n    </tr>\n  </tbody>\n</table>\n<p>210 rows × 4 columns</p>\n</div>"
     },
     "execution_count": 28,
     "metadata": {},
     "output_type": "execute_result"
    }
   ],
   "source": [
    "df_data_jobs = df_data_jobs[['business_title','career_level', 'salary_range_from', 'salary_range_to']]\n",
    "df_data_jobs"
   ],
   "metadata": {
    "collapsed": false
   }
  },
  {
   "cell_type": "markdown",
   "source": [
    "7. Sorting the new dataframe with career level and bottom salary"
   ],
   "metadata": {
    "collapsed": false
   }
  },
  {
   "cell_type": "code",
   "execution_count": 32,
   "outputs": [
    {
     "data": {
      "text/plain": "                                         business_title career_level  \\\n331           2023-BWSO-009-GIS Data Maintenance Intern      Student   \n1465          2023-BWSO-009-GIS Data Maintenance Intern      Student   \n3332                             Data Collection Intern      Student   \n4725                             Data Collection Intern      Student   \n2879  2023-BWS-015-Aquatics Vegetation Analysis, Kin...      Student   \n...                                                 ...          ...   \n4916  Data Analyst - Housing Unit, Bureau of Hepatit...  Entry-Level   \n747                           Analyst  Pension Analysis  Entry-Level   \n5909                          Analyst  Pension Analysis  Entry-Level   \n753                                  Database Developer  Entry-Level   \n5871                                 Database Developer  Entry-Level   \n\n      salary_range_from  salary_range_to  \n331                15.0             15.0  \n1465               15.0             15.0  \n3332               15.0             17.5  \n4725               15.0             17.5  \n2879               17.0             17.0  \n...                 ...              ...  \n4916            64140.0          64140.0  \n747             65604.0          83399.0  \n5909            65604.0          83399.0  \n753             75000.0         130000.0  \n5871            75000.0         130000.0  \n\n[210 rows x 4 columns]",
      "text/html": "<div>\n<style scoped>\n    .dataframe tbody tr th:only-of-type {\n        vertical-align: middle;\n    }\n\n    .dataframe tbody tr th {\n        vertical-align: top;\n    }\n\n    .dataframe thead th {\n        text-align: right;\n    }\n</style>\n<table border=\"1\" class=\"dataframe\">\n  <thead>\n    <tr style=\"text-align: right;\">\n      <th></th>\n      <th>business_title</th>\n      <th>career_level</th>\n      <th>salary_range_from</th>\n      <th>salary_range_to</th>\n    </tr>\n  </thead>\n  <tbody>\n    <tr>\n      <th>331</th>\n      <td>2023-BWSO-009-GIS Data Maintenance Intern</td>\n      <td>Student</td>\n      <td>15.0</td>\n      <td>15.0</td>\n    </tr>\n    <tr>\n      <th>1465</th>\n      <td>2023-BWSO-009-GIS Data Maintenance Intern</td>\n      <td>Student</td>\n      <td>15.0</td>\n      <td>15.0</td>\n    </tr>\n    <tr>\n      <th>3332</th>\n      <td>Data Collection Intern</td>\n      <td>Student</td>\n      <td>15.0</td>\n      <td>17.5</td>\n    </tr>\n    <tr>\n      <th>4725</th>\n      <td>Data Collection Intern</td>\n      <td>Student</td>\n      <td>15.0</td>\n      <td>17.5</td>\n    </tr>\n    <tr>\n      <th>2879</th>\n      <td>2023-BWS-015-Aquatics Vegetation Analysis, Kin...</td>\n      <td>Student</td>\n      <td>17.0</td>\n      <td>17.0</td>\n    </tr>\n    <tr>\n      <th>...</th>\n      <td>...</td>\n      <td>...</td>\n      <td>...</td>\n      <td>...</td>\n    </tr>\n    <tr>\n      <th>4916</th>\n      <td>Data Analyst - Housing Unit, Bureau of Hepatit...</td>\n      <td>Entry-Level</td>\n      <td>64140.0</td>\n      <td>64140.0</td>\n    </tr>\n    <tr>\n      <th>747</th>\n      <td>Analyst  Pension Analysis</td>\n      <td>Entry-Level</td>\n      <td>65604.0</td>\n      <td>83399.0</td>\n    </tr>\n    <tr>\n      <th>5909</th>\n      <td>Analyst  Pension Analysis</td>\n      <td>Entry-Level</td>\n      <td>65604.0</td>\n      <td>83399.0</td>\n    </tr>\n    <tr>\n      <th>753</th>\n      <td>Database Developer</td>\n      <td>Entry-Level</td>\n      <td>75000.0</td>\n      <td>130000.0</td>\n    </tr>\n    <tr>\n      <th>5871</th>\n      <td>Database Developer</td>\n      <td>Entry-Level</td>\n      <td>75000.0</td>\n      <td>130000.0</td>\n    </tr>\n  </tbody>\n</table>\n<p>210 rows × 4 columns</p>\n</div>"
     },
     "execution_count": 32,
     "metadata": {},
     "output_type": "execute_result"
    }
   ],
   "source": [
    "df_data_jobs.sort_values(by = ['career_level', 'salary_range_from'], ascending = [False, True])"
   ],
   "metadata": {
    "collapsed": false
   }
  },
  {
   "cell_type": "markdown",
   "source": [
    "From the table above, we can observe that students/intern make the least followed by entry level then experience non-managers then managerial position and finally executives."
   ],
   "metadata": {
    "collapsed": false
   }
  },
  {
   "cell_type": "markdown",
   "source": [
    "8. Filter the data for only entry level job positions"
   ],
   "metadata": {
    "collapsed": false
   }
  },
  {
   "cell_type": "code",
   "execution_count": 38,
   "outputs": [
    {
     "data": {
      "text/plain": "                                         business_title career_level  \\\n5871                                 Database Developer  Entry-Level   \n753                                  Database Developer  Entry-Level   \n5909                          Analyst  Pension Analysis  Entry-Level   \n747                           Analyst  Pension Analysis  Entry-Level   \n2781  Data Analyst Open Data, Data Analytics, and Re...  Entry-Level   \n6043                  Analyst  Labor Contracts Analysis  Entry-Level   \n5206  Data Analyst Open Data, Data Analytics, and Re...  Entry-Level   \n388                   Analyst  Labor Contracts Analysis  Entry-Level   \n446   Data Analyst - Housing Unit, Bureau of Hepatit...  Entry-Level   \n4916  Data Analyst - Housing Unit, Bureau of Hepatit...  Entry-Level   \n5881                               Intelligence Analyst  Entry-Level   \n5317                               Intelligence Analyst  Entry-Level   \n10                                       Data Processor  Entry-Level   \n1                                        Data Processor  Entry-Level   \n3209  Data Entry/Registration Clerk, Bureau of Publi...  Entry-Level   \n3139  Patient Registration Data Entry Clerk, Bureau ...  Entry-Level   \n2478  Data Entry/Registration Clerk, Bureau of Publi...  Entry-Level   \n2780  Data Entry/Registration Clerk (Part-Time), Bur...  Entry-Level   \n598   Data Entry/Registration Clerk (Part-Time), Bur...  Entry-Level   \n\n      salary_range_from  salary_range_to   mean_salary  \n5871         75000.0000      130000.0000  167500.00000  \n753          75000.0000      130000.0000  167500.00000  \n5909         65604.0000       83399.0000  116201.00000  \n747          65604.0000       83399.0000  116201.00000  \n2781         51550.0000       73806.0000   99581.00000  \n6043         51550.0000       73806.0000   99581.00000  \n5206         51550.0000       73806.0000   99581.00000  \n388          51550.0000       73806.0000   99581.00000  \n446          64140.0000       64140.0000   96210.00000  \n4916         64140.0000       64140.0000   96210.00000  \n5881         38333.0000       45000.0000   64166.50000  \n5317         38333.0000       45000.0000   64166.50000  \n10           32520.0000       42191.0000   58451.00000  \n1            32520.0000       42191.0000   58451.00000  \n3209         32520.0000       37398.0000   53658.00000  \n3139         32520.0000       37398.0000   53658.00000  \n2478         32520.0000       37398.0000   53658.00000  \n2780            15.5747          17.9109      25.69825  \n598             15.5747          17.9109      25.69825  ",
      "text/html": "<div>\n<style scoped>\n    .dataframe tbody tr th:only-of-type {\n        vertical-align: middle;\n    }\n\n    .dataframe tbody tr th {\n        vertical-align: top;\n    }\n\n    .dataframe thead th {\n        text-align: right;\n    }\n</style>\n<table border=\"1\" class=\"dataframe\">\n  <thead>\n    <tr style=\"text-align: right;\">\n      <th></th>\n      <th>business_title</th>\n      <th>career_level</th>\n      <th>salary_range_from</th>\n      <th>salary_range_to</th>\n      <th>mean_salary</th>\n    </tr>\n  </thead>\n  <tbody>\n    <tr>\n      <th>5871</th>\n      <td>Database Developer</td>\n      <td>Entry-Level</td>\n      <td>75000.0000</td>\n      <td>130000.0000</td>\n      <td>167500.00000</td>\n    </tr>\n    <tr>\n      <th>753</th>\n      <td>Database Developer</td>\n      <td>Entry-Level</td>\n      <td>75000.0000</td>\n      <td>130000.0000</td>\n      <td>167500.00000</td>\n    </tr>\n    <tr>\n      <th>5909</th>\n      <td>Analyst  Pension Analysis</td>\n      <td>Entry-Level</td>\n      <td>65604.0000</td>\n      <td>83399.0000</td>\n      <td>116201.00000</td>\n    </tr>\n    <tr>\n      <th>747</th>\n      <td>Analyst  Pension Analysis</td>\n      <td>Entry-Level</td>\n      <td>65604.0000</td>\n      <td>83399.0000</td>\n      <td>116201.00000</td>\n    </tr>\n    <tr>\n      <th>2781</th>\n      <td>Data Analyst Open Data, Data Analytics, and Re...</td>\n      <td>Entry-Level</td>\n      <td>51550.0000</td>\n      <td>73806.0000</td>\n      <td>99581.00000</td>\n    </tr>\n    <tr>\n      <th>6043</th>\n      <td>Analyst  Labor Contracts Analysis</td>\n      <td>Entry-Level</td>\n      <td>51550.0000</td>\n      <td>73806.0000</td>\n      <td>99581.00000</td>\n    </tr>\n    <tr>\n      <th>5206</th>\n      <td>Data Analyst Open Data, Data Analytics, and Re...</td>\n      <td>Entry-Level</td>\n      <td>51550.0000</td>\n      <td>73806.0000</td>\n      <td>99581.00000</td>\n    </tr>\n    <tr>\n      <th>388</th>\n      <td>Analyst  Labor Contracts Analysis</td>\n      <td>Entry-Level</td>\n      <td>51550.0000</td>\n      <td>73806.0000</td>\n      <td>99581.00000</td>\n    </tr>\n    <tr>\n      <th>446</th>\n      <td>Data Analyst - Housing Unit, Bureau of Hepatit...</td>\n      <td>Entry-Level</td>\n      <td>64140.0000</td>\n      <td>64140.0000</td>\n      <td>96210.00000</td>\n    </tr>\n    <tr>\n      <th>4916</th>\n      <td>Data Analyst - Housing Unit, Bureau of Hepatit...</td>\n      <td>Entry-Level</td>\n      <td>64140.0000</td>\n      <td>64140.0000</td>\n      <td>96210.00000</td>\n    </tr>\n    <tr>\n      <th>5881</th>\n      <td>Intelligence Analyst</td>\n      <td>Entry-Level</td>\n      <td>38333.0000</td>\n      <td>45000.0000</td>\n      <td>64166.50000</td>\n    </tr>\n    <tr>\n      <th>5317</th>\n      <td>Intelligence Analyst</td>\n      <td>Entry-Level</td>\n      <td>38333.0000</td>\n      <td>45000.0000</td>\n      <td>64166.50000</td>\n    </tr>\n    <tr>\n      <th>10</th>\n      <td>Data Processor</td>\n      <td>Entry-Level</td>\n      <td>32520.0000</td>\n      <td>42191.0000</td>\n      <td>58451.00000</td>\n    </tr>\n    <tr>\n      <th>1</th>\n      <td>Data Processor</td>\n      <td>Entry-Level</td>\n      <td>32520.0000</td>\n      <td>42191.0000</td>\n      <td>58451.00000</td>\n    </tr>\n    <tr>\n      <th>3209</th>\n      <td>Data Entry/Registration Clerk, Bureau of Publi...</td>\n      <td>Entry-Level</td>\n      <td>32520.0000</td>\n      <td>37398.0000</td>\n      <td>53658.00000</td>\n    </tr>\n    <tr>\n      <th>3139</th>\n      <td>Patient Registration Data Entry Clerk, Bureau ...</td>\n      <td>Entry-Level</td>\n      <td>32520.0000</td>\n      <td>37398.0000</td>\n      <td>53658.00000</td>\n    </tr>\n    <tr>\n      <th>2478</th>\n      <td>Data Entry/Registration Clerk, Bureau of Publi...</td>\n      <td>Entry-Level</td>\n      <td>32520.0000</td>\n      <td>37398.0000</td>\n      <td>53658.00000</td>\n    </tr>\n    <tr>\n      <th>2780</th>\n      <td>Data Entry/Registration Clerk (Part-Time), Bur...</td>\n      <td>Entry-Level</td>\n      <td>15.5747</td>\n      <td>17.9109</td>\n      <td>25.69825</td>\n    </tr>\n    <tr>\n      <th>598</th>\n      <td>Data Entry/Registration Clerk (Part-Time), Bur...</td>\n      <td>Entry-Level</td>\n      <td>15.5747</td>\n      <td>17.9109</td>\n      <td>25.69825</td>\n    </tr>\n  </tbody>\n</table>\n</div>"
     },
     "execution_count": 38,
     "metadata": {},
     "output_type": "execute_result"
    }
   ],
   "source": [
    "df_data_jobs[df_data_jobs['career_level'] == 'Entry-Level'].sort_values('mean_salary', ascending = False)"
   ],
   "metadata": {
    "collapsed": false
   }
  },
  {
   "cell_type": "markdown",
   "source": [
    "9. Converting all string values in a column to Upper cases"
   ],
   "metadata": {
    "collapsed": false
   }
  },
  {
   "cell_type": "code",
   "execution_count": 41,
   "outputs": [
    {
     "data": {
      "text/plain": "331             2023-BWSO-009-GIS DATA MAINTENANCE INTERN\n1465            2023-BWSO-009-GIS DATA MAINTENANCE INTERN\n3332                               DATA COLLECTION INTERN\n4725                               DATA COLLECTION INTERN\n2879    2023-BWS-015-AQUATICS VEGETATION ANALYSIS, KIN...\n                              ...                        \n4916    DATA ANALYST - HOUSING UNIT, BUREAU OF HEPATIT...\n747                             ANALYST  PENSION ANALYSIS\n5909                            ANALYST  PENSION ANALYSIS\n753                                    DATABASE DEVELOPER\n5871                                   DATABASE DEVELOPER\nName: business_title, Length: 210, dtype: object"
     },
     "execution_count": 41,
     "metadata": {},
     "output_type": "execute_result"
    }
   ],
   "source": [
    "df_data_jobs['business_title'].str.upper()"
   ],
   "metadata": {
    "collapsed": false
   }
  },
  {
   "cell_type": "markdown",
   "source": [
    "10. Checking which columns are numeric"
   ],
   "metadata": {
    "collapsed": false
   }
  },
  {
   "cell_type": "code",
   "execution_count": 64,
   "outputs": [],
   "source": [
    "def numeric_columns(df):\n",
    "    numeric_cols = []\n",
    "    for col in df.columns:\n",
    "        if pd.api.types.is_numeric_dtype(df[col]):\n",
    "            numeric_cols.append(col)\n",
    "    return numeric_cols"
   ],
   "metadata": {
    "collapsed": false
   }
  },
  {
   "cell_type": "code",
   "execution_count": 67,
   "outputs": [
    {
     "data": {
      "text/plain": "['salary_range_from', 'salary_range_to', 'mean_salary']"
     },
     "execution_count": 67,
     "metadata": {},
     "output_type": "execute_result"
    }
   ],
   "source": [
    "numeric_columns(df_data_jobs)"
   ],
   "metadata": {
    "collapsed": false
   }
  },
  {
   "cell_type": "code",
   "execution_count": 68,
   "outputs": [
    {
     "data": {
      "text/plain": "['job_id',\n 'number_of_positions',\n 'salary_range_from',\n 'salary_range_to',\n 'recruitment_contact']"
     },
     "execution_count": 68,
     "metadata": {},
     "output_type": "execute_result"
    }
   ],
   "source": [
    "numeric_columns(df)"
   ],
   "metadata": {
    "collapsed": false
   }
  },
  {
   "cell_type": "markdown",
   "source": [
    "11. Grouping the dataset by one column to calculate summary statistics"
   ],
   "metadata": {
    "collapsed": false
   }
  },
  {
   "cell_type": "code",
   "execution_count": 71,
   "outputs": [
    {
     "data": {
      "text/plain": "                                                   mean_salary             \\\n                                                        median       amin   \nbusiness_title                                                              \n.NET Developer, Bureau of Application Developme...   130022.50  130022.50   \n2023-BWS-015-Aquatics Vegetation Analysis, King...       25.50      25.50   \n2023-BWSO-009-GIS Data Maintenance Intern                22.50      22.50   \nAUDIT & QUALITY ASSURANCE DATABASE ASSOCIATE         118316.50  118316.50   \nAnalyst  Labor Contracts Analysis                     99581.00   99581.00   \n...                                                        ...        ...   \nSenior Data and Legal Research Analyst               107500.00  107500.00   \nSenior Research & Data Analyst                       139372.00  139372.00   \nSupervising Analyst / Unit Head  Labor Contract...   145006.50  145006.50   \nTELECOMMUNICATIONS ASSOCIATE (DATA)                  149751.00  149751.00   \nTRANSPORTATION POLICY & ANALYTICS DIVISION SUMM...       26.25      26.25   \n\n                                                               \n                                                         amax  \nbusiness_title                                                 \n.NET Developer, Bureau of Application Developme...  130022.50  \n2023-BWS-015-Aquatics Vegetation Analysis, King...      25.50  \n2023-BWSO-009-GIS Data Maintenance Intern               22.50  \nAUDIT & QUALITY ASSURANCE DATABASE ASSOCIATE        118316.50  \nAnalyst  Labor Contracts Analysis                    99581.00  \n...                                                       ...  \nSenior Data and Legal Research Analyst              107500.00  \nSenior Research & Data Analyst                      139372.00  \nSupervising Analyst / Unit Head  Labor Contract...  145006.50  \nTELECOMMUNICATIONS ASSOCIATE (DATA)                 149751.00  \nTRANSPORTATION POLICY & ANALYTICS DIVISION SUMM...      26.25  \n\n[87 rows x 3 columns]",
      "text/html": "<div>\n<style scoped>\n    .dataframe tbody tr th:only-of-type {\n        vertical-align: middle;\n    }\n\n    .dataframe tbody tr th {\n        vertical-align: top;\n    }\n\n    .dataframe thead tr th {\n        text-align: left;\n    }\n\n    .dataframe thead tr:last-of-type th {\n        text-align: right;\n    }\n</style>\n<table border=\"1\" class=\"dataframe\">\n  <thead>\n    <tr>\n      <th></th>\n      <th colspan=\"3\" halign=\"left\">mean_salary</th>\n    </tr>\n    <tr>\n      <th></th>\n      <th>median</th>\n      <th>amin</th>\n      <th>amax</th>\n    </tr>\n    <tr>\n      <th>business_title</th>\n      <th></th>\n      <th></th>\n      <th></th>\n    </tr>\n  </thead>\n  <tbody>\n    <tr>\n      <th>.NET Developer, Bureau of Application Development and Database Administration</th>\n      <td>130022.50</td>\n      <td>130022.50</td>\n      <td>130022.50</td>\n    </tr>\n    <tr>\n      <th>2023-BWS-015-Aquatics Vegetation Analysis, Kingston</th>\n      <td>25.50</td>\n      <td>25.50</td>\n      <td>25.50</td>\n    </tr>\n    <tr>\n      <th>2023-BWSO-009-GIS Data Maintenance Intern</th>\n      <td>22.50</td>\n      <td>22.50</td>\n      <td>22.50</td>\n    </tr>\n    <tr>\n      <th>AUDIT &amp; QUALITY ASSURANCE DATABASE ASSOCIATE</th>\n      <td>118316.50</td>\n      <td>118316.50</td>\n      <td>118316.50</td>\n    </tr>\n    <tr>\n      <th>Analyst  Labor Contracts Analysis</th>\n      <td>99581.00</td>\n      <td>99581.00</td>\n      <td>99581.00</td>\n    </tr>\n    <tr>\n      <th>...</th>\n      <td>...</td>\n      <td>...</td>\n      <td>...</td>\n    </tr>\n    <tr>\n      <th>Senior Data and Legal Research Analyst</th>\n      <td>107500.00</td>\n      <td>107500.00</td>\n      <td>107500.00</td>\n    </tr>\n    <tr>\n      <th>Senior Research &amp; Data Analyst</th>\n      <td>139372.00</td>\n      <td>139372.00</td>\n      <td>139372.00</td>\n    </tr>\n    <tr>\n      <th>Supervising Analyst / Unit Head  Labor Contract Analysis</th>\n      <td>145006.50</td>\n      <td>145006.50</td>\n      <td>145006.50</td>\n    </tr>\n    <tr>\n      <th>TELECOMMUNICATIONS ASSOCIATE (DATA)</th>\n      <td>149751.00</td>\n      <td>149751.00</td>\n      <td>149751.00</td>\n    </tr>\n    <tr>\n      <th>TRANSPORTATION POLICY &amp; ANALYTICS DIVISION SUMMER COLLEGE INTERN</th>\n      <td>26.25</td>\n      <td>26.25</td>\n      <td>26.25</td>\n    </tr>\n  </tbody>\n</table>\n<p>87 rows × 3 columns</p>\n</div>"
     },
     "execution_count": 71,
     "metadata": {},
     "output_type": "execute_result"
    }
   ],
   "source": [
    "import numpy as np\n",
    "df_data_jobs.groupby('business_title').agg({'mean_salary' : [np.median, np.min, np.max]})"
   ],
   "metadata": {
    "collapsed": false
   }
  },
  {
   "cell_type": "markdown",
   "source": [
    "12. Grouping the data set by two columns"
   ],
   "metadata": {
    "collapsed": false
   }
  },
  {
   "cell_type": "code",
   "execution_count": 87,
   "outputs": [
    {
     "data": {
      "text/plain": "                                                                             mean_salary  \\\n                                                                                  median   \nbusiness_title                                     career_level                            \n.NET Developer, Bureau of Application Developme... Experienced (non-manager)   130022.50   \n2023-BWS-015-Aquatics Vegetation Analysis, King... Student                         25.50   \n2023-BWSO-009-GIS Data Maintenance Intern          Student                         22.50   \nAUDIT & QUALITY ASSURANCE DATABASE ASSOCIATE       Experienced (non-manager)   118316.50   \nAnalyst  Labor Contracts Analysis                  Entry-Level                  99581.00   \n...                                                                                  ...   \nSenior Data and Legal Research Analyst             Experienced (non-manager)   107500.00   \nSenior Research & Data Analyst                     Experienced (non-manager)   139372.00   \nSupervising Analyst / Unit Head  Labor Contract... Manager                     145006.50   \nTELECOMMUNICATIONS ASSOCIATE (DATA)                Experienced (non-manager)   149751.00   \nTRANSPORTATION POLICY & ANALYTICS DIVISION SUMM... Student                         26.25   \n\n                                                                                         \\\n                                                                                   amin   \nbusiness_title                                     career_level                           \n.NET Developer, Bureau of Application Developme... Experienced (non-manager)  130022.50   \n2023-BWS-015-Aquatics Vegetation Analysis, King... Student                        25.50   \n2023-BWSO-009-GIS Data Maintenance Intern          Student                        22.50   \nAUDIT & QUALITY ASSURANCE DATABASE ASSOCIATE       Experienced (non-manager)  118316.50   \nAnalyst  Labor Contracts Analysis                  Entry-Level                 99581.00   \n...                                                                                 ...   \nSenior Data and Legal Research Analyst             Experienced (non-manager)  107500.00   \nSenior Research & Data Analyst                     Experienced (non-manager)  139372.00   \nSupervising Analyst / Unit Head  Labor Contract... Manager                    145006.50   \nTELECOMMUNICATIONS ASSOCIATE (DATA)                Experienced (non-manager)  149751.00   \nTRANSPORTATION POLICY & ANALYTICS DIVISION SUMM... Student                        26.25   \n\n                                                                                         \n                                                                                   amax  \nbusiness_title                                     career_level                          \n.NET Developer, Bureau of Application Developme... Experienced (non-manager)  130022.50  \n2023-BWS-015-Aquatics Vegetation Analysis, King... Student                        25.50  \n2023-BWSO-009-GIS Data Maintenance Intern          Student                        22.50  \nAUDIT & QUALITY ASSURANCE DATABASE ASSOCIATE       Experienced (non-manager)  118316.50  \nAnalyst  Labor Contracts Analysis                  Entry-Level                 99581.00  \n...                                                                                 ...  \nSenior Data and Legal Research Analyst             Experienced (non-manager)  107500.00  \nSenior Research & Data Analyst                     Experienced (non-manager)  139372.00  \nSupervising Analyst / Unit Head  Labor Contract... Manager                    145006.50  \nTELECOMMUNICATIONS ASSOCIATE (DATA)                Experienced (non-manager)  149751.00  \nTRANSPORTATION POLICY & ANALYTICS DIVISION SUMM... Student                        26.25  \n\n[89 rows x 3 columns]",
      "text/html": "<div>\n<style scoped>\n    .dataframe tbody tr th:only-of-type {\n        vertical-align: middle;\n    }\n\n    .dataframe tbody tr th {\n        vertical-align: top;\n    }\n\n    .dataframe thead tr th {\n        text-align: left;\n    }\n\n    .dataframe thead tr:last-of-type th {\n        text-align: right;\n    }\n</style>\n<table border=\"1\" class=\"dataframe\">\n  <thead>\n    <tr>\n      <th></th>\n      <th></th>\n      <th colspan=\"3\" halign=\"left\">mean_salary</th>\n    </tr>\n    <tr>\n      <th></th>\n      <th></th>\n      <th>median</th>\n      <th>amin</th>\n      <th>amax</th>\n    </tr>\n    <tr>\n      <th>business_title</th>\n      <th>career_level</th>\n      <th></th>\n      <th></th>\n      <th></th>\n    </tr>\n  </thead>\n  <tbody>\n    <tr>\n      <th>.NET Developer, Bureau of Application Development and Database Administration</th>\n      <th>Experienced (non-manager)</th>\n      <td>130022.50</td>\n      <td>130022.50</td>\n      <td>130022.50</td>\n    </tr>\n    <tr>\n      <th>2023-BWS-015-Aquatics Vegetation Analysis, Kingston</th>\n      <th>Student</th>\n      <td>25.50</td>\n      <td>25.50</td>\n      <td>25.50</td>\n    </tr>\n    <tr>\n      <th>2023-BWSO-009-GIS Data Maintenance Intern</th>\n      <th>Student</th>\n      <td>22.50</td>\n      <td>22.50</td>\n      <td>22.50</td>\n    </tr>\n    <tr>\n      <th>AUDIT &amp; QUALITY ASSURANCE DATABASE ASSOCIATE</th>\n      <th>Experienced (non-manager)</th>\n      <td>118316.50</td>\n      <td>118316.50</td>\n      <td>118316.50</td>\n    </tr>\n    <tr>\n      <th>Analyst  Labor Contracts Analysis</th>\n      <th>Entry-Level</th>\n      <td>99581.00</td>\n      <td>99581.00</td>\n      <td>99581.00</td>\n    </tr>\n    <tr>\n      <th>...</th>\n      <th>...</th>\n      <td>...</td>\n      <td>...</td>\n      <td>...</td>\n    </tr>\n    <tr>\n      <th>Senior Data and Legal Research Analyst</th>\n      <th>Experienced (non-manager)</th>\n      <td>107500.00</td>\n      <td>107500.00</td>\n      <td>107500.00</td>\n    </tr>\n    <tr>\n      <th>Senior Research &amp; Data Analyst</th>\n      <th>Experienced (non-manager)</th>\n      <td>139372.00</td>\n      <td>139372.00</td>\n      <td>139372.00</td>\n    </tr>\n    <tr>\n      <th>Supervising Analyst / Unit Head  Labor Contract Analysis</th>\n      <th>Manager</th>\n      <td>145006.50</td>\n      <td>145006.50</td>\n      <td>145006.50</td>\n    </tr>\n    <tr>\n      <th>TELECOMMUNICATIONS ASSOCIATE (DATA)</th>\n      <th>Experienced (non-manager)</th>\n      <td>149751.00</td>\n      <td>149751.00</td>\n      <td>149751.00</td>\n    </tr>\n    <tr>\n      <th>TRANSPORTATION POLICY &amp; ANALYTICS DIVISION SUMMER COLLEGE INTERN</th>\n      <th>Student</th>\n      <td>26.25</td>\n      <td>26.25</td>\n      <td>26.25</td>\n    </tr>\n  </tbody>\n</table>\n<p>89 rows × 3 columns</p>\n</div>"
     },
     "execution_count": 87,
     "metadata": {},
     "output_type": "execute_result"
    }
   ],
   "source": [
    "df_median = df_data_jobs.groupby(['business_title', 'career_level']).agg({'mean_salary' : [np.median, np.min, np.max]})\n",
    "df_median"
   ],
   "metadata": {
    "collapsed": false
   }
  },
  {
   "cell_type": "code",
   "execution_count": 95,
   "outputs": [
    {
     "data": {
      "text/plain": "82337.17876315789"
     },
     "execution_count": 95,
     "metadata": {},
     "output_type": "execute_result"
    }
   ],
   "source": [
    "df_entry_level = df_data_jobs[df_data_jobs['career_level'] == \"Entry-Level\"]\n",
    "df_entry_level['mean_salary'].mean()"
   ],
   "metadata": {
    "collapsed": false
   }
  },
  {
   "cell_type": "markdown",
   "source": [
    "## Conclusion\n",
    "\n",
    "There 89 distinct entry-level data-related job listing for NYC government jobs with annual salary mean of $82,000. We notice that data science is not used in only department but rather across different department in different industries which illustrated the versatility and the applicatibilty of data science. Thus, further supports the evidence that data science is a good investment of time and money to learn. Data Science is not locked in any specific industry or field but is in demand in almost every industry."
   ],
   "metadata": {
    "collapsed": false
   }
  }
 ],
 "metadata": {
  "kernelspec": {
   "display_name": "Python 3",
   "language": "python",
   "name": "python3"
  },
  "language_info": {
   "codemirror_mode": {
    "name": "ipython",
    "version": 2
   },
   "file_extension": ".py",
   "mimetype": "text/x-python",
   "name": "python",
   "nbconvert_exporter": "python",
   "pygments_lexer": "ipython2",
   "version": "2.7.6"
  }
 },
 "nbformat": 4,
 "nbformat_minor": 0
}
